{
 "cells": [
  {
   "cell_type": "markdown",
   "id": "1aae77ad-2479-420a-8e5c-cdce940636f6",
   "metadata": {},
   "source": [
    "# From DP to FE\n",
    "Rewrite all the data cleaning, data preprocessing and generation utilities to align inference phase.\n",
    "\n",
    "\n",
    "## Ref\n",
    "https://www.kaggle.com/code/vitalykudelya/enefit-object-oriented-gbdt/notebook"
   ]
  },
  {
   "cell_type": "markdown",
   "id": "14996581-1f4e-45b2-8174-cc144999de01",
   "metadata": {},
   "source": [
    "## Import Packages"
   ]
  },
  {
   "cell_type": "code",
   "execution_count": 2,
   "id": "a2fff392-e8f2-4d88-8578-89f5db783374",
   "metadata": {
    "tags": []
   },
   "outputs": [
    {
     "name": "stdout",
     "output_type": "stream",
     "text": [
      "The autoreload extension is already loaded. To reload it, use:\n",
      "  %reload_ext autoreload\n"
     ]
    }
   ],
   "source": [
    "%load_ext autoreload\n",
    "%autoreload 2\n",
    "import json\n",
    "import re\n",
    "import math\n",
    "import pickle\n",
    "import warnings\n",
    "from datetime import datetime, timedelta\n",
    "from pathlib import Path\n",
    "from typing import Any, Dict, List, Optional, Union, Tuple, Iterator\n",
    "warnings.simplefilter(\"ignore\")\n",
    "\n",
    "import numpy as np\n",
    "import pandas as pd\n",
    "import polars as pl\n",
    "import matplotlib.pyplot as plt\n",
    "import seaborn as sns\n",
    "import plotly.express as px\n",
    "import plotly.graph_objects as go\n",
    "from plotly.subplots import make_subplots\n",
    "from polars.testing import assert_series_equal\n",
    "from sklearn.metrics import mean_absolute_error as mae\n",
    "from sklearn.model_selection import GroupKFold\n",
    "from matplotlib.axes import Axes\n",
    "\n",
    "from metadata import *\n",
    "from cv.build import TSCV\n",
    "\n",
    "pd.options.display.max_columns = None"
   ]
  },
  {
   "cell_type": "code",
   "execution_count": 3,
   "id": "68dc3125-9011-42c1-9c8d-afa0b059fcfd",
   "metadata": {
    "tags": []
   },
   "outputs": [],
   "source": [
    "class CFG:\n",
    "    load_proc_df = False\n",
    "    \n",
    "    tgt_col = \"target\"\n",
    "    fill_wth_null = False"
   ]
  },
  {
   "cell_type": "code",
   "execution_count": 4,
   "id": "65636cec-647c-45fe-878c-c93111e097cf",
   "metadata": {
    "tags": []
   },
   "outputs": [
    {
     "name": "stdout",
     "output_type": "stream",
     "text": [
      "\"\"\"\n",
      "Project metadata for global access.\n",
      "Author: JiaWei\n",
      "\"\"\"\n",
      "import polars as pl\n",
      "\n",
      "# == Data ==\n",
      "UNIT_ID_COL = \"prediction_unit_id\"\n",
      "TGT_COL = \"target\"\n",
      "DBI = \"data_block_id\"\n",
      "TGT_PK_COLS = [\"county\", \"is_business\", \"product_type\"]\n",
      "REVEALED_TGT_COLS = [UNIT_ID_COL, \"datetime\", TGT_COL, \"is_consumption\"]\n",
      "COORD_COL2ABBR = {\"latitude\": \"lat\", \"longitude\": \"lon\"}\n",
      "LOC_COLS = [\"lat\", \"lon\"]\n",
      "PRODUCT_TYPE2NAME = {0: \"Combined\", 1: \"Fixed\", 2: \"General service\", 3: \"Spot\"}\n",
      "\n",
      "# == Join keys ==\n",
      "CLI_JOIN_KEYS = [\"county\", \"is_business\", \"product_type\", \"date\"]\n",
      "# FWTH_JOIN_KEYS = [\"county\", \"datetime\"]\n",
      "# HWTH_JOIN_KEYS = [\"county\", \"datetime\"]\n",
      "REVEALED_TGT_JOIN_KEYS = [UNIT_ID_COL, \"datetime\", \"is_consumption\"]\n",
      "REVEALED_TGT_ROLLING_JOIN_KEYS = [UNIT_ID_COL, \"datetime\", \"is_consumption\"]\n",
      "\n",
      "# == Groupby keys ==\n",
      "FWTH_LGP_KEYS = [\"county\", \"datetime\", DBI]\n",
      "FWTH_GGP_KEYS = [\"datetime\", DBI]\n",
      "\n",
      "HWTH_LGP_KEYS = [\"county\", \"datetime\"]\n",
      "HWTH_GGP_KEYS = [\"datetime\"]\n",
      "REVEALED_TGT_ROLLING_GP_KEYS = [UNIT_ID_COL, \"is_consumption\"]\n",
      "\n",
      "# == Polars expressions ==\n",
      "# Casting\n",
      "CAST_COUNTY = [pl.col(\"county\").cast(pl.Int8)]\n",
      "CAST_COORDS = [pl.col(\"lat\").cast(pl.Float32), pl.col(\"lon\").cast(pl.Float32)]\n",
      "\n",
      "# == Temp ==\n",
      "# Time zone has been fixed in the w data\n",
      "FIX_FWTH_TIMEZONE = False\n",
      "\n"
     ]
    }
   ],
   "source": [
    "!cat metadata.py"
   ]
  },
  {
   "cell_type": "markdown",
   "id": "10a55fe5-3645-472b-aefd-f8cfa2cec950",
   "metadata": {},
   "source": [
    "## Define Local Data Paths"
   ]
  },
  {
   "cell_type": "code",
   "execution_count": 5,
   "id": "ac1b02d6-7ce9-4c1a-8a8f-a95592ea8bda",
   "metadata": {
    "tags": []
   },
   "outputs": [],
   "source": [
    "RAW_DATA_PATH = Path(\"./data/raw/\")\n",
    "PROC_DATA_PATH = Path(\"./data/processed/\")"
   ]
  },
  {
   "cell_type": "markdown",
   "id": "fa279ac4-4484-4f5a-b868-03ba95893dce",
   "metadata": {
    "tags": []
   },
   "source": [
    "## Define Utilities"
   ]
  },
  {
   "cell_type": "code",
   "execution_count": 6,
   "id": "62072dec-8fbd-47a4-9f58-c1acaf1a4230",
   "metadata": {
    "tags": []
   },
   "outputs": [],
   "source": [
    "def _reduce_memory_usage(\n",
    "    df: pl.DataFrame, \n",
    "    cols_to_skip: List[str] = [],\n",
    "    data_name: str = \"\"\n",
    ") -> pl.DataFrame:\n",
    "    \"\"\"Reduce memory usage by dtype casting.\n",
    "    \n",
    "    Args:\n",
    "        df: raw DataFrame\n",
    "        cols_to_skip: columns to skip dtype casting\n",
    "    \n",
    "    Returns:\n",
    "        df: DataFrame with reduced memory footprint\n",
    "    \"\"\"\n",
    "    start_mem = df.estimated_size(\"mb\")\n",
    "    print(f\"Memory usage of {data_name} DataFrame is {start_mem:.2f} MB.\")\n",
    "    \n",
    "    # pl.Uint8, pl.UInt16, pl.UInt32, pl.UInt64\n",
    "    NUM_INT_TYPES = [pl.Int8,pl.Int16,pl.Int32,pl.Int64]\n",
    "    NUM_FLOAT_TYPES = [pl.Float32, pl.Float64]\n",
    "    for col in df.columns:\n",
    "        if col in cols_to_skip: continue\n",
    "        \n",
    "        col_type = df[col].dtype\n",
    "        c_min = df[col].min()\n",
    "        c_max = df[col].max()\n",
    "        if col_type in NUM_INT_TYPES:\n",
    "            if c_min > np.iinfo(np.int8).min and c_max < np.iinfo(np.int8).max:\n",
    "                df = df.with_columns(df[col].cast(pl.Int8))\n",
    "            elif c_min > np.iinfo(np.int16).min and c_max < np.iinfo(np.int16).max:\n",
    "                df = df.with_columns(df[col].cast(pl.Int16))\n",
    "            elif c_min > np.iinfo(np.int32).min and c_max < np.iinfo(np.int32).max:\n",
    "                df = df.with_columns(df[col].cast(pl.Int32))\n",
    "            elif c_min > np.iinfo(np.int64).min and c_max < np.iinfo(np.int64).max:\n",
    "                df = df.with_columns(df[col].cast(pl.Int64))\n",
    "        elif col_type in NUM_FLOAT_TYPES:\n",
    "            if c_min > np.finfo(np.float32).min and c_max < np.finfo(np.float32).max:\n",
    "                df = df.with_columns(df[col].cast(pl.Float32))\n",
    "            else:\n",
    "                pass\n",
    "        elif col_type == pl.Utf8:\n",
    "            df = df.with_columns(df[col].cast(pl.Categorical))\n",
    "        else:\n",
    "            pass\n",
    "    end_mem = df.estimated_size(\"mb\")\n",
    "    print(f\"Memory usage became: {end_mem:.2f} MB.\")\n",
    "    print(f\"-> Total {(start_mem-end_mem) / start_mem * 100}% reduced.\")\n",
    "    \n",
    "\n",
    "    return df"
   ]
  },
  {
   "cell_type": "code",
   "execution_count": 7,
   "id": "7c4b1200-61f5-483d-b28f-31a08ca2433a",
   "metadata": {
    "tags": []
   },
   "outputs": [],
   "source": [
    "def _shift_and_join(\n",
    "    ldf: Union[pl.DataFrame, pl.LazyFrame],\n",
    "    rdf: Union[pl.DataFrame, pl.LazyFrame],\n",
    "    join_keys: List[str],\n",
    "    dt_col: str,\n",
    "    feats: List[str],\n",
    "    shift_amt: str\n",
    ") -> Tuple[Union[pl.DataFrame, pl.LazyFrame], List[str]]:\n",
    "    \"\"\"Perform DataFrame join with the shifted features.\n",
    "    \n",
    "    Left DataFrame is usually the main DataFrame, but this utility can\n",
    "    also be used to extend multiple lookbacks of a homogeneous feat.\n",
    "    \n",
    "    Args:\n",
    "        ldf: left DataFrame, usually the main DataFrame\n",
    "        rdf: right DataFrame\n",
    "        join_keys: join keys\n",
    "        dt_col: datetime column, either \"datetime\" or \"date\"\n",
    "        feats: feature list\n",
    "        shift_amt: shift amount (e.g., 1h, 2d)\n",
    "            *Note: Only \"h\" and \"d\" are supported.\n",
    "        \n",
    "    Returns:\n",
    "        df: joined DataFrame\n",
    "        new_feats: new feature list\n",
    "    \"\"\"\n",
    "    shift_amt_val = int(shift_amt[:-1])\n",
    "    feat_suffix = f\"lag{shift_amt}\" if shift_amt_val != 0 else \"cur\"\n",
    "    feats_map = {feat: f\"{feat}_{feat_suffix}\" for feat in feats}\n",
    "    \n",
    "    if shift_amt_val != 0:\n",
    "        if shift_amt[-1] == \"h\":\n",
    "            # Hour resolution\n",
    "            shifted_dt = pl.col(dt_col) + pl.duration(hours=shift_amt_val)\n",
    "        elif shift_amt[-1] == \"d\":    \n",
    "            # Day resolution\n",
    "            shifted_dt = pl.col(dt_col) + pl.duration(days=shift_amt_val)\n",
    "        if dt_col == \"date\":\n",
    "            shifted_dt = shifted_dt.cast(pl.Date)\n",
    "        rdf = rdf.with_columns(shifted_dt)\n",
    "    df = (\n",
    "        ldf\n",
    "        .join(rdf, on=join_keys, how=\"left\")\n",
    "        .rename(feats_map)\n",
    "    )\n",
    "    new_feats = list(feats_map.values())\n",
    "    \n",
    "    return df, new_feats"
   ]
  },
  {
   "cell_type": "code",
   "execution_count": 8,
   "id": "86e43767-9207-4d11-ae27-5671dafde5a1",
   "metadata": {
    "tags": []
   },
   "outputs": [],
   "source": [
    "def _get_fillnul_exprs(dst_cols: List[str], src_cols: List[str]) -> List[pl.Expr]:\n",
    "    \"\"\"Return expressions of null filling logics, from source column to\n",
    "    destination column.\n",
    "    \n",
    "    Args:\n",
    "        dst_cols: destination column list\n",
    "        src_cols: source column list\n",
    "        \n",
    "    Returns:\n",
    "        fillnul_exprs: expressions of null filling logics\n",
    "    \"\"\"\n",
    "    fillnul_exprs = [\n",
    "        pl.when(pl.col(dst_col).is_null())\n",
    "            .then(pl.col(src_col))\n",
    "            .otherwise(pl.col(dst_col)).alias(dst_col) for dst_col, src_col in zip(dst_cols, src_cols)\n",
    "    ]\n",
    "    \n",
    "    return fillnul_exprs"
   ]
  },
  {
   "cell_type": "markdown",
   "id": "5fe9e179-0644-4315-be72-67d4e7364c44",
   "metadata": {
    "tags": []
   },
   "source": [
    "## Load Data"
   ]
  },
  {
   "cell_type": "code",
   "execution_count": 9,
   "id": "5fbacc11-3fdb-4343-b530-edc49de16318",
   "metadata": {
    "tags": []
   },
   "outputs": [],
   "source": [
    "if not CFG.load_proc_df:\n",
    "    train = pl.read_csv(RAW_DATA_PATH / \"train.csv\", try_parse_dates=True)\n",
    "    client = pl.read_csv(RAW_DATA_PATH / \"client.csv\", try_parse_dates=True)\n",
    "    fwth = pl.read_csv(RAW_DATA_PATH / \"forecast_weather.csv\", try_parse_dates=True)\n",
    "    hwth = pl.read_csv(RAW_DATA_PATH / \"historical_weather.csv\", try_parse_dates=True)\n",
    "    elec = pl.read_csv(RAW_DATA_PATH / \"electricity_prices.csv\", try_parse_dates=True)\n",
    "    gas = pl.read_csv(RAW_DATA_PATH / \"gas_prices.csv\", try_parse_dates=True)\n",
    "else:\n",
    "    train = pl.read_parquet(PROC_DATA_PATH / \"data_eager_new.parquet\")"
   ]
  },
  {
   "cell_type": "code",
   "execution_count": 10,
   "id": "2e35765b-6f25-4cdf-8c18-e9f7fec51473",
   "metadata": {
    "tags": []
   },
   "outputs": [
    {
     "data": {
      "text/plain": [
       "['county',\n",
       " 'is_business',\n",
       " 'product_type',\n",
       " 'target',\n",
       " 'is_consumption',\n",
       " 'datetime',\n",
       " 'data_block_id',\n",
       " 'row_id',\n",
       " 'prediction_unit_id']"
      ]
     },
     "execution_count": 10,
     "metadata": {},
     "output_type": "execute_result"
    }
   ],
   "source": [
    "train.columns"
   ]
  },
  {
   "cell_type": "code",
   "execution_count": 11,
   "id": "333a3f45-15e0-4475-b2c9-c06ff91e1e3a",
   "metadata": {
    "tags": []
   },
   "outputs": [
    {
     "data": {
      "text/plain": [
       "['product_type',\n",
       " 'county',\n",
       " 'eic_count',\n",
       " 'installed_capacity',\n",
       " 'is_business',\n",
       " 'date',\n",
       " 'data_block_id']"
      ]
     },
     "execution_count": 11,
     "metadata": {},
     "output_type": "execute_result"
    }
   ],
   "source": [
    "client.columns"
   ]
  },
  {
   "cell_type": "code",
   "execution_count": 12,
   "id": "b34ec658-10f8-4c59-8001-854d575254ac",
   "metadata": {
    "tags": []
   },
   "outputs": [
    {
     "data": {
      "text/plain": [
       "['latitude',\n",
       " 'longitude',\n",
       " 'origin_datetime',\n",
       " 'hours_ahead',\n",
       " 'temperature',\n",
       " 'dewpoint',\n",
       " 'cloudcover_high',\n",
       " 'cloudcover_low',\n",
       " 'cloudcover_mid',\n",
       " 'cloudcover_total',\n",
       " '10_metre_u_wind_component',\n",
       " '10_metre_v_wind_component',\n",
       " 'data_block_id',\n",
       " 'forecast_datetime',\n",
       " 'direct_solar_radiation',\n",
       " 'surface_solar_radiation_downwards',\n",
       " 'snowfall',\n",
       " 'total_precipitation']"
      ]
     },
     "execution_count": 12,
     "metadata": {},
     "output_type": "execute_result"
    }
   ],
   "source": [
    "fwth.columns"
   ]
  },
  {
   "cell_type": "code",
   "execution_count": 13,
   "id": "050df186-d59a-4ce6-95e0-9ed08512d8d4",
   "metadata": {
    "tags": []
   },
   "outputs": [
    {
     "data": {
      "text/plain": [
       "['datetime',\n",
       " 'temperature',\n",
       " 'dewpoint',\n",
       " 'rain',\n",
       " 'snowfall',\n",
       " 'surface_pressure',\n",
       " 'cloudcover_total',\n",
       " 'cloudcover_low',\n",
       " 'cloudcover_mid',\n",
       " 'cloudcover_high',\n",
       " 'windspeed_10m',\n",
       " 'winddirection_10m',\n",
       " 'shortwave_radiation',\n",
       " 'direct_solar_radiation',\n",
       " 'diffuse_radiation',\n",
       " 'latitude',\n",
       " 'longitude',\n",
       " 'data_block_id']"
      ]
     },
     "execution_count": 13,
     "metadata": {},
     "output_type": "execute_result"
    }
   ],
   "source": [
    "hwth.columns"
   ]
  },
  {
   "cell_type": "code",
   "execution_count": 14,
   "id": "5eb7937c-36f6-4de2-ba5b-7055df18012c",
   "metadata": {
    "tags": []
   },
   "outputs": [
    {
     "data": {
      "text/plain": [
       "['forecast_date', 'euros_per_mwh', 'origin_date', 'data_block_id']"
      ]
     },
     "execution_count": 14,
     "metadata": {},
     "output_type": "execute_result"
    }
   ],
   "source": [
    "elec.columns"
   ]
  },
  {
   "cell_type": "code",
   "execution_count": 15,
   "id": "471a616a-77e8-43a2-b2bd-c30da331da29",
   "metadata": {
    "tags": []
   },
   "outputs": [
    {
     "data": {
      "text/plain": [
       "['forecast_date',\n",
       " 'lowest_price_per_mwh',\n",
       " 'highest_price_per_mwh',\n",
       " 'origin_date',\n",
       " 'data_block_id']"
      ]
     },
     "execution_count": 15,
     "metadata": {},
     "output_type": "execute_result"
    }
   ],
   "source": [
    "gas.columns"
   ]
  },
  {
   "cell_type": "markdown",
   "id": "050c2a44-4aba-412d-91b3-4710ad177e58",
   "metadata": {
    "tags": []
   },
   "source": [
    "## Data Preprocess"
   ]
  },
  {
   "cell_type": "code",
   "execution_count": 9,
   "id": "2974710a-a567-4b0b-8d3e-fbac03b1e6bd",
   "metadata": {
    "tags": []
   },
   "outputs": [
    {
     "name": "stdout",
     "output_type": "stream",
     "text": [
      "Memory usage of train DataFrame is 138.83 MB.\n",
      "Memory usage became: 44.51 MB.\n",
      "-> Total 67.93760831889082% reduced.\n",
      "Memory usage of client DataFrame is 2.08 MB.\n",
      "Memory usage became: 0.60 MB.\n",
      "-> Total 71.15384615384616% reduced.\n",
      "Memory usage of fwth DataFrame is 470.69 MB.\n",
      "Memory usage became: 245.35 MB.\n",
      "-> Total 47.875108412836084% reduced.\n",
      "Memory usage of hwth DataFrame is 234.94 MB.\n",
      "Memory usage became: 101.16 MB.\n",
      "-> Total 56.94444444444444% reduced.\n",
      "Memory usage of elec DataFrame is 0.47 MB.\n",
      "Memory usage became: 0.32 MB.\n",
      "-> Total 31.25% reduced.\n",
      "Memory usage of gas DataFrame is 0.02 MB.\n",
      "Memory usage became: 0.01 MB.\n",
      "-> Total 43.75% reduced.\n"
     ]
    }
   ],
   "source": [
    "train = _reduce_memory_usage(train, data_name=\"train\")\n",
    "client = _reduce_memory_usage(client, data_name=\"client\")\n",
    "fwth = _reduce_memory_usage(fwth, data_name=\"fwth\")\n",
    "hwth = _reduce_memory_usage(hwth, data_name=\"hwth\")\n",
    "elec = _reduce_memory_usage(elec, data_name=\"elec\")\n",
    "gas = _reduce_memory_usage(gas, data_name=\"gas\")"
   ]
  },
  {
   "cell_type": "code",
   "execution_count": 10,
   "id": "4fddfa5b-964c-4cf7-acd2-b43b9ac74fdd",
   "metadata": {
    "tags": []
   },
   "outputs": [],
   "source": [
    "train = train.with_columns(pl.col(\"datetime\").dt.date().alias(\"date\"))"
   ]
  },
  {
   "cell_type": "markdown",
   "id": "7c26bfd6-ade8-48c1-a93f-0bd5d28e7799",
   "metadata": {
    "tags": []
   },
   "source": [
    "### *Client*\n",
    "> Join **day-level** `installed_capacity` and `eic_count` from 2 days ago.\n",
    "1. Get `installed_capacity` and `eic_count` from 2 days ago.\n",
    "    * For modeling with **transformed targets**, the available features come from 2 days ago.\n",
    "\n",
    "<div class=\"alert alert-block alert-danger\">\n",
    "    <p>For features, lagged <code>target_div_cap</code> can be generated by dividing target by <strong>the actual cap and eic values</strong>, because they're already accessible. Or, we can keep things simple to use 2-day lagged ones, just as what we do now.</p>\n",
    "</div>"
   ]
  },
  {
   "cell_type": "code",
   "execution_count": 11,
   "id": "da2626f6-86d2-4f27-93e0-775512a619e2",
   "metadata": {
    "tags": []
   },
   "outputs": [
    {
     "data": {
      "text/plain": [
       "['county', 'is_business', 'product_type', 'date']"
      ]
     },
     "execution_count": 11,
     "metadata": {},
     "output_type": "execute_result"
    }
   ],
   "source": [
    "CLI_JOIN_KEYS"
   ]
  },
  {
   "cell_type": "code",
   "execution_count": 12,
   "id": "5a073bea-f9d1-4753-89cb-c898e853eb02",
   "metadata": {
    "tags": []
   },
   "outputs": [
    {
     "name": "stdout",
     "output_type": "stream",
     "text": [
      "Shift client 2 days and join...\n",
      "['installed_capacity_lag2d', 'eic_count_lag2d'] are generated!\n"
     ]
    }
   ],
   "source": [
    "feats = [\"installed_capacity\", \"eic_count\"]\n",
    "cols_to_drop = [\"data_block_id_right\"]  # Keep DBI for forecast weather\n",
    "\n",
    "for d in range(2, 3):#range(3):\n",
    "    print(f\"Shift client {d} days and join...\")\n",
    "    train, cli_feats = _shift_and_join(\n",
    "        train, \n",
    "        client, \n",
    "        join_keys=CLI_JOIN_KEYS, \n",
    "        feats=feats, \n",
    "        dt_col=\"date\", \n",
    "        shift_amt=f\"{d}d\"\n",
    "    )\n",
    "    print(cli_feats, \"are generated!\")\n",
    "\n",
    "    train = train.drop(cols_to_drop)"
   ]
  },
  {
   "cell_type": "code",
   "execution_count": 13,
   "id": "97ce11a5-067a-40f5-96e2-4e3f30840e74",
   "metadata": {
    "tags": []
   },
   "outputs": [
    {
     "data": {
      "text/html": [
       "<div><style>\n",
       ".dataframe > thead > tr,\n",
       ".dataframe > tbody > tr {\n",
       "  text-align: right;\n",
       "  white-space: pre-wrap;\n",
       "}\n",
       "</style>\n",
       "<small>shape: (1, 2)</small><table border=\"1\" class=\"dataframe\"><thead><tr><th>installed_capacity_lag2d</th><th>eic_count_lag2d</th></tr><tr><td>f64</td><td>f64</td></tr></thead><tbody><tr><td>0.428072</td><td>0.428072</td></tr></tbody></table></div>"
      ],
      "text/plain": [
       "shape: (1, 2)\n",
       "┌──────────────────────────┬─────────────────┐\n",
       "│ installed_capacity_lag2d ┆ eic_count_lag2d │\n",
       "│ ---                      ┆ ---             │\n",
       "│ f64                      ┆ f64             │\n",
       "╞══════════════════════════╪═════════════════╡\n",
       "│ 0.428072                 ┆ 0.428072        │\n",
       "└──────────────────────────┴─────────────────┘"
      ]
     },
     "execution_count": 13,
     "metadata": {},
     "output_type": "execute_result"
    }
   ],
   "source": [
    "train.select(cli_feats).null_count() / len(train) * 100"
   ]
  },
  {
   "cell_type": "markdown",
   "id": "99f13cc1-c462-44e0-acd1-b62d581ffaf2",
   "metadata": {
    "tags": []
   },
   "source": [
    "### *FWTH*\n",
    "> Join **non-shifted** local and global weather stats, because we have the corresponding **forecast timestamp**.\n",
    "1. Some weather stations are scattered outside the counties of Estonia.\n",
    "2. County 12 is always unknown.\n",
    "3. There exist duplicated entries on `2021-10-31 03:00:00` and `2022-10-30 03:00:00`.\n",
    "    * Two rows per loc-datetime.\n",
    "\n",
    "<div class=\"alert alert-block alert-danger\">\n",
    "    <p>Filtering the 24-hour forecast subset per day to prevent overlapping. If rolling features are taken into consideration, we also can use the earlier, but this will be more tricky. Now, we concatenate all 24-hour forecast subsets to form a no-gap sequence! Note that the original_date is at 02:00, so we should take the correct interval of hours_ahead 22 ~ 45 to align with the predicting horizons.</p>\n",
    "    <p>We can derive global stats on all stations or non-null counties only. Also, we can  consider fwth features from lag.</p>\n",
    "</div>\n",
    "\n",
    "> DBI is no need for Kaggle inference, becasuse I always keep the newest FWTH DataFrame, not concat all."
   ]
  },
  {
   "cell_type": "code",
   "execution_count": 14,
   "id": "04003a14-b9ef-487c-81a2-5897fcae2778",
   "metadata": {
    "tags": []
   },
   "outputs": [],
   "source": [
    "def _get_wstn_loc2county() -> pl.DataFrame:\n",
    "    wth_loc2_county = (\n",
    "        pl.read_csv(PROC_DATA_PATH / \"wth_station_latlon2county.csv\")\n",
    "        .drop(\"\")\n",
    "        .rename(COORD_COL2ABBR)\n",
    "        .with_columns(CAST_COUNTY+CAST_COORDS)\n",
    "    )\n",
    "    \n",
    "    return wth_loc2_county"
   ]
  },
  {
   "cell_type": "code",
   "execution_count": 15,
   "id": "56837141-64fc-4230-a589-cda68b63c912",
   "metadata": {
    "tags": []
   },
   "outputs": [
    {
     "name": "stdout",
     "output_type": "stream",
     "text": [
      "There are 75 unique weather stations scattered in 15.\n"
     ]
    }
   ],
   "source": [
    "wstn_loc2county = _get_wstn_loc2county()\n",
    "assert len(wstn_loc2county) == wstn_loc2county.n_unique([\"lat\", \"lon\"])\n",
    "print(f\"There are {wstn_loc2county.n_unique(['lat', 'lon'])} unique weather stations\"\n",
    "      f\" scattered in {wstn_loc2county['county'].n_unique()}.\")"
   ]
  },
  {
   "cell_type": "code",
   "execution_count": 16,
   "id": "28825342-fb55-4133-800b-62781672e680",
   "metadata": {
    "tags": []
   },
   "outputs": [
    {
     "data": {
      "text/html": [
       "<div><style>\n",
       ".dataframe > thead > tr,\n",
       ".dataframe > tbody > tr {\n",
       "  text-align: right;\n",
       "  white-space: pre-wrap;\n",
       "}\n",
       "</style>\n",
       "<small>shape: (1, 17)</small><table border=\"1\" class=\"dataframe\"><thead><tr><th>lat</th><th>lon</th><th>temperature</th><th>dewpoint</th><th>cloudcover_high</th><th>cloudcover_low</th><th>cloudcover_mid</th><th>cloudcover_total</th><th>10_metre_u_wind_component</th><th>10_metre_v_wind_component</th><th>data_block_id</th><th>datetime</th><th>direct_solar_radiation</th><th>surface_solar_radiation_downwards</th><th>snowfall</th><th>total_precipitation</th><th>county</th></tr><tr><td>f32</td><td>f32</td><td>f32</td><td>f32</td><td>f32</td><td>f32</td><td>f32</td><td>f32</td><td>f32</td><td>f32</td><td>i16</td><td>datetime[μs]</td><td>f32</td><td>f32</td><td>f32</td><td>f32</td><td>i8</td></tr></thead><tbody><tr><td>57.599998</td><td>21.700001</td><td>15.655787</td><td>11.553614</td><td>0.904816</td><td>0.019714</td><td>0.0</td><td>0.905899</td><td>-0.411328</td><td>-9.106137</td><td>1</td><td>2021-09-01 03:00:00</td><td>0.0</td><td>0.0</td><td>0.0</td><td>0.0</td><td>null</td></tr></tbody></table></div>"
      ],
      "text/plain": [
       "shape: (1, 17)\n",
       "┌───────────┬───────────┬────────────┬───────────┬───┬────────────┬──────────┬────────────┬────────┐\n",
       "│ lat       ┆ lon       ┆ temperatur ┆ dewpoint  ┆ … ┆ surface_so ┆ snowfall ┆ total_prec ┆ county │\n",
       "│ ---       ┆ ---       ┆ e          ┆ ---       ┆   ┆ lar_radiat ┆ ---      ┆ ipitation  ┆ ---    │\n",
       "│ f32       ┆ f32       ┆ ---        ┆ f32       ┆   ┆ ion_downwa ┆ f32      ┆ ---        ┆ i8     │\n",
       "│           ┆           ┆ f32        ┆           ┆   ┆ rd…        ┆          ┆ f32        ┆        │\n",
       "│           ┆           ┆            ┆           ┆   ┆ ---        ┆          ┆            ┆        │\n",
       "│           ┆           ┆            ┆           ┆   ┆ f32        ┆          ┆            ┆        │\n",
       "╞═══════════╪═══════════╪════════════╪═══════════╪═══╪════════════╪══════════╪════════════╪════════╡\n",
       "│ 57.599998 ┆ 21.700001 ┆ 15.655787  ┆ 11.553614 ┆ … ┆ 0.0        ┆ 0.0      ┆ 0.0        ┆ null   │\n",
       "└───────────┴───────────┴────────────┴───────────┴───┴────────────┴──────────┴────────────┴────────┘"
      ]
     },
     "execution_count": 16,
     "metadata": {},
     "output_type": "execute_result"
    }
   ],
   "source": [
    "fwth = (\n",
    "    fwth\n",
    "    # Time\n",
    "    # .filter(pl.col(\"hours_ahead\") > 24)\n",
    "    # .filter((pl.col(\"hours_ahead\") >= 22) & (pl.col(\"hours_ahead\") < 46))\n",
    "    .rename({\"forecast_datetime\": \"datetime\"})\n",
    "    .drop([\"origin_datetime\", \"hours_ahead\"])\n",
    "    # Location\n",
    "    .rename(COORD_COL2ABBR)\n",
    "    .with_columns(CAST_COORDS)\n",
    "    .join(wstn_loc2county, on=LOC_COLS, how=\"left\")\n",
    ")\n",
    "fwth.head(1)"
   ]
  },
  {
   "cell_type": "code",
   "execution_count": 17,
   "id": "d4b5dcca-df13-4eca-8b8d-40d9ba0c5a5a",
   "metadata": {
    "tags": []
   },
   "outputs": [],
   "source": [
    "# Add other fwth features (e.g., use coord to derive angle and interact with radiation)\n",
    "cols_to_skip = [\"lat\", \"lon\", \"county\", \"datetime\", DBI]\n",
    "fwth_feats = [c for c in fwth.columns if c not in cols_to_skip]"
   ]
  },
  {
   "cell_type": "code",
   "execution_count": 18,
   "id": "1235181a-f9d4-4571-bf40-ef5ee0e2bfe6",
   "metadata": {
    "tags": []
   },
   "outputs": [],
   "source": [
    "# fwth_demo = fwth.to_pandas()\n",
    "# fwth_demo_dup = fwth_demo[fwth_demo[LOC_COLS + [\"datetime\"]].duplicated()]\n",
    "# fwth_demo_dup[\"datetime\"].unique()"
   ]
  },
  {
   "cell_type": "code",
   "execution_count": 19,
   "id": "db6a5432-e8d5-4012-b265-3ab32b9b2d61",
   "metadata": {
    "tags": []
   },
   "outputs": [
    {
     "name": "stdout",
     "output_type": "stream",
     "text": [
      "Temporary workaround on duplicated rows...\n",
      "Before taking unique, fwth shape (3424512, 17)\n",
      "After taking unique, fwth shape (3424064, 17)\n"
     ]
    }
   ],
   "source": [
    "# Handle duplicated rows on daylight savings tweaking days\n",
    "print(f\"Temporary workaround on duplicated rows...\")\n",
    "print(f\"Before taking unique, fwth shape {fwth.shape}\")\n",
    "fwth = fwth.unique(LOC_COLS + [\"datetime\", DBI])\n",
    "print(f\"After taking unique, fwth shape {fwth.shape}\")"
   ]
  },
  {
   "cell_type": "code",
   "execution_count": 20,
   "id": "75f06e6e-197b-4ef8-bda5-9f42f9e60c3c",
   "metadata": {
    "tags": []
   },
   "outputs": [
    {
     "data": {
      "text/html": [
       "<div><style>\n",
       ".dataframe > thead > tr,\n",
       ".dataframe > tbody > tr {\n",
       "  text-align: right;\n",
       "  white-space: pre-wrap;\n",
       "}\n",
       "</style>\n",
       "<small>shape: (1, 15)</small><table border=\"1\" class=\"dataframe\"><thead><tr><th>county</th><th>datetime</th><th>data_block_id</th><th>temperature_local_mean</th><th>dewpoint_local_mean</th><th>cloudcover_high_local_mean</th><th>cloudcover_low_local_mean</th><th>cloudcover_mid_local_mean</th><th>cloudcover_total_local_mean</th><th>10_metre_u_wind_component_local_mean</th><th>10_metre_v_wind_component_local_mean</th><th>direct_solar_radiation_local_mean</th><th>surface_solar_radiation_downwards_local_mean</th><th>snowfall_local_mean</th><th>total_precipitation_local_mean</th></tr><tr><td>i8</td><td>datetime[μs]</td><td>i16</td><td>f32</td><td>f32</td><td>f32</td><td>f32</td><td>f32</td><td>f32</td><td>f32</td><td>f32</td><td>f32</td><td>f32</td><td>f32</td><td>f32</td></tr></thead><tbody><tr><td>15</td><td>2021-09-01 11:00:00</td><td>1</td><td>16.002331</td><td>9.265307</td><td>0.0</td><td>0.174136</td><td>0.105246</td><td>0.229852</td><td>2.786669</td><td>-3.914696</td><td>734.420044</td><td>543.183594</td><td>0.0</td><td>0.000002</td></tr></tbody></table></div>"
      ],
      "text/plain": [
       "shape: (1, 15)\n",
       "┌────────┬────────────┬────────────┬───────────┬───┬───────────┬───────────┬───────────┬───────────┐\n",
       "│ county ┆ datetime   ┆ data_block ┆ temperatu ┆ … ┆ direct_so ┆ surface_s ┆ snowfall_ ┆ total_pre │\n",
       "│ ---    ┆ ---        ┆ _id        ┆ re_local_ ┆   ┆ lar_radia ┆ olar_radi ┆ local_mea ┆ cipitatio │\n",
       "│ i8     ┆ datetime[μ ┆ ---        ┆ mean      ┆   ┆ tion_loca ┆ ation_dow ┆ n         ┆ n_local_m │\n",
       "│        ┆ s]         ┆ i16        ┆ ---       ┆   ┆ l_mea…    ┆ nward…    ┆ ---       ┆ ean       │\n",
       "│        ┆            ┆            ┆ f32       ┆   ┆ ---       ┆ ---       ┆ f32       ┆ ---       │\n",
       "│        ┆            ┆            ┆           ┆   ┆ f32       ┆ f32       ┆           ┆ f32       │\n",
       "╞════════╪════════════╪════════════╪═══════════╪═══╪═══════════╪═══════════╪═══════════╪═══════════╡\n",
       "│ 15     ┆ 2021-09-01 ┆ 1          ┆ 16.002331 ┆ … ┆ 734.42004 ┆ 543.18359 ┆ 0.0       ┆ 0.000002  │\n",
       "│        ┆ 11:00:00   ┆            ┆           ┆   ┆ 4         ┆ 4         ┆           ┆           │\n",
       "└────────┴────────────┴────────────┴───────────┴───┴───────────┴───────────┴───────────┴───────────┘"
      ]
     },
     "metadata": {},
     "output_type": "display_data"
    }
   ],
   "source": [
    "# Which county, which predicting horiz (we already take the non-overlapping 24-hour forecast subset,\n",
    "# so no need to consider DBI due to no overlapping now)\n",
    "# 20231230, pre-filtering is error-prone... back to DBI + \"datetime\"\n",
    "agg_stats = [\n",
    "    *[pl.col(feat).mean().alias(f\"{feat}_local_mean\") for feat in fwth_feats],\n",
    "    # ===\n",
    "    # Add other stats\n",
    "    # ===\n",
    "]\n",
    "fwth_stats_by_county = (\n",
    "    fwth\n",
    "    .filter(pl.col(\"county\").is_not_null())\n",
    "    .group_by(FWTH_LGP_KEYS)\n",
    "    .agg(agg_stats)\n",
    ")\n",
    "display(fwth_stats_by_county.head(1))"
   ]
  },
  {
   "cell_type": "code",
   "execution_count": 21,
   "id": "9fa44c24-042e-4412-9b36-f59b29624725",
   "metadata": {
    "tags": []
   },
   "outputs": [],
   "source": [
    "agg_stats = [\n",
    "    *[pl.col(feat).mean().alias(f\"{feat}_global_mean\") for feat in fwth_feats],\n",
    "    # ===\n",
    "    # Add other stats\n",
    "    # ===\n",
    "]\n",
    "fwth_stats = (\n",
    "    fwth\n",
    "    # ===\n",
    "    # Filter non-null county or not\n",
    "    # ===\n",
    "    .group_by(FWTH_GGP_KEYS)\n",
    "    .agg(agg_stats)\n",
    ")"
   ]
  },
  {
   "cell_type": "markdown",
   "id": "936a6115-7308-4434-84d9-05479f0cbaff",
   "metadata": {},
   "source": [
    "<div class=\"alert alert-block alert-danger\">\n",
    "    Temporarily stop to fillnull for county 12 (having only one unit).\n",
    "</div>"
   ]
  },
  {
   "cell_type": "code",
   "execution_count": 22,
   "id": "2a1eab29-085f-4323-9869-352c76c9fd9e",
   "metadata": {
    "tags": []
   },
   "outputs": [],
   "source": [
    "if CFG.fill_wth_null:\n",
    "    fillnul_exprs = _get_fillnul_exprs(\n",
    "        [f\"{feat}_local_mean\" for feat in fwth_feats],\n",
    "        [f\"{feat}_global_mean\" for feat in fwth_feats]\n",
    "    )\n",
    "    # [\n",
    "    #     pl.when(pl.col(f\"{feat}_local_mean\").is_null())\n",
    "    #         .then(pl.col(f\"{feat}_global_mean\"))\n",
    "    #         .otherwise(pl.col(f\"{feat}_local_mean\")).alias(f\"{feat}_local_mean\") for feat in fwth_feats        \n",
    "    # ]\n",
    "\n",
    "    train = (\n",
    "        train\n",
    "        .join(fwth_stats_by_county, on=FWTH_LGP_KEYS, how=\"left\")\n",
    "        .join(fwth_stats, on=FWTH_GGP_KEYS, how=\"left\")\n",
    "        .with_columns(fillnul_exprs)\n",
    "    )"
   ]
  },
  {
   "cell_type": "code",
   "execution_count": 23,
   "id": "08470b84-143e-4c10-b2c5-36f904a58a27",
   "metadata": {
    "tags": []
   },
   "outputs": [],
   "source": [
    "# train.filter(pl.col(\"temperature_local_mean\").is_null())[\"county\"].value_counts()"
   ]
  },
  {
   "cell_type": "markdown",
   "id": "21fa54cd-7183-4794-8024-013a0c42c8ca",
   "metadata": {
    "tags": []
   },
   "source": [
    "### *HWTH*\n",
    "1. Two deviated weather stations should be dropped, one mapped to county 10 and one null.\n",
    "2. No duplicated rows observed in hwth.\n",
    "3. Some original columns casted to integer are casted to F64 after corresponding stats are derived (those stats can't keep int, so forced to cast to F64???). \n",
    "\n",
    "<div class=\"alert alert-block alert-danger\">\n",
    "    <p>More lags of historical weathers can be joined, including the closest 10 hours or something like that.</p>\n",
    "    <p>Also, DL handling is a little bit different. Because we can use pointers X_s and X_e to access the available data chunks, we don't need to use <code>+ pl.durations(days=n)</code> to shift the features. Btw, DL can also consider the closest 10 hours.</p>\n",
    "</div>"
   ]
  },
  {
   "cell_type": "code",
   "execution_count": 24,
   "id": "f0a80f2d-b0c8-4042-a362-876618f7995b",
   "metadata": {
    "tags": []
   },
   "outputs": [
    {
     "name": "stdout",
     "output_type": "stream",
     "text": [
      "Memory usage of  DataFrame is 234.94 MB.\n",
      "Memory usage became: 101.16 MB.\n",
      "-> Total 56.94444444444444% reduced.\n"
     ]
    }
   ],
   "source": [
    "hwth = pl.read_csv(RAW_DATA_PATH / \"historical_weather.csv\", try_parse_dates=True)\n",
    "hwth = _reduce_memory_usage(hwth)"
   ]
  },
  {
   "cell_type": "code",
   "execution_count": 25,
   "id": "0e138719-beb5-45f8-a5dd-2c0abec6e0c1",
   "metadata": {
    "tags": []
   },
   "outputs": [],
   "source": [
    "stns_to_drop = [\"57.624.2\", \"57.623.2\"]\n",
    "\n",
    "hwth = (\n",
    "    hwth\n",
    "    .rename(COORD_COL2ABBR)\n",
    "    .with_columns(\n",
    "        *CAST_COORDS,\n",
    "        pl.concat_str([pl.col(\"lat\"), pl.col(\"lon\")], separator=\"\").alias(\"loc\")\n",
    "    )\n",
    "    .filter(~pl.col(\"loc\").is_in(stns_to_drop))\n",
    "    .join(wstn_loc2county, on=LOC_COLS, how=\"left\")\n",
    "    .drop([DBI, \"loc\"])\n",
    ")\n",
    "hwth.head(1)\n",
    "assert len(hwth) == hwth.n_unique(LOC_COLS + [\"datetime\"]) # Pass"
   ]
  },
  {
   "cell_type": "code",
   "execution_count": 26,
   "id": "9f5d95c2-dec6-4cc0-8836-d4563fb146dc",
   "metadata": {
    "tags": []
   },
   "outputs": [],
   "source": [
    "# Add other hwth features (e.g., use coord to derive angle and interact with radiation)\n",
    "cols_to_skip = [\"datetime\", \"lat\", \"lon\", \"county\"]\n",
    "hwth_feats = [c for c in hwth.columns if c not in cols_to_skip]"
   ]
  },
  {
   "cell_type": "code",
   "execution_count": 27,
   "id": "19b9669c-32e3-4cb8-84c8-f9dd3b8a5f80",
   "metadata": {
    "tags": []
   },
   "outputs": [
    {
     "data": {
      "text/html": [
       "<div><style>\n",
       ".dataframe > thead > tr,\n",
       ".dataframe > tbody > tr {\n",
       "  text-align: right;\n",
       "  white-space: pre-wrap;\n",
       "}\n",
       "</style>\n",
       "<small>shape: (1, 16)</small><table border=\"1\" class=\"dataframe\"><thead><tr><th>county</th><th>datetime</th><th>temperature_local_mean_hist</th><th>dewpoint_local_mean_hist</th><th>rain_local_mean_hist</th><th>snowfall_local_mean_hist</th><th>surface_pressure_local_mean_hist</th><th>cloudcover_total_local_mean_hist</th><th>cloudcover_low_local_mean_hist</th><th>cloudcover_mid_local_mean_hist</th><th>cloudcover_high_local_mean_hist</th><th>windspeed_10m_local_mean_hist</th><th>winddirection_10m_local_mean_hist</th><th>shortwave_radiation_local_mean_hist</th><th>direct_solar_radiation_local_mean_hist</th><th>diffuse_radiation_local_mean_hist</th></tr><tr><td>i8</td><td>datetime[μs]</td><td>f32</td><td>f32</td><td>f32</td><td>f32</td><td>f32</td><td>f64</td><td>f64</td><td>f64</td><td>f64</td><td>f32</td><td>f64</td><td>f32</td><td>f32</td><td>f32</td></tr></thead><tbody><tr><td>1</td><td>2021-09-01 01:00:00</td><td>13.733334</td><td>10.783334</td><td>0.0</td><td>0.0</td><td>1015.68335</td><td>15.833333</td><td>5.833333</td><td>0.0</td><td>35.833333</td><td>7.129629</td><td>353.166667</td><td>0.0</td><td>0.0</td><td>0.0</td></tr></tbody></table></div>"
      ],
      "text/plain": [
       "shape: (1, 16)\n",
       "┌────────┬────────────┬────────────┬───────────┬───┬───────────┬───────────┬───────────┬───────────┐\n",
       "│ county ┆ datetime   ┆ temperatur ┆ dewpoint_ ┆ … ┆ winddirec ┆ shortwave ┆ direct_so ┆ diffuse_r │\n",
       "│ ---    ┆ ---        ┆ e_local_me ┆ local_mea ┆   ┆ tion_10m_ ┆ _radiatio ┆ lar_radia ┆ adiation_ │\n",
       "│ i8     ┆ datetime[μ ┆ an_hist    ┆ n_hist    ┆   ┆ local_mea ┆ n_local_m ┆ tion_loca ┆ local_mea │\n",
       "│        ┆ s]         ┆ ---        ┆ ---       ┆   ┆ n_his…    ┆ ean_h…    ┆ l_mea…    ┆ n_his…    │\n",
       "│        ┆            ┆ f32        ┆ f32       ┆   ┆ ---       ┆ ---       ┆ ---       ┆ ---       │\n",
       "│        ┆            ┆            ┆           ┆   ┆ f64       ┆ f32       ┆ f32       ┆ f32       │\n",
       "╞════════╪════════════╪════════════╪═══════════╪═══╪═══════════╪═══════════╪═══════════╪═══════════╡\n",
       "│ 1      ┆ 2021-09-01 ┆ 13.733334  ┆ 10.783334 ┆ … ┆ 353.16666 ┆ 0.0       ┆ 0.0       ┆ 0.0       │\n",
       "│        ┆ 01:00:00   ┆            ┆           ┆   ┆ 7         ┆           ┆           ┆           │\n",
       "└────────┴────────────┴────────────┴───────────┴───┴───────────┴───────────┴───────────┴───────────┘"
      ]
     },
     "metadata": {},
     "output_type": "display_data"
    }
   ],
   "source": [
    "# Which county, which predicting horiz\n",
    "agg_stats = [\n",
    "    *[pl.col(feat).mean().alias(f\"{feat}_local_mean_hist\") for feat in hwth_feats],\n",
    "    # ===\n",
    "    # Add other stats\n",
    "    # ===\n",
    "]\n",
    "hwth_stats_by_county = (\n",
    "    hwth\n",
    "    .filter(pl.col(\"county\").is_not_null())\n",
    "    .group_by(HWTH_LGP_KEYS)\n",
    "    .agg(agg_stats)\n",
    ")\n",
    "display(hwth_stats_by_county.head(1))"
   ]
  },
  {
   "cell_type": "code",
   "execution_count": 28,
   "id": "71168d81-39c5-4e5d-8b25-cbbf28d2464e",
   "metadata": {
    "tags": []
   },
   "outputs": [
    {
     "data": {
      "text/html": [
       "<div><style>\n",
       ".dataframe > thead > tr,\n",
       ".dataframe > tbody > tr {\n",
       "  text-align: right;\n",
       "  white-space: pre-wrap;\n",
       "}\n",
       "</style>\n",
       "<small>shape: (5, 15)</small><table border=\"1\" class=\"dataframe\"><thead><tr><th>datetime</th><th>temperature_global_mean_hist</th><th>dewpoint_global_mean_hist</th><th>rain_global_mean_hist</th><th>snowfall_global_mean_hist</th><th>surface_pressure_global_mean_hist</th><th>cloudcover_total_global_mean_hist</th><th>cloudcover_low_global_mean_hist</th><th>cloudcover_mid_global_mean_hist</th><th>cloudcover_high_global_mean_hist</th><th>windspeed_10m_global_mean_hist</th><th>winddirection_10m_global_mean_hist</th><th>shortwave_radiation_global_mean_hist</th><th>direct_solar_radiation_global_mean_hist</th><th>diffuse_radiation_global_mean_hist</th></tr><tr><td>datetime[μs]</td><td>f32</td><td>f32</td><td>f32</td><td>f32</td><td>f32</td><td>f64</td><td>f64</td><td>f64</td><td>f64</td><td>f32</td><td>f64</td><td>f32</td><td>f32</td><td>f32</td></tr></thead><tbody><tr><td>2021-09-02 07:00:00</td><td>10.583638</td><td>6.308183</td><td>0.014545</td><td>0.0</td><td>1010.553528</td><td>24.281818</td><td>20.009091</td><td>10.436364</td><td>0.245455</td><td>5.496717</td><td>325.590909</td><td>83.627274</td><td>45.627274</td><td>38.0</td></tr><tr><td>2022-08-23 19:00:00</td><td>23.552725</td><td>18.348185</td><td>0.010909</td><td>0.0</td><td>1015.98468</td><td>15.0</td><td>7.072727</td><td>12.5</td><td>3.627273</td><td>2.560606</td><td>180.881818</td><td>81.290909</td><td>43.463634</td><td>37.827274</td></tr><tr><td>2022-07-12 13:00:00</td><td>20.797272</td><td>17.110912</td><td>0.321818</td><td>0.0</td><td>1005.250732</td><td>85.572727</td><td>51.981818</td><td>50.227273</td><td>72.609091</td><td>7.369193</td><td>71.463636</td><td>368.072723</td><td>119.709091</td><td>248.363632</td></tr><tr><td>2023-05-10 01:00:00</td><td>6.20909</td><td>1.365455</td><td>0.0</td><td>0.0</td><td>1020.023743</td><td>33.745455</td><td>0.0</td><td>9.318182</td><td>93.681818</td><td>2.250253</td><td>204.290909</td><td>0.0</td><td>0.0</td><td>0.0</td></tr><tr><td>2021-11-01 04:00:00</td><td>8.222729</td><td>6.820002</td><td>0.0</td><td>0.0</td><td>1008.831848</td><td>89.0</td><td>85.872727</td><td>0.881818</td><td>56.172727</td><td>3.380556</td><td>185.227273</td><td>0.0</td><td>0.0</td><td>0.0</td></tr></tbody></table></div>"
      ],
      "text/plain": [
       "shape: (5, 15)\n",
       "┌───────────┬───────────┬───────────┬───────────┬───┬───────────┬───────────┬───────────┬──────────┐\n",
       "│ datetime  ┆ temperatu ┆ dewpoint_ ┆ rain_glob ┆ … ┆ winddirec ┆ shortwave ┆ direct_so ┆ diffuse_ │\n",
       "│ ---       ┆ re_global ┆ global_me ┆ al_mean_h ┆   ┆ tion_10m_ ┆ _radiatio ┆ lar_radia ┆ radiatio │\n",
       "│ datetime[ ┆ _mean_his ┆ an_hist   ┆ ist       ┆   ┆ global_me ┆ n_global_ ┆ tion_glob ┆ n_global │\n",
       "│ μs]       ┆ t         ┆ ---       ┆ ---       ┆   ┆ an_hi…    ┆ mean_…    ┆ al_me…    ┆ _mean_hi │\n",
       "│           ┆ ---       ┆ f32       ┆ f32       ┆   ┆ ---       ┆ ---       ┆ ---       ┆ …        │\n",
       "│           ┆ f32       ┆           ┆           ┆   ┆ f64       ┆ f32       ┆ f32       ┆ ---      │\n",
       "│           ┆           ┆           ┆           ┆   ┆           ┆           ┆           ┆ f32      │\n",
       "╞═══════════╪═══════════╪═══════════╪═══════════╪═══╪═══════════╪═══════════╪═══════════╪══════════╡\n",
       "│ 2021-09-0 ┆ 10.583638 ┆ 6.308183  ┆ 0.014545  ┆ … ┆ 325.59090 ┆ 83.627274 ┆ 45.627274 ┆ 38.0     │\n",
       "│ 2         ┆           ┆           ┆           ┆   ┆ 9         ┆           ┆           ┆          │\n",
       "│ 07:00:00  ┆           ┆           ┆           ┆   ┆           ┆           ┆           ┆          │\n",
       "│ 2022-08-2 ┆ 23.552725 ┆ 18.348185 ┆ 0.010909  ┆ … ┆ 180.88181 ┆ 81.290909 ┆ 43.463634 ┆ 37.82727 │\n",
       "│ 3         ┆           ┆           ┆           ┆   ┆ 8         ┆           ┆           ┆ 4        │\n",
       "│ 19:00:00  ┆           ┆           ┆           ┆   ┆           ┆           ┆           ┆          │\n",
       "│ 2022-07-1 ┆ 20.797272 ┆ 17.110912 ┆ 0.321818  ┆ … ┆ 71.463636 ┆ 368.07272 ┆ 119.70909 ┆ 248.3636 │\n",
       "│ 2         ┆           ┆           ┆           ┆   ┆           ┆ 3         ┆ 1         ┆ 32       │\n",
       "│ 13:00:00  ┆           ┆           ┆           ┆   ┆           ┆           ┆           ┆          │\n",
       "│ 2023-05-1 ┆ 6.20909   ┆ 1.365455  ┆ 0.0       ┆ … ┆ 204.29090 ┆ 0.0       ┆ 0.0       ┆ 0.0      │\n",
       "│ 0         ┆           ┆           ┆           ┆   ┆ 9         ┆           ┆           ┆          │\n",
       "│ 01:00:00  ┆           ┆           ┆           ┆   ┆           ┆           ┆           ┆          │\n",
       "│ 2021-11-0 ┆ 8.222729  ┆ 6.820002  ┆ 0.0       ┆ … ┆ 185.22727 ┆ 0.0       ┆ 0.0       ┆ 0.0      │\n",
       "│ 1         ┆           ┆           ┆           ┆   ┆ 3         ┆           ┆           ┆          │\n",
       "│ 04:00:00  ┆           ┆           ┆           ┆   ┆           ┆           ┆           ┆          │\n",
       "└───────────┴───────────┴───────────┴───────────┴───┴───────────┴───────────┴───────────┴──────────┘"
      ]
     },
     "execution_count": 28,
     "metadata": {},
     "output_type": "execute_result"
    }
   ],
   "source": [
    "agg_stats = [\n",
    "    *[pl.col(feat).mean().alias(f\"{feat}_global_mean_hist\") for feat in hwth_feats],\n",
    "    # ===\n",
    "    # Add other stats\n",
    "    # ===\n",
    "]\n",
    "hwth_stats = (\n",
    "    hwth\n",
    "    # ===\n",
    "    # Filter non-null county or not\n",
    "    # ===\n",
    "    .group_by(HWTH_GGP_KEYS)\n",
    "    .agg(agg_stats)\n",
    ")\n",
    "\n",
    "hwth_stats.head()"
   ]
  },
  {
   "cell_type": "code",
   "execution_count": 29,
   "id": "a1c648c3-d779-4b95-a26c-58fe4051ee46",
   "metadata": {
    "tags": []
   },
   "outputs": [],
   "source": [
    "hwth_l_stats = [c for c in hwth_stats_by_county.columns if c.endswith(\"_local_mean_hist\")]\n",
    "hwth_g_stats = [c for c in hwth_stats.columns if c.endswith(\"_global_mean_hist\")]"
   ]
  },
  {
   "cell_type": "code",
   "execution_count": 30,
   "id": "fd55d6f9-abca-49f8-a54b-72d6f27e0270",
   "metadata": {
    "tags": []
   },
   "outputs": [],
   "source": [
    "# train, hwth_l_feats = _shift_and_join(\n",
    "#     train, \n",
    "#     hwth_stats_by_county, \n",
    "#     join_keys=HWTH_LGP_KEYS, \n",
    "#     dt_col=\"datetime\",\n",
    "#     feats=hwth_l_stats,\n",
    "#     shift_amt=\"2d\"\n",
    "# )\n",
    "# train, hwth_g_feats = _shift_and_join(\n",
    "#     train,\n",
    "#     hwth_stats,\n",
    "#     join_keys=HWTH_GGP_KEYS, \n",
    "#     dt_col=\"datetime\", \n",
    "#     feats=hwth_g_stats,\n",
    "#     shift_amt=\"2d\"\n",
    "# )\n",
    "\n",
    "# fillnul_exprs = _get_fillnul_exprs(hwth_l_feats, hwth_g_feats)\n",
    "# train = train.with_columns(fillnul_exprs)"
   ]
  },
  {
   "cell_type": "code",
   "execution_count": 31,
   "id": "d73bc9a4-4aa2-4bde-b879-b777bd9f915d",
   "metadata": {
    "tags": []
   },
   "outputs": [],
   "source": [
    "train, hwth_l_feats = _shift_and_join(\n",
    "    train, \n",
    "    hwth_stats_by_county, \n",
    "    join_keys=HWTH_LGP_KEYS, \n",
    "    dt_col=\"datetime\",\n",
    "    feats=hwth_l_stats,\n",
    "    shift_amt=\"7d\"\n",
    ")\n",
    "train, hwth_g_feats = _shift_and_join(\n",
    "    train,\n",
    "    hwth_stats,\n",
    "    join_keys=HWTH_GGP_KEYS, \n",
    "    dt_col=\"datetime\", \n",
    "    feats=hwth_g_stats,\n",
    "    shift_amt=\"7d\"\n",
    ")\n",
    "\n",
    "if CFG.fill_wth_null:\n",
    "    fillnul_exprs = _get_fillnul_exprs(hwth_l_feats, hwth_g_feats)\n",
    "    train = train.with_columns(fillnul_exprs)"
   ]
  },
  {
   "cell_type": "code",
   "execution_count": 32,
   "id": "8808971a-24ab-402a-8e3d-45462aebd29f",
   "metadata": {
    "tags": []
   },
   "outputs": [
    {
     "data": {
      "text/html": [
       "<div><style>\n",
       ".dataframe > thead > tr,\n",
       ".dataframe > tbody > tr {\n",
       "  text-align: right;\n",
       "  white-space: pre-wrap;\n",
       "}\n",
       "</style>\n",
       "<small>shape: (1, 28)</small><table border=\"1\" class=\"dataframe\"><thead><tr><th>temperature_local_mean_hist_lag7d</th><th>dewpoint_local_mean_hist_lag7d</th><th>rain_local_mean_hist_lag7d</th><th>snowfall_local_mean_hist_lag7d</th><th>surface_pressure_local_mean_hist_lag7d</th><th>cloudcover_total_local_mean_hist_lag7d</th><th>cloudcover_low_local_mean_hist_lag7d</th><th>cloudcover_mid_local_mean_hist_lag7d</th><th>cloudcover_high_local_mean_hist_lag7d</th><th>windspeed_10m_local_mean_hist_lag7d</th><th>winddirection_10m_local_mean_hist_lag7d</th><th>shortwave_radiation_local_mean_hist_lag7d</th><th>direct_solar_radiation_local_mean_hist_lag7d</th><th>diffuse_radiation_local_mean_hist_lag7d</th><th>temperature_global_mean_hist_lag7d</th><th>dewpoint_global_mean_hist_lag7d</th><th>rain_global_mean_hist_lag7d</th><th>snowfall_global_mean_hist_lag7d</th><th>surface_pressure_global_mean_hist_lag7d</th><th>cloudcover_total_global_mean_hist_lag7d</th><th>cloudcover_low_global_mean_hist_lag7d</th><th>cloudcover_mid_global_mean_hist_lag7d</th><th>cloudcover_high_global_mean_hist_lag7d</th><th>windspeed_10m_global_mean_hist_lag7d</th><th>winddirection_10m_global_mean_hist_lag7d</th><th>shortwave_radiation_global_mean_hist_lag7d</th><th>direct_solar_radiation_global_mean_hist_lag7d</th><th>diffuse_radiation_global_mean_hist_lag7d</th></tr><tr><td>f64</td><td>f64</td><td>f64</td><td>f64</td><td>f64</td><td>f64</td><td>f64</td><td>f64</td><td>f64</td><td>f64</td><td>f64</td><td>f64</td><td>f64</td><td>f64</td><td>f64</td><td>f64</td><td>f64</td><td>f64</td><td>f64</td><td>f64</td><td>f64</td><td>f64</td><td>f64</td><td>f64</td><td>f64</td><td>f64</td><td>f64</td><td>f64</td></tr></thead><tbody><tr><td>0.025161</td><td>0.025161</td><td>0.025161</td><td>0.025161</td><td>0.025161</td><td>0.025161</td><td>0.025161</td><td>0.025161</td><td>0.025161</td><td>0.025161</td><td>0.025161</td><td>0.025161</td><td>0.025161</td><td>0.025161</td><td>0.010155</td><td>0.010155</td><td>0.010155</td><td>0.010155</td><td>0.010155</td><td>0.010155</td><td>0.010155</td><td>0.010155</td><td>0.010155</td><td>0.010155</td><td>0.010155</td><td>0.010155</td><td>0.010155</td><td>0.010155</td></tr></tbody></table></div>"
      ],
      "text/plain": [
       "shape: (1, 28)\n",
       "┌───────────┬───────────┬───────────┬───────────┬───┬───────────┬───────────┬───────────┬──────────┐\n",
       "│ temperatu ┆ dewpoint_ ┆ rain_loca ┆ snowfall_ ┆ … ┆ winddirec ┆ shortwave ┆ direct_so ┆ diffuse_ │\n",
       "│ re_local_ ┆ local_mea ┆ l_mean_hi ┆ local_mea ┆   ┆ tion_10m_ ┆ _radiatio ┆ lar_radia ┆ radiatio │\n",
       "│ mean_hist ┆ n_hist_la ┆ st_lag7d  ┆ n_hist_la ┆   ┆ global_me ┆ n_global_ ┆ tion_glob ┆ n_global │\n",
       "│ _lag7…    ┆ g7d       ┆ ---       ┆ g7d       ┆   ┆ an_hi…    ┆ mean_…    ┆ al_me…    ┆ _mean_hi │\n",
       "│ ---       ┆ ---       ┆ f64       ┆ ---       ┆   ┆ ---       ┆ ---       ┆ ---       ┆ …        │\n",
       "│ f64       ┆ f64       ┆           ┆ f64       ┆   ┆ f64       ┆ f64       ┆ f64       ┆ ---      │\n",
       "│           ┆           ┆           ┆           ┆   ┆           ┆           ┆           ┆ f64      │\n",
       "╞═══════════╪═══════════╪═══════════╪═══════════╪═══╪═══════════╪═══════════╪═══════════╪══════════╡\n",
       "│ 0.025161  ┆ 0.025161  ┆ 0.025161  ┆ 0.025161  ┆ … ┆ 0.010155  ┆ 0.010155  ┆ 0.010155  ┆ 0.010155 │\n",
       "└───────────┴───────────┴───────────┴───────────┴───┴───────────┴───────────┴───────────┴──────────┘"
      ]
     },
     "execution_count": 32,
     "metadata": {},
     "output_type": "execute_result"
    }
   ],
   "source": [
    "train.select(hwth_l_feats+hwth_g_feats).null_count() / len(train)"
   ]
  },
  {
   "cell_type": "markdown",
   "id": "c1886452-3b37-4ffe-b8ec-4d788d73dc6b",
   "metadata": {
    "jp-MarkdownHeadingCollapsed": true,
    "tags": []
   },
   "source": [
    "### *Elec*\n",
    "<div class=\"alert alert-block alert-warning\">\n",
    "    Postponed...\n",
    "</div>"
   ]
  },
  {
   "cell_type": "code",
   "execution_count": 35,
   "id": "e3851e0c-16b1-4dc7-ad6d-88cc17781737",
   "metadata": {
    "tags": []
   },
   "outputs": [
    {
     "data": {
      "text/html": [
       "<div><style>\n",
       ".dataframe > thead > tr,\n",
       ".dataframe > tbody > tr {\n",
       "  text-align: right;\n",
       "  white-space: pre-wrap;\n",
       "}\n",
       "</style>\n",
       "<small>shape: (5, 4)</small><table border=\"1\" class=\"dataframe\"><thead><tr><th>forecast_date</th><th>euros_per_mwh</th><th>origin_date</th><th>data_block_id</th></tr><tr><td>datetime[μs]</td><td>f32</td><td>datetime[μs]</td><td>i16</td></tr></thead><tbody><tr><td>2021-09-01 00:00:00</td><td>92.510002</td><td>2021-08-31 00:00:00</td><td>1</td></tr><tr><td>2021-09-01 01:00:00</td><td>88.900002</td><td>2021-08-31 01:00:00</td><td>1</td></tr><tr><td>2021-09-01 02:00:00</td><td>87.349998</td><td>2021-08-31 02:00:00</td><td>1</td></tr><tr><td>2021-09-01 03:00:00</td><td>86.879997</td><td>2021-08-31 03:00:00</td><td>1</td></tr><tr><td>2021-09-01 04:00:00</td><td>88.43</td><td>2021-08-31 04:00:00</td><td>1</td></tr></tbody></table></div>"
      ],
      "text/plain": [
       "shape: (5, 4)\n",
       "┌─────────────────────┬───────────────┬─────────────────────┬───────────────┐\n",
       "│ forecast_date       ┆ euros_per_mwh ┆ origin_date         ┆ data_block_id │\n",
       "│ ---                 ┆ ---           ┆ ---                 ┆ ---           │\n",
       "│ datetime[μs]        ┆ f32           ┆ datetime[μs]        ┆ i16           │\n",
       "╞═════════════════════╪═══════════════╪═════════════════════╪═══════════════╡\n",
       "│ 2021-09-01 00:00:00 ┆ 92.510002     ┆ 2021-08-31 00:00:00 ┆ 1             │\n",
       "│ 2021-09-01 01:00:00 ┆ 88.900002     ┆ 2021-08-31 01:00:00 ┆ 1             │\n",
       "│ 2021-09-01 02:00:00 ┆ 87.349998     ┆ 2021-08-31 02:00:00 ┆ 1             │\n",
       "│ 2021-09-01 03:00:00 ┆ 86.879997     ┆ 2021-08-31 03:00:00 ┆ 1             │\n",
       "│ 2021-09-01 04:00:00 ┆ 88.43         ┆ 2021-08-31 04:00:00 ┆ 1             │\n",
       "└─────────────────────┴───────────────┴─────────────────────┴───────────────┘"
      ]
     },
     "execution_count": 35,
     "metadata": {},
     "output_type": "execute_result"
    }
   ],
   "source": [
    "elec.head()"
   ]
  },
  {
   "cell_type": "markdown",
   "id": "d39dfca8-1e5f-48e5-a6d7-775571b6e17e",
   "metadata": {},
   "source": [
    "### *Gas*\n",
    "<div class=\"alert alert-block alert-warning\">\n",
    "    Postponed...\n",
    "</div>"
   ]
  },
  {
   "cell_type": "markdown",
   "id": "a140c4db-dbaa-4d11-b79c-02dff33ceda0",
   "metadata": {
    "tags": []
   },
   "source": [
    "### *Revealed Targets*"
   ]
  },
  {
   "cell_type": "code",
   "execution_count": 33,
   "id": "d5c8a1a1-35cc-405c-967d-89149bd1c12e",
   "metadata": {
    "tags": []
   },
   "outputs": [],
   "source": [
    "train = train.with_columns([\n",
    "    (pl.col(\"target\") / pl.col(\"installed_capacity_lag2d\")).alias(\"target_div_cap_lag2d\"),\n",
    "    # (pl.col(\"target\") / pl.col(\"eic_count_lag2d\")).alias(\"target_div_eic_lag2d\")\n",
    "])"
   ]
  },
  {
   "cell_type": "markdown",
   "id": "3f8639dc-f798-4180-9bd5-3214e52001ab",
   "metadata": {},
   "source": [
    "#### **Stats along Spatial Dim**"
   ]
  },
  {
   "cell_type": "code",
   "execution_count": 34,
   "id": "69ea6f5d-8eac-4e46-83f5-a0499c4cb7d5",
   "metadata": {
    "tags": []
   },
   "outputs": [],
   "source": [
    "# The base groupby keys for deriving target stats along spatial dim\n",
    "# The same target type at the same time\n",
    "BASE_TGT_GP_KEYS = [\"is_consumption\", \"datetime\"]"
   ]
  },
  {
   "cell_type": "markdown",
   "id": "dd15c74a-efad-4362-b7e1-c132a69d51da",
   "metadata": {},
   "source": [
    "1. `county`: Determine spatial granularity\n",
    "2. `is_business`: Determine service type\n",
    "3. `product_type`: Determine contract type\n",
    "\n",
    "Choose combination!"
   ]
  },
  {
   "cell_type": "code",
   "execution_count": 35,
   "id": "59d6cbcb-1c66-43d0-82df-c71f9baf7e46",
   "metadata": {
    "tags": []
   },
   "outputs": [
    {
     "data": {
      "text/html": [
       "<div><style>\n",
       ".dataframe > thead > tr,\n",
       ".dataframe > tbody > tr {\n",
       "  text-align: right;\n",
       "  white-space: pre-wrap;\n",
       "}\n",
       "</style>\n",
       "<small>shape: (1,)</small><table border=\"1\" class=\"dataframe\"><thead><tr><th>prediction_unit_id</th></tr><tr><td>i8</td></tr></thead><tbody><tr><td>49</td></tr></tbody></table></div>"
      ],
      "text/plain": [
       "shape: (1,)\n",
       "Series: 'prediction_unit_id' [i8]\n",
       "[\n",
       "\t49\n",
       "]"
      ]
     },
     "execution_count": 35,
     "metadata": {},
     "output_type": "execute_result"
    }
   ],
   "source": [
    "train.filter(pl.col(\"county\") == 12)[UNIT_ID_COL].unique()"
   ]
  },
  {
   "cell_type": "markdown",
   "id": "012b0e4f-bfb1-4457-a929-b2f90cf38938",
   "metadata": {},
   "source": [
    "For local stats, `county` is always used. Basically, two types of keys are used,\n",
    "1. `[\"county\", \"is_business\"]`\n",
    "2. `[\"county\", \"product_type\"]`\n",
    "\n",
    "`[\"county\", \"is_business\", \"product_type\"]` already defines an unique unit."
   ]
  },
  {
   "cell_type": "code",
   "execution_count": 36,
   "id": "9d00dd0c-88be-4379-9815-6d04c879df19",
   "metadata": {
    "tags": []
   },
   "outputs": [],
   "source": [
    "tgt_cols = [\"target\", \"target_div_cap_lag2d\"]"
   ]
  },
  {
   "cell_type": "code",
   "execution_count": 37,
   "id": "10088946-c4f8-4fbb-9d30-c7a1f1afc62e",
   "metadata": {
    "tags": []
   },
   "outputs": [
    {
     "data": {
      "text/html": [
       "<div><style>\n",
       ".dataframe > thead > tr,\n",
       ".dataframe > tbody > tr {\n",
       "  text-align: right;\n",
       "  white-space: pre-wrap;\n",
       "}\n",
       "</style>\n",
       "<small>shape: (1, 10)</small><table border=\"1\" class=\"dataframe\"><thead><tr><th>is_consumption</th><th>datetime</th><th>county</th><th>is_business</th><th>target_lb_med</th><th>target_div_cap_lag2d_lb_med</th><th>target_lb_max</th><th>target_div_cap_lag2d_lb_max</th><th>target_lb_sum</th><th>target_div_cap_lag2d_lb_sum</th></tr><tr><td>i8</td><td>datetime[μs]</td><td>i8</td><td>i8</td><td>f32</td><td>f32</td><td>f32</td><td>f32</td><td>f32</td><td>f32</td></tr></thead><tbody><tr><td>1</td><td>2023-05-31 23:00:00</td><td>13</td><td>1</td><td>106.795998</td><td>0.047828</td><td>189.626999</td><td>0.076934</td><td>213.591995</td><td>0.095657</td></tr></tbody></table></div>"
      ],
      "text/plain": [
       "shape: (1, 10)\n",
       "┌────────────┬────────────┬────────┬───────────┬───┬───────────┬───────────┬───────────┬───────────┐\n",
       "│ is_consump ┆ datetime   ┆ county ┆ is_busine ┆ … ┆ target_lb ┆ target_di ┆ target_lb ┆ target_di │\n",
       "│ tion       ┆ ---        ┆ ---    ┆ ss        ┆   ┆ _max      ┆ v_cap_lag ┆ _sum      ┆ v_cap_lag │\n",
       "│ ---        ┆ datetime[μ ┆ i8     ┆ ---       ┆   ┆ ---       ┆ 2d_lb_max ┆ ---       ┆ 2d_lb_sum │\n",
       "│ i8         ┆ s]         ┆        ┆ i8        ┆   ┆ f32       ┆ ---       ┆ f32       ┆ ---       │\n",
       "│            ┆            ┆        ┆           ┆   ┆           ┆ f32       ┆           ┆ f32       │\n",
       "╞════════════╪════════════╪════════╪═══════════╪═══╪═══════════╪═══════════╪═══════════╪═══════════╡\n",
       "│ 1          ┆ 2023-05-31 ┆ 13     ┆ 1         ┆ … ┆ 189.62699 ┆ 0.076934  ┆ 213.59199 ┆ 0.095657  │\n",
       "│            ┆ 23:00:00   ┆        ┆           ┆   ┆ 9         ┆           ┆ 5         ┆           │\n",
       "└────────────┴────────────┴────────┴───────────┴───┴───────────┴───────────┴───────────┴───────────┘"
      ]
     },
     "execution_count": 37,
     "metadata": {},
     "output_type": "execute_result"
    }
   ],
   "source": [
    "lgp_keys = BASE_TGT_GP_KEYS + [\"county\", \"is_business\"]\n",
    "agg_stats = [\n",
    "    *[pl.col(tgt_col).median().alias(f\"{tgt_col}_lb_med\") for tgt_col in tgt_cols],\n",
    "    *[pl.col(tgt_col).max().alias(f\"{tgt_col}_lb_max\") for tgt_col in tgt_cols],\n",
    "    *[pl.col(tgt_col).sum().alias(f\"{tgt_col}_lb_sum\") for tgt_col in tgt_cols]\n",
    "]\n",
    "tgt_lb_stats = (\n",
    "    train\n",
    "    .group_by(lgp_keys)\n",
    "    .agg(agg_stats)\n",
    ")\n",
    "tgt_lb_stats.tail(1)"
   ]
  },
  {
   "cell_type": "code",
   "execution_count": 38,
   "id": "26b3aa0d-d7c8-4de6-b882-e3f0ff577a5a",
   "metadata": {
    "tags": []
   },
   "outputs": [
    {
     "data": {
      "text/html": [
       "<div><style>\n",
       ".dataframe > thead > tr,\n",
       ".dataframe > tbody > tr {\n",
       "  text-align: right;\n",
       "  white-space: pre-wrap;\n",
       "}\n",
       "</style>\n",
       "<small>shape: (1, 10)</small><table border=\"1\" class=\"dataframe\"><thead><tr><th>is_consumption</th><th>datetime</th><th>county</th><th>product_type</th><th>target_lp_med</th><th>target_div_cap_lag2d_lp_med</th><th>target_lp_max</th><th>target_div_cap_lag2d_lp_max</th><th>target_lp_sum</th><th>target_div_cap_lag2d_lp_sum</th></tr><tr><td>i8</td><td>datetime[μs]</td><td>i8</td><td>i8</td><td>f32</td><td>f32</td><td>f32</td><td>f32</td><td>f32</td><td>f32</td></tr></thead><tbody><tr><td>1</td><td>2023-05-31 23:00:00</td><td>14</td><td>2</td><td>10.859</td><td>0.044142</td><td>10.859</td><td>0.044142</td><td>10.859</td><td>0.044142</td></tr></tbody></table></div>"
      ],
      "text/plain": [
       "shape: (1, 10)\n",
       "┌────────────┬────────────┬────────┬───────────┬───┬───────────┬───────────┬───────────┬───────────┐\n",
       "│ is_consump ┆ datetime   ┆ county ┆ product_t ┆ … ┆ target_lp ┆ target_di ┆ target_lp ┆ target_di │\n",
       "│ tion       ┆ ---        ┆ ---    ┆ ype       ┆   ┆ _max      ┆ v_cap_lag ┆ _sum      ┆ v_cap_lag │\n",
       "│ ---        ┆ datetime[μ ┆ i8     ┆ ---       ┆   ┆ ---       ┆ 2d_lp_max ┆ ---       ┆ 2d_lp_sum │\n",
       "│ i8         ┆ s]         ┆        ┆ i8        ┆   ┆ f32       ┆ ---       ┆ f32       ┆ ---       │\n",
       "│            ┆            ┆        ┆           ┆   ┆           ┆ f32       ┆           ┆ f32       │\n",
       "╞════════════╪════════════╪════════╪═══════════╪═══╪═══════════╪═══════════╪═══════════╪═══════════╡\n",
       "│ 1          ┆ 2023-05-31 ┆ 14     ┆ 2         ┆ … ┆ 10.859    ┆ 0.044142  ┆ 10.859    ┆ 0.044142  │\n",
       "│            ┆ 23:00:00   ┆        ┆           ┆   ┆           ┆           ┆           ┆           │\n",
       "└────────────┴────────────┴────────┴───────────┴───┴───────────┴───────────┴───────────┴───────────┘"
      ]
     },
     "execution_count": 38,
     "metadata": {},
     "output_type": "execute_result"
    }
   ],
   "source": [
    "lgp_keys = BASE_TGT_GP_KEYS + [\"county\", \"product_type\"]\n",
    "agg_stats = [\n",
    "    *[pl.col(tgt_col).median().alias(f\"{tgt_col}_lp_med\") for tgt_col in tgt_cols],\n",
    "    *[pl.col(tgt_col).max().alias(f\"{tgt_col}_lp_max\") for tgt_col in tgt_cols],\n",
    "    *[pl.col(tgt_col).sum().alias(f\"{tgt_col}_lp_sum\") for tgt_col in tgt_cols]\n",
    "]\n",
    "tgt_lp_stats = (\n",
    "    train\n",
    "    .group_by(lgp_keys)\n",
    "    .agg(agg_stats)\n",
    ")\n",
    "tgt_lp_stats.tail(1)"
   ]
  },
  {
   "cell_type": "code",
   "execution_count": 39,
   "id": "873eac4b-5476-4857-87c5-86a0ac20c5f3",
   "metadata": {
    "tags": []
   },
   "outputs": [
    {
     "data": {
      "text/html": [
       "<div><style>\n",
       ".dataframe > thead > tr,\n",
       ".dataframe > tbody > tr {\n",
       "  text-align: right;\n",
       "  white-space: pre-wrap;\n",
       "}\n",
       "</style>\n",
       "<small>shape: (1, 9)</small><table border=\"1\" class=\"dataframe\"><thead><tr><th>is_consumption</th><th>datetime</th><th>is_business</th><th>target_gb_med</th><th>target_div_cap_lag2d_gb_med</th><th>target_gb_max</th><th>target_div_cap_lag2d_gb_max</th><th>target_gb_sum</th><th>target_div_cap_lag2d_gb_sum</th></tr><tr><td>i8</td><td>datetime[μs]</td><td>i8</td><td>f32</td><td>f32</td><td>f32</td><td>f32</td><td>f32</td><td>f32</td></tr></thead><tbody><tr><td>1</td><td>2023-05-31 22:00:00</td><td>0</td><td>71.806</td><td>0.076162</td><td>1485.767944</td><td>0.151752</td><td>4920.704102</td><td>2.286589</td></tr></tbody></table></div>"
      ],
      "text/plain": [
       "shape: (1, 9)\n",
       "┌───────────┬───────────┬───────────┬───────────┬───┬───────────┬───────────┬───────────┬──────────┐\n",
       "│ is_consum ┆ datetime  ┆ is_busine ┆ target_gb ┆ … ┆ target_gb ┆ target_di ┆ target_gb ┆ target_d │\n",
       "│ ption     ┆ ---       ┆ ss        ┆ _med      ┆   ┆ _max      ┆ v_cap_lag ┆ _sum      ┆ iv_cap_l │\n",
       "│ ---       ┆ datetime[ ┆ ---       ┆ ---       ┆   ┆ ---       ┆ 2d_gb_max ┆ ---       ┆ ag2d_gb_ │\n",
       "│ i8        ┆ μs]       ┆ i8        ┆ f32       ┆   ┆ f32       ┆ ---       ┆ f32       ┆ sum      │\n",
       "│           ┆           ┆           ┆           ┆   ┆           ┆ f32       ┆           ┆ ---      │\n",
       "│           ┆           ┆           ┆           ┆   ┆           ┆           ┆           ┆ f32      │\n",
       "╞═══════════╪═══════════╪═══════════╪═══════════╪═══╪═══════════╪═══════════╪═══════════╪══════════╡\n",
       "│ 1         ┆ 2023-05-3 ┆ 0         ┆ 71.806    ┆ … ┆ 1485.7679 ┆ 0.151752  ┆ 4920.7041 ┆ 2.286589 │\n",
       "│           ┆ 1         ┆           ┆           ┆   ┆ 44        ┆           ┆ 02        ┆          │\n",
       "│           ┆ 22:00:00  ┆           ┆           ┆   ┆           ┆           ┆           ┆          │\n",
       "└───────────┴───────────┴───────────┴───────────┴───┴───────────┴───────────┴───────────┴──────────┘"
      ]
     },
     "execution_count": 39,
     "metadata": {},
     "output_type": "execute_result"
    }
   ],
   "source": [
    "ggp_keys = BASE_TGT_GP_KEYS + [\"is_business\"]\n",
    "agg_stats = [\n",
    "    *[pl.col(tgt_col).median().alias(f\"{tgt_col}_gb_med\") for tgt_col in tgt_cols],\n",
    "    *[pl.col(tgt_col).max().alias(f\"{tgt_col}_gb_max\") for tgt_col in tgt_cols],\n",
    "    *[pl.col(tgt_col).sum().alias(f\"{tgt_col}_gb_sum\") for tgt_col in tgt_cols]\n",
    "]\n",
    "tgt_gb_stats = (\n",
    "    train\n",
    "    .group_by(ggp_keys)\n",
    "    .agg(agg_stats)\n",
    ")\n",
    "tgt_gb_stats.tail(1)"
   ]
  },
  {
   "cell_type": "code",
   "execution_count": 40,
   "id": "23814a65-be3b-40de-8f80-b1230beb12b1",
   "metadata": {
    "tags": []
   },
   "outputs": [
    {
     "data": {
      "text/html": [
       "<div><style>\n",
       ".dataframe > thead > tr,\n",
       ".dataframe > tbody > tr {\n",
       "  text-align: right;\n",
       "  white-space: pre-wrap;\n",
       "}\n",
       "</style>\n",
       "<small>shape: (1, 9)</small><table border=\"1\" class=\"dataframe\"><thead><tr><th>is_consumption</th><th>datetime</th><th>product_type</th><th>target_gp_med</th><th>target_div_cap_lag2d_gp_med</th><th>target_gp_max</th><th>target_div_cap_lag2d_gp_max</th><th>target_gp_sum</th><th>target_div_cap_lag2d_gp_sum</th></tr><tr><td>i8</td><td>datetime[μs]</td><td>i8</td><td>f32</td><td>f32</td><td>f32</td><td>f32</td><td>f32</td><td>f32</td></tr></thead><tbody><tr><td>1</td><td>2023-05-31 19:00:00</td><td>2</td><td>2.978</td><td>0.096065</td><td>11.249</td><td>0.146091</td><td>14.483999</td><td>0.2432</td></tr></tbody></table></div>"
      ],
      "text/plain": [
       "shape: (1, 9)\n",
       "┌───────────┬───────────┬───────────┬───────────┬───┬───────────┬───────────┬───────────┬──────────┐\n",
       "│ is_consum ┆ datetime  ┆ product_t ┆ target_gp ┆ … ┆ target_gp ┆ target_di ┆ target_gp ┆ target_d │\n",
       "│ ption     ┆ ---       ┆ ype       ┆ _med      ┆   ┆ _max      ┆ v_cap_lag ┆ _sum      ┆ iv_cap_l │\n",
       "│ ---       ┆ datetime[ ┆ ---       ┆ ---       ┆   ┆ ---       ┆ 2d_gp_max ┆ ---       ┆ ag2d_gp_ │\n",
       "│ i8        ┆ μs]       ┆ i8        ┆ f32       ┆   ┆ f32       ┆ ---       ┆ f32       ┆ sum      │\n",
       "│           ┆           ┆           ┆           ┆   ┆           ┆ f32       ┆           ┆ ---      │\n",
       "│           ┆           ┆           ┆           ┆   ┆           ┆           ┆           ┆ f32      │\n",
       "╞═══════════╪═══════════╪═══════════╪═══════════╪═══╪═══════════╪═══════════╪═══════════╪══════════╡\n",
       "│ 1         ┆ 2023-05-3 ┆ 2         ┆ 2.978     ┆ … ┆ 11.249    ┆ 0.146091  ┆ 14.483999 ┆ 0.2432   │\n",
       "│           ┆ 1         ┆           ┆           ┆   ┆           ┆           ┆           ┆          │\n",
       "│           ┆ 19:00:00  ┆           ┆           ┆   ┆           ┆           ┆           ┆          │\n",
       "└───────────┴───────────┴───────────┴───────────┴───┴───────────┴───────────┴───────────┴──────────┘"
      ]
     },
     "execution_count": 40,
     "metadata": {},
     "output_type": "execute_result"
    }
   ],
   "source": [
    "ggp_keys = BASE_TGT_GP_KEYS + [\"product_type\"]\n",
    "agg_stats = [\n",
    "    *[pl.col(tgt_col).median().alias(f\"{tgt_col}_gp_med\") for tgt_col in tgt_cols],\n",
    "    *[pl.col(tgt_col).max().alias(f\"{tgt_col}_gp_max\") for tgt_col in tgt_cols],\n",
    "    *[pl.col(tgt_col).sum().alias(f\"{tgt_col}_gp_sum\") for tgt_col in tgt_cols]\n",
    "]\n",
    "tgt_gp_stats = (\n",
    "    train\n",
    "    .group_by(ggp_keys)\n",
    "    .agg(agg_stats)\n",
    ")\n",
    "tgt_gp_stats.tail(1)"
   ]
  },
  {
   "cell_type": "code",
   "execution_count": 41,
   "id": "77693917-83a8-4ce6-aab4-d68cb2514245",
   "metadata": {
    "tags": []
   },
   "outputs": [],
   "source": [
    "class RevealedFeatFE(object):\n",
    "    \"\"\"Revealed feature engineer.\n",
    "    \n",
    "    Accept all features, including targets as features.\n",
    "    \n",
    "    Args:\n",
    "        base_df: base DataFrame, selecting used columns beforehand is\n",
    "            recommended (e.g., selecting `join_keys` + `base_feats`)\n",
    "        cross_pc: if True, use prod/cons revealed targets as features\n",
    "            for cons/prod\n",
    "            *Note: Only used when `base_feats` are targets themselves\n",
    "    \"\"\"\n",
    "    \n",
    "    def __init__(\n",
    "        self,\n",
    "        base_df: pl.DataFrame,\n",
    "        join_keys: List[str],\n",
    "        base_feats: List[str],\n",
    "        shift_amts: List[str],\n",
    "        dt_col: str = \"datetime\",\n",
    "        cross_pc: bool = False\n",
    "    ) -> None:\n",
    "        self.base_df = base_df\n",
    "        self.join_keys = join_keys\n",
    "        self.base_feats = base_feats\n",
    "        self.shift_amts = shift_amts\n",
    "        self.dt_col = dt_col\n",
    "        self.cross_pc = cross_pc\n",
    "        \n",
    "        self._feats = []\n",
    "        \n",
    "    @property\n",
    "    def feats(self) -> List[str]:\n",
    "        return self._feats\n",
    "    \n",
    "    def run(self) -> pl.LazyFrame:\n",
    "        \"\"\"Run revealed feature engineering.\n",
    "        \n",
    "        Returns:\n",
    "            revealed_df: DataFrame containing revealed features\n",
    "        \"\"\"\n",
    "        df_raw = self.base_df.lazy()\n",
    "        df_lookback = self.base_df.lazy()\n",
    "        df_lookback = df_lookback.drop(self.base_feats)\n",
    "\n",
    "        for shift_amt in self.shift_amts:\n",
    "            df_lookback, new_feats = _shift_and_join(\n",
    "                df_lookback, \n",
    "                df_raw,\n",
    "                self.join_keys,\n",
    "                self.dt_col,\n",
    "                self.base_feats,\n",
    "                shift_amt=shift_amt\n",
    "            )\n",
    "            self._feats.extend(new_feats)\n",
    "\n",
    "        if self.cross_pc:\n",
    "            # Prod/Cons long to wide\n",
    "            df_yp_lookback = df_lookback.filter(pl.col(\"is_consumption\") == 0)\n",
    "            df_yc_lookback = df_lookback.filter(pl.col(\"is_consumption\") == 1)\n",
    "            df_lookback = (\n",
    "                df_yp_lookback\n",
    "                .join(df_yc_lookback, on=[\"datetime\", UNIT_ID_COL], suffix=\"_cons\")\n",
    "                .rename({feat: f\"{feat}_prod\" for feat in self.feats})\n",
    "                .drop([\"is_consumption\", \"is_consumption_cons\"])\n",
    "            )\n",
    "            tgt_col_prefix = \"|\".join([f\"{tgt_col}_lag\" for tgt_col in self.base_feats])\n",
    "            # ===\n",
    "            # Be careful for inference\n",
    "            self._feats = [c for c in df_lookback.columns if re.search(f\"{tgt_col_prefix}.*\", c)]\n",
    "            # ===\n",
    "            \n",
    "        return df_lookback"
   ]
  },
  {
   "cell_type": "markdown",
   "id": "801cb60c-5154-4905-82ce-1469bb827d44",
   "metadata": {},
   "source": [
    "<div class=\"alert alert-block alert-danger\">\n",
    "    <p>We can also use target divided by <strong>the exact cap and eic</strong>, because they're available. The difference is just the way we interpret the features.</p>\n",
    "</div>"
   ]
  },
  {
   "cell_type": "code",
   "execution_count": 42,
   "id": "fe073240-fb11-491a-9383-7431c29f08d3",
   "metadata": {
    "tags": []
   },
   "outputs": [
    {
     "data": {
      "text/html": [
       "<div><style>\n",
       ".dataframe > thead > tr,\n",
       ".dataframe > tbody > tr {\n",
       "  text-align: right;\n",
       "  white-space: pre-wrap;\n",
       "}\n",
       "</style>\n",
       "<small>shape: (5, 65)</small><table border=\"1\" class=\"dataframe\"><thead><tr><th>county</th><th>is_business</th><th>product_type</th><th>target</th><th>is_consumption</th><th>datetime</th><th>data_block_id</th><th>row_id</th><th>prediction_unit_id</th><th>date</th><th>eic_count_lag2d</th><th>installed_capacity_lag2d</th><th>temperature_local_mean_hist_lag7d</th><th>dewpoint_local_mean_hist_lag7d</th><th>rain_local_mean_hist_lag7d</th><th>snowfall_local_mean_hist_lag7d</th><th>surface_pressure_local_mean_hist_lag7d</th><th>cloudcover_total_local_mean_hist_lag7d</th><th>cloudcover_low_local_mean_hist_lag7d</th><th>cloudcover_mid_local_mean_hist_lag7d</th><th>cloudcover_high_local_mean_hist_lag7d</th><th>windspeed_10m_local_mean_hist_lag7d</th><th>winddirection_10m_local_mean_hist_lag7d</th><th>shortwave_radiation_local_mean_hist_lag7d</th><th>direct_solar_radiation_local_mean_hist_lag7d</th><th>diffuse_radiation_local_mean_hist_lag7d</th><th>temperature_global_mean_hist_lag7d</th><th>dewpoint_global_mean_hist_lag7d</th><th>rain_global_mean_hist_lag7d</th><th>snowfall_global_mean_hist_lag7d</th><th>surface_pressure_global_mean_hist_lag7d</th><th>cloudcover_total_global_mean_hist_lag7d</th><th>cloudcover_low_global_mean_hist_lag7d</th><th>cloudcover_mid_global_mean_hist_lag7d</th><th>cloudcover_high_global_mean_hist_lag7d</th><th>windspeed_10m_global_mean_hist_lag7d</th><th>winddirection_10m_global_mean_hist_lag7d</th><th>shortwave_radiation_global_mean_hist_lag7d</th><th>direct_solar_radiation_global_mean_hist_lag7d</th><th>diffuse_radiation_global_mean_hist_lag7d</th><th>target_div_cap_lag2d</th><th>target_lag2d_prod</th><th>target_div_cap_lag2d_lag2d_prod</th><th>target_lag3d_prod</th><th>target_div_cap_lag2d_lag3d_prod</th><th>target_lag4d_prod</th><th>target_div_cap_lag2d_lag4d_prod</th><th>target_lag5d_prod</th><th>target_div_cap_lag2d_lag5d_prod</th><th>target_lag6d_prod</th><th>target_div_cap_lag2d_lag6d_prod</th><th>target_lag7d_prod</th><th>target_div_cap_lag2d_lag7d_prod</th><th>target_lag2d_cons</th><th>target_div_cap_lag2d_lag2d_cons</th><th>target_lag3d_cons</th><th>target_div_cap_lag2d_lag3d_cons</th><th>target_lag4d_cons</th><th>target_div_cap_lag2d_lag4d_cons</th><th>target_lag5d_cons</th><th>target_div_cap_lag2d_lag5d_cons</th><th>target_lag6d_cons</th><th>target_div_cap_lag2d_lag6d_cons</th><th>target_lag7d_cons</th><th>target_div_cap_lag2d_lag7d_cons</th></tr><tr><td>i8</td><td>i8</td><td>i8</td><td>f32</td><td>i8</td><td>datetime[μs]</td><td>i16</td><td>i32</td><td>i8</td><td>date</td><td>i16</td><td>f32</td><td>f32</td><td>f32</td><td>f32</td><td>f32</td><td>f32</td><td>f64</td><td>f64</td><td>f64</td><td>f64</td><td>f32</td><td>f64</td><td>f32</td><td>f32</td><td>f32</td><td>f32</td><td>f32</td><td>f32</td><td>f32</td><td>f32</td><td>f64</td><td>f64</td><td>f64</td><td>f64</td><td>f32</td><td>f64</td><td>f32</td><td>f32</td><td>f32</td><td>f32</td><td>f32</td><td>f32</td><td>f32</td><td>f32</td><td>f32</td><td>f32</td><td>f32</td><td>f32</td><td>f32</td><td>f32</td><td>f32</td><td>f32</td><td>f32</td><td>f32</td><td>f32</td><td>f32</td><td>f32</td><td>f32</td><td>f32</td><td>f32</td><td>f32</td><td>f32</td><td>f32</td><td>f32</td></tr></thead><tbody><tr><td>0</td><td>0</td><td>1</td><td>0.713</td><td>0</td><td>2021-09-01 00:00:00</td><td>0</td><td>0</td><td>0</td><td>2021-09-01</td><td>null</td><td>null</td><td>null</td><td>null</td><td>null</td><td>null</td><td>null</td><td>null</td><td>null</td><td>null</td><td>null</td><td>null</td><td>null</td><td>null</td><td>null</td><td>null</td><td>null</td><td>null</td><td>null</td><td>null</td><td>null</td><td>null</td><td>null</td><td>null</td><td>null</td><td>null</td><td>null</td><td>null</td><td>null</td><td>null</td><td>null</td><td>null</td><td>null</td><td>null</td><td>null</td><td>null</td><td>null</td><td>null</td><td>null</td><td>null</td><td>null</td><td>null</td><td>null</td><td>null</td><td>null</td><td>null</td><td>null</td><td>null</td><td>null</td><td>null</td><td>null</td><td>null</td><td>null</td><td>null</td><td>null</td></tr><tr><td>0</td><td>0</td><td>1</td><td>96.589996</td><td>1</td><td>2021-09-01 00:00:00</td><td>0</td><td>1</td><td>0</td><td>2021-09-01</td><td>null</td><td>null</td><td>null</td><td>null</td><td>null</td><td>null</td><td>null</td><td>null</td><td>null</td><td>null</td><td>null</td><td>null</td><td>null</td><td>null</td><td>null</td><td>null</td><td>null</td><td>null</td><td>null</td><td>null</td><td>null</td><td>null</td><td>null</td><td>null</td><td>null</td><td>null</td><td>null</td><td>null</td><td>null</td><td>null</td><td>null</td><td>null</td><td>null</td><td>null</td><td>null</td><td>null</td><td>null</td><td>null</td><td>null</td><td>null</td><td>null</td><td>null</td><td>null</td><td>null</td><td>null</td><td>null</td><td>null</td><td>null</td><td>null</td><td>null</td><td>null</td><td>null</td><td>null</td><td>null</td><td>null</td></tr><tr><td>0</td><td>0</td><td>2</td><td>0.0</td><td>0</td><td>2021-09-01 00:00:00</td><td>0</td><td>2</td><td>1</td><td>2021-09-01</td><td>null</td><td>null</td><td>null</td><td>null</td><td>null</td><td>null</td><td>null</td><td>null</td><td>null</td><td>null</td><td>null</td><td>null</td><td>null</td><td>null</td><td>null</td><td>null</td><td>null</td><td>null</td><td>null</td><td>null</td><td>null</td><td>null</td><td>null</td><td>null</td><td>null</td><td>null</td><td>null</td><td>null</td><td>null</td><td>null</td><td>null</td><td>null</td><td>null</td><td>null</td><td>null</td><td>null</td><td>null</td><td>null</td><td>null</td><td>null</td><td>null</td><td>null</td><td>null</td><td>null</td><td>null</td><td>null</td><td>null</td><td>null</td><td>null</td><td>null</td><td>null</td><td>null</td><td>null</td><td>null</td><td>null</td></tr><tr><td>0</td><td>0</td><td>2</td><td>17.313999</td><td>1</td><td>2021-09-01 00:00:00</td><td>0</td><td>3</td><td>1</td><td>2021-09-01</td><td>null</td><td>null</td><td>null</td><td>null</td><td>null</td><td>null</td><td>null</td><td>null</td><td>null</td><td>null</td><td>null</td><td>null</td><td>null</td><td>null</td><td>null</td><td>null</td><td>null</td><td>null</td><td>null</td><td>null</td><td>null</td><td>null</td><td>null</td><td>null</td><td>null</td><td>null</td><td>null</td><td>null</td><td>null</td><td>null</td><td>null</td><td>null</td><td>null</td><td>null</td><td>null</td><td>null</td><td>null</td><td>null</td><td>null</td><td>null</td><td>null</td><td>null</td><td>null</td><td>null</td><td>null</td><td>null</td><td>null</td><td>null</td><td>null</td><td>null</td><td>null</td><td>null</td><td>null</td><td>null</td><td>null</td></tr><tr><td>0</td><td>0</td><td>3</td><td>2.904</td><td>0</td><td>2021-09-01 00:00:00</td><td>0</td><td>4</td><td>2</td><td>2021-09-01</td><td>null</td><td>null</td><td>null</td><td>null</td><td>null</td><td>null</td><td>null</td><td>null</td><td>null</td><td>null</td><td>null</td><td>null</td><td>null</td><td>null</td><td>null</td><td>null</td><td>null</td><td>null</td><td>null</td><td>null</td><td>null</td><td>null</td><td>null</td><td>null</td><td>null</td><td>null</td><td>null</td><td>null</td><td>null</td><td>null</td><td>null</td><td>null</td><td>null</td><td>null</td><td>null</td><td>null</td><td>null</td><td>null</td><td>null</td><td>null</td><td>null</td><td>null</td><td>null</td><td>null</td><td>null</td><td>null</td><td>null</td><td>null</td><td>null</td><td>null</td><td>null</td><td>null</td><td>null</td><td>null</td><td>null</td></tr></tbody></table></div>"
      ],
      "text/plain": [
       "shape: (5, 65)\n",
       "┌────────┬────────────┬────────────┬───────────┬───┬───────────┬───────────┬───────────┬───────────┐\n",
       "│ county ┆ is_busines ┆ product_ty ┆ target    ┆ … ┆ target_la ┆ target_di ┆ target_la ┆ target_di │\n",
       "│ ---    ┆ s          ┆ pe         ┆ ---       ┆   ┆ g6d_cons  ┆ v_cap_lag ┆ g7d_cons  ┆ v_cap_lag │\n",
       "│ i8     ┆ ---        ┆ ---        ┆ f32       ┆   ┆ ---       ┆ 2d_lag6d_ ┆ ---       ┆ 2d_lag7d_ │\n",
       "│        ┆ i8         ┆ i8         ┆           ┆   ┆ f32       ┆ cons      ┆ f32       ┆ cons      │\n",
       "│        ┆            ┆            ┆           ┆   ┆           ┆ ---       ┆           ┆ ---       │\n",
       "│        ┆            ┆            ┆           ┆   ┆           ┆ f32       ┆           ┆ f32       │\n",
       "╞════════╪════════════╪════════════╪═══════════╪═══╪═══════════╪═══════════╪═══════════╪═══════════╡\n",
       "│ 0      ┆ 0          ┆ 1          ┆ 0.713     ┆ … ┆ null      ┆ null      ┆ null      ┆ null      │\n",
       "│ 0      ┆ 0          ┆ 1          ┆ 96.589996 ┆ … ┆ null      ┆ null      ┆ null      ┆ null      │\n",
       "│ 0      ┆ 0          ┆ 2          ┆ 0.0       ┆ … ┆ null      ┆ null      ┆ null      ┆ null      │\n",
       "│ 0      ┆ 0          ┆ 2          ┆ 17.313999 ┆ … ┆ null      ┆ null      ┆ null      ┆ null      │\n",
       "│ 0      ┆ 0          ┆ 3          ┆ 2.904     ┆ … ┆ null      ┆ null      ┆ null      ┆ null      │\n",
       "└────────┴────────────┴────────────┴───────────┴───┴───────────┴───────────┴───────────┴───────────┘"
      ]
     },
     "execution_count": 42,
     "metadata": {},
     "output_type": "execute_result"
    }
   ],
   "source": [
    "join_keys = REVEALED_TGT_JOIN_KEYS\n",
    "base_feats = tgt_cols #[\"target\", \"target_div_cap_lag2d\", \"target_div_eic_lag2d\"]\n",
    "revealed_tgt_fe = RevealedFeatFE(\n",
    "    base_df=train.select(join_keys + base_feats),\n",
    "    join_keys=join_keys,\n",
    "    base_feats=base_feats,\n",
    "    shift_amts=[f\"{d}d\" for d in range(2, 8)],\n",
    "    dt_col=\"datetime\",\n",
    "    cross_pc=True\n",
    ")\n",
    "df_tmp = revealed_tgt_fe.run().collect()\n",
    "\n",
    "train = train.join(df_tmp, on=[UNIT_ID_COL, \"datetime\"], how=\"left\")  # cross_pc doesn't require is_cons as key\n",
    "train.head()"
   ]
  },
  {
   "cell_type": "code",
   "execution_count": 43,
   "id": "4c87f9bd-7c8f-407c-832a-13468c2e1975",
   "metadata": {
    "tags": []
   },
   "outputs": [],
   "source": [
    "# feats = [f\"{tgt_col}_{granu}_{stats}\" for granu in [\"lb\", \"lp\", \"gb\", \"gp\"] for stats in [\"med\", \"max\", \"sum\"]]\n",
    "# join_keys = \n",
    "# base_feats = feats\n",
    "# revealed_tgt_fe = RevealedFeatFE(\n",
    "#     base_df=train.select(join_keys + base_feats),\n",
    "#     join_keys=join_keys,\n",
    "#     base_feats=base_feats,\n",
    "#     shift_amts=[f\"{d}d\" for d in [2, 3, 7, 14]],\n",
    "#     dt_col=\"datetime\",\n",
    "#     cross_pc=True\n",
    "# )\n",
    "# df_tmp = revealed_tgt_fe.run().collect()\n",
    "\n",
    "# train = train.join(df_tmp, on=[UNIT_ID_COL, \"datetime\"], how=\"left\")  # cross_pc doesn't require is_cons as key\n",
    "# train.head()"
   ]
  },
  {
   "cell_type": "code",
   "execution_count": 44,
   "id": "85b6a781-f825-42b6-a23d-9826daf11393",
   "metadata": {
    "tags": []
   },
   "outputs": [
    {
     "data": {
      "text/plain": [
       "['target_lb_med',\n",
       " 'target_div_cap_lag2d_lb_med',\n",
       " 'target_lb_max',\n",
       " 'target_div_cap_lag2d_lb_max',\n",
       " 'target_lb_sum',\n",
       " 'target_div_cap_lag2d_lb_sum']"
      ]
     },
     "execution_count": 44,
     "metadata": {},
     "output_type": "execute_result"
    }
   ],
   "source": [
    "[c for c in tgt_lb_stats.columns if \"_lb_\" in c]"
   ]
  },
  {
   "cell_type": "code",
   "execution_count": 45,
   "id": "135f4acd-b171-4645-ab31-5045f90a449a",
   "metadata": {
    "tags": []
   },
   "outputs": [
    {
     "name": "stdout",
     "output_type": "stream",
     "text": [
      "['target_lb_med_lag2d', 'target_div_cap_lag2d_lb_med_lag2d', 'target_lb_max_lag2d', 'target_div_cap_lag2d_lb_max_lag2d', 'target_lb_sum_lag2d', 'target_div_cap_lag2d_lb_sum_lag2d'] added!\n",
      "['target_lb_med_lag3d', 'target_div_cap_lag2d_lb_med_lag3d', 'target_lb_max_lag3d', 'target_div_cap_lag2d_lb_max_lag3d', 'target_lb_sum_lag3d', 'target_div_cap_lag2d_lb_sum_lag3d'] added!\n",
      "['target_lb_med_lag7d', 'target_div_cap_lag2d_lb_med_lag7d', 'target_lb_max_lag7d', 'target_div_cap_lag2d_lb_max_lag7d', 'target_lb_sum_lag7d', 'target_div_cap_lag2d_lb_sum_lag7d'] added!\n",
      "['target_lb_med_lag14d', 'target_div_cap_lag2d_lb_med_lag14d', 'target_lb_max_lag14d', 'target_div_cap_lag2d_lb_max_lag14d', 'target_lb_sum_lag14d', 'target_div_cap_lag2d_lb_sum_lag14d'] added!\n"
     ]
    }
   ],
   "source": [
    "for d in [2, 3, 7, 14]:\n",
    "    train, new_feats = _shift_and_join(\n",
    "        train,\n",
    "        tgt_lb_stats,\n",
    "        join_keys=BASE_TGT_GP_KEYS+[\"county\", \"is_business\"],\n",
    "        dt_col=\"datetime\",\n",
    "        feats=[c for c in tgt_lb_stats.columns if \"_lb_\" in c],\n",
    "        shift_amt=f\"{d}d\"\n",
    "    )\n",
    "    print(new_feats, \"added!\")"
   ]
  },
  {
   "cell_type": "code",
   "execution_count": 46,
   "id": "98bea26e-c593-4df2-90c6-eeda95dd561e",
   "metadata": {
    "tags": []
   },
   "outputs": [
    {
     "name": "stdout",
     "output_type": "stream",
     "text": [
      "['target_lp_med_lag2d', 'target_div_cap_lag2d_lp_med_lag2d', 'target_lp_max_lag2d', 'target_div_cap_lag2d_lp_max_lag2d', 'target_lp_sum_lag2d', 'target_div_cap_lag2d_lp_sum_lag2d'] added!\n",
      "['target_lp_med_lag3d', 'target_div_cap_lag2d_lp_med_lag3d', 'target_lp_max_lag3d', 'target_div_cap_lag2d_lp_max_lag3d', 'target_lp_sum_lag3d', 'target_div_cap_lag2d_lp_sum_lag3d'] added!\n",
      "['target_lp_med_lag7d', 'target_div_cap_lag2d_lp_med_lag7d', 'target_lp_max_lag7d', 'target_div_cap_lag2d_lp_max_lag7d', 'target_lp_sum_lag7d', 'target_div_cap_lag2d_lp_sum_lag7d'] added!\n",
      "['target_lp_med_lag14d', 'target_div_cap_lag2d_lp_med_lag14d', 'target_lp_max_lag14d', 'target_div_cap_lag2d_lp_max_lag14d', 'target_lp_sum_lag14d', 'target_div_cap_lag2d_lp_sum_lag14d'] added!\n"
     ]
    }
   ],
   "source": [
    "for d in [2, 3, 7, 14]:\n",
    "    train, new_feats = _shift_and_join(\n",
    "        train,\n",
    "        tgt_lp_stats,\n",
    "        join_keys=BASE_TGT_GP_KEYS+[\"county\", \"product_type\"],\n",
    "        dt_col=\"datetime\",\n",
    "        feats=[c for c in tgt_lp_stats.columns if \"_lp_\" in c],\n",
    "        shift_amt=f\"{d}d\"\n",
    "    )\n",
    "    print(new_feats, \"added!\")"
   ]
  },
  {
   "cell_type": "code",
   "execution_count": 47,
   "id": "9394d6ba-8d4d-427d-b722-1e9e3cd1f487",
   "metadata": {
    "tags": []
   },
   "outputs": [
    {
     "name": "stdout",
     "output_type": "stream",
     "text": [
      "['target_gb_med_lag2d', 'target_div_cap_lag2d_gb_med_lag2d', 'target_gb_max_lag2d', 'target_div_cap_lag2d_gb_max_lag2d', 'target_gb_sum_lag2d', 'target_div_cap_lag2d_gb_sum_lag2d'] added!\n",
      "['target_gb_med_lag3d', 'target_div_cap_lag2d_gb_med_lag3d', 'target_gb_max_lag3d', 'target_div_cap_lag2d_gb_max_lag3d', 'target_gb_sum_lag3d', 'target_div_cap_lag2d_gb_sum_lag3d'] added!\n",
      "['target_gb_med_lag7d', 'target_div_cap_lag2d_gb_med_lag7d', 'target_gb_max_lag7d', 'target_div_cap_lag2d_gb_max_lag7d', 'target_gb_sum_lag7d', 'target_div_cap_lag2d_gb_sum_lag7d'] added!\n",
      "['target_gb_med_lag14d', 'target_div_cap_lag2d_gb_med_lag14d', 'target_gb_max_lag14d', 'target_div_cap_lag2d_gb_max_lag14d', 'target_gb_sum_lag14d', 'target_div_cap_lag2d_gb_sum_lag14d'] added!\n"
     ]
    }
   ],
   "source": [
    "for d in [2, 3, 7, 14]:\n",
    "    train, new_feats = _shift_and_join(\n",
    "        train,\n",
    "        tgt_gb_stats,\n",
    "        join_keys=BASE_TGT_GP_KEYS+[\"is_business\"],\n",
    "        dt_col=\"datetime\",\n",
    "        feats=[c for c in tgt_gb_stats.columns if \"_gb_\" in c],\n",
    "        shift_amt=f\"{d}d\"\n",
    "    )\n",
    "    print(new_feats, \"added!\")"
   ]
  },
  {
   "cell_type": "code",
   "execution_count": 49,
   "id": "cae8b3d5-a8b4-49db-9f86-0f8f0dbb60f3",
   "metadata": {
    "tags": []
   },
   "outputs": [
    {
     "name": "stdout",
     "output_type": "stream",
     "text": [
      "['target_gp_med_lag2d', 'target_div_cap_lag2d_gp_med_lag2d', 'target_gp_max_lag2d', 'target_div_cap_lag2d_gp_max_lag2d', 'target_gp_sum_lag2d', 'target_div_cap_lag2d_gp_sum_lag2d'] added!\n",
      "['target_gp_med_lag3d', 'target_div_cap_lag2d_gp_med_lag3d', 'target_gp_max_lag3d', 'target_div_cap_lag2d_gp_max_lag3d', 'target_gp_sum_lag3d', 'target_div_cap_lag2d_gp_sum_lag3d'] added!\n",
      "['target_gp_med_lag7d', 'target_div_cap_lag2d_gp_med_lag7d', 'target_gp_max_lag7d', 'target_div_cap_lag2d_gp_max_lag7d', 'target_gp_sum_lag7d', 'target_div_cap_lag2d_gp_sum_lag7d'] added!\n",
      "['target_gp_med_lag14d', 'target_div_cap_lag2d_gp_med_lag14d', 'target_gp_max_lag14d', 'target_div_cap_lag2d_gp_max_lag14d', 'target_gp_sum_lag14d', 'target_div_cap_lag2d_gp_sum_lag14d'] added!\n"
     ]
    },
    {
     "data": {
      "text/html": [
       "<div><style>\n",
       ".dataframe > thead > tr,\n",
       ".dataframe > tbody > tr {\n",
       "  text-align: right;\n",
       "  white-space: pre-wrap;\n",
       "}\n",
       "</style>\n",
       "<small>shape: (1, 161)</small><table border=\"1\" class=\"dataframe\"><thead><tr><th>county</th><th>is_business</th><th>product_type</th><th>target</th><th>is_consumption</th><th>datetime</th><th>data_block_id</th><th>row_id</th><th>prediction_unit_id</th><th>date</th><th>eic_count_lag2d</th><th>installed_capacity_lag2d</th><th>temperature_local_mean_hist_lag7d</th><th>dewpoint_local_mean_hist_lag7d</th><th>rain_local_mean_hist_lag7d</th><th>snowfall_local_mean_hist_lag7d</th><th>surface_pressure_local_mean_hist_lag7d</th><th>cloudcover_total_local_mean_hist_lag7d</th><th>cloudcover_low_local_mean_hist_lag7d</th><th>cloudcover_mid_local_mean_hist_lag7d</th><th>cloudcover_high_local_mean_hist_lag7d</th><th>windspeed_10m_local_mean_hist_lag7d</th><th>winddirection_10m_local_mean_hist_lag7d</th><th>shortwave_radiation_local_mean_hist_lag7d</th><th>direct_solar_radiation_local_mean_hist_lag7d</th><th>diffuse_radiation_local_mean_hist_lag7d</th><th>temperature_global_mean_hist_lag7d</th><th>dewpoint_global_mean_hist_lag7d</th><th>rain_global_mean_hist_lag7d</th><th>snowfall_global_mean_hist_lag7d</th><th>surface_pressure_global_mean_hist_lag7d</th><th>cloudcover_total_global_mean_hist_lag7d</th><th>cloudcover_low_global_mean_hist_lag7d</th><th>cloudcover_mid_global_mean_hist_lag7d</th><th>cloudcover_high_global_mean_hist_lag7d</th><th>windspeed_10m_global_mean_hist_lag7d</th><th>winddirection_10m_global_mean_hist_lag7d</th><th>&hellip;</th><th>target_div_cap_lag2d_gb_sum_lag3d</th><th>target_gb_med_lag7d</th><th>target_div_cap_lag2d_gb_med_lag7d</th><th>target_gb_max_lag7d</th><th>target_div_cap_lag2d_gb_max_lag7d</th><th>target_gb_sum_lag7d</th><th>target_div_cap_lag2d_gb_sum_lag7d</th><th>target_gb_med_lag14d</th><th>target_div_cap_lag2d_gb_med_lag14d</th><th>target_gb_max_lag14d</th><th>target_div_cap_lag2d_gb_max_lag14d</th><th>target_gb_sum_lag14d</th><th>target_div_cap_lag2d_gb_sum_lag14d</th><th>target_gp_med_lag2d</th><th>target_div_cap_lag2d_gp_med_lag2d</th><th>target_gp_max_lag2d</th><th>target_div_cap_lag2d_gp_max_lag2d</th><th>target_gp_sum_lag2d</th><th>target_div_cap_lag2d_gp_sum_lag2d</th><th>target_gp_med_lag3d</th><th>target_div_cap_lag2d_gp_med_lag3d</th><th>target_gp_max_lag3d</th><th>target_div_cap_lag2d_gp_max_lag3d</th><th>target_gp_sum_lag3d</th><th>target_div_cap_lag2d_gp_sum_lag3d</th><th>target_gp_med_lag7d</th><th>target_div_cap_lag2d_gp_med_lag7d</th><th>target_gp_max_lag7d</th><th>target_div_cap_lag2d_gp_max_lag7d</th><th>target_gp_sum_lag7d</th><th>target_div_cap_lag2d_gp_sum_lag7d</th><th>target_gp_med_lag14d</th><th>target_div_cap_lag2d_gp_med_lag14d</th><th>target_gp_max_lag14d</th><th>target_div_cap_lag2d_gp_max_lag14d</th><th>target_gp_sum_lag14d</th><th>target_div_cap_lag2d_gp_sum_lag14d</th></tr><tr><td>i8</td><td>i8</td><td>i8</td><td>f32</td><td>i8</td><td>datetime[μs]</td><td>i16</td><td>i32</td><td>i8</td><td>date</td><td>i16</td><td>f32</td><td>f32</td><td>f32</td><td>f32</td><td>f32</td><td>f32</td><td>f64</td><td>f64</td><td>f64</td><td>f64</td><td>f32</td><td>f64</td><td>f32</td><td>f32</td><td>f32</td><td>f32</td><td>f32</td><td>f32</td><td>f32</td><td>f32</td><td>f64</td><td>f64</td><td>f64</td><td>f64</td><td>f32</td><td>f64</td><td>&hellip;</td><td>f32</td><td>f32</td><td>f32</td><td>f32</td><td>f32</td><td>f32</td><td>f32</td><td>f32</td><td>f32</td><td>f32</td><td>f32</td><td>f32</td><td>f32</td><td>f32</td><td>f32</td><td>f32</td><td>f32</td><td>f32</td><td>f32</td><td>f32</td><td>f32</td><td>f32</td><td>f32</td><td>f32</td><td>f32</td><td>f32</td><td>f32</td><td>f32</td><td>f32</td><td>f32</td><td>f32</td><td>f32</td><td>f32</td><td>f32</td><td>f32</td><td>f32</td><td>f32</td></tr></thead><tbody><tr><td>15</td><td>1</td><td>3</td><td>196.240005</td><td>1</td><td>2023-05-31 23:00:00</td><td>637</td><td>2018351</td><td>60</td><td>2023-05-31</td><td>55</td><td>2188.199951</td><td>16.02</td><td>9.860001</td><td>0.0</td><td>0.0</td><td>1003.619995</td><td>8.6</td><td>0.0</td><td>14.4</td><td>0.0</td><td>1.094445</td><td>243.2</td><td>0.0</td><td>0.0</td><td>0.0</td><td>14.886362</td><td>9.89</td><td>0.0</td><td>0.0</td><td>1012.502075</td><td>2.954545</td><td>0.036364</td><td>2.372727</td><td>4.872727</td><td>2.702525</td><td>228.909091</td><td>&hellip;</td><td>8.308355</td><td>291.192993</td><td>0.236618</td><td>7741.029785</td><td>1.051074</td><td>25659.935547</td><td>10.183412</td><td>275.640991</td><td>0.249949</td><td>7775.219238</td><td>1.055259</td><td>25498.027344</td><td>10.456813</td><td>202.615509</td><td>0.085666</td><td>7606.525879</td><td>1.143854</td><td>23265.785156</td><td>5.739431</td><td>186.313507</td><td>0.087189</td><td>6771.436035</td><td>0.685728</td><td>21482.681641</td><td>5.017313</td><td>190.570007</td><td>0.084005</td><td>7741.029785</td><td>1.051074</td><td>23304.285156</td><td>5.535003</td><td>208.709</td><td>0.114637</td><td>7775.219238</td><td>1.055259</td><td>23978.1875</td><td>5.867697</td></tr></tbody></table></div>"
      ],
      "text/plain": [
       "shape: (1, 161)\n",
       "┌────────┬────────────┬────────────┬───────────┬───┬───────────┬───────────┬───────────┬───────────┐\n",
       "│ county ┆ is_busines ┆ product_ty ┆ target    ┆ … ┆ target_gp ┆ target_di ┆ target_gp ┆ target_di │\n",
       "│ ---    ┆ s          ┆ pe         ┆ ---       ┆   ┆ _max_lag1 ┆ v_cap_lag ┆ _sum_lag1 ┆ v_cap_lag │\n",
       "│ i8     ┆ ---        ┆ ---        ┆ f32       ┆   ┆ 4d        ┆ 2d_gp_max ┆ 4d        ┆ 2d_gp_sum │\n",
       "│        ┆ i8         ┆ i8         ┆           ┆   ┆ ---       ┆ _lag1…    ┆ ---       ┆ _lag1…    │\n",
       "│        ┆            ┆            ┆           ┆   ┆ f32       ┆ ---       ┆ f32       ┆ ---       │\n",
       "│        ┆            ┆            ┆           ┆   ┆           ┆ f32       ┆           ┆ f32       │\n",
       "╞════════╪════════════╪════════════╪═══════════╪═══╪═══════════╪═══════════╪═══════════╪═══════════╡\n",
       "│ 15     ┆ 1          ┆ 3          ┆ 196.24000 ┆ … ┆ 7775.2192 ┆ 1.055259  ┆ 23978.187 ┆ 5.867697  │\n",
       "│        ┆            ┆            ┆ 5         ┆   ┆ 38        ┆           ┆ 5         ┆           │\n",
       "└────────┴────────────┴────────────┴───────────┴───┴───────────┴───────────┴───────────┴───────────┘"
      ]
     },
     "execution_count": 49,
     "metadata": {},
     "output_type": "execute_result"
    }
   ],
   "source": [
    "for d in [2, 3, 7, 14]:\n",
    "    train, new_feats = _shift_and_join(\n",
    "        train,\n",
    "        tgt_gp_stats,\n",
    "        join_keys=BASE_TGT_GP_KEYS+[\"product_type\"],\n",
    "        dt_col=\"datetime\",\n",
    "        feats=[c for c in tgt_gp_stats.columns if \"_gp_\" in c],\n",
    "        shift_amt=f\"{d}d\"\n",
    "    )\n",
    "    print(new_feats, \"added!\")\n",
    "train.tail(1)"
   ]
  },
  {
   "cell_type": "code",
   "execution_count": 50,
   "id": "10e923fa-cb0f-4f85-a505-9ec50c384a46",
   "metadata": {
    "tags": []
   },
   "outputs": [],
   "source": [
    "train.write_parquet(\"./data/processed/data_eager_tgt.parqeut\")"
   ]
  },
  {
   "cell_type": "code",
   "execution_count": null,
   "id": "a5d83c64-5b13-4058-9d7d-3b03c5f07dc1",
   "metadata": {},
   "outputs": [],
   "source": [
    "feats = (\n",
    "    TGT_PK_COLS\n",
    "    + tid_feats\n",
    "    + [f\"target_lag{d}d_prod\" for d in range(2, 8)]\n",
    "    + [f\"target_lag{d}d_cons\" for d in range(2, 8)]\n",
    "    + [c for c in train.columns if c.endswith(\"_local_mean\")]\n",
    "    + [\"installed_capacity_lag2d\", \"eic_count_lag2d\"]\n",
    ")\n",
    "\n",
    "with open(\"./data/processed/feats/v1n.pkl\", \"wb\") as f:\n",
    "    pickle.dump(feats, f)"
   ]
  },
  {
   "cell_type": "code",
   "execution_count": null,
   "id": "fb0e53d8-58b7-47ae-960f-5eebaa2669b2",
   "metadata": {},
   "outputs": [],
   "source": []
  },
  {
   "cell_type": "code",
   "execution_count": null,
   "id": "631c312c-576b-43e2-a8ee-06936f67b0b6",
   "metadata": {},
   "outputs": [],
   "source": []
  },
  {
   "cell_type": "code",
   "execution_count": null,
   "id": "e8fd8852-8331-42ad-8086-dd2bc4967d8b",
   "metadata": {},
   "outputs": [],
   "source": []
  },
  {
   "cell_type": "code",
   "execution_count": null,
   "id": "57da049c-d7ae-44c8-b41a-b35ea8068d82",
   "metadata": {},
   "outputs": [],
   "source": []
  },
  {
   "cell_type": "code",
   "execution_count": null,
   "id": "14cf26d4-7af9-451f-8d12-064edda4e52e",
   "metadata": {},
   "outputs": [],
   "source": []
  },
  {
   "cell_type": "code",
   "execution_count": null,
   "id": "7ab7a935-db0f-4760-8848-23a9fe304adb",
   "metadata": {},
   "outputs": [],
   "source": []
  },
  {
   "cell_type": "code",
   "execution_count": null,
   "id": "f429cc6e-432b-4962-9677-8f08d1b6a8a6",
   "metadata": {},
   "outputs": [],
   "source": []
  },
  {
   "cell_type": "code",
   "execution_count": null,
   "id": "0fb6fc5e-8ead-45b4-94e6-65aef039edb9",
   "metadata": {},
   "outputs": [],
   "source": []
  },
  {
   "cell_type": "code",
   "execution_count": null,
   "id": "aa6a7f19-8a4d-45f2-bcf7-19ea419ee0cb",
   "metadata": {},
   "outputs": [],
   "source": []
  },
  {
   "cell_type": "code",
   "execution_count": null,
   "id": "1b861a77-616e-4345-beb1-5c3a75779391",
   "metadata": {},
   "outputs": [],
   "source": []
  },
  {
   "cell_type": "code",
   "execution_count": null,
   "id": "23f4e144-a0cb-4430-902d-4ca01a5bdf3f",
   "metadata": {},
   "outputs": [],
   "source": []
  },
  {
   "cell_type": "code",
   "execution_count": null,
   "id": "0b54aaa6-d0af-42cf-bc01-0a6e051a8a05",
   "metadata": {},
   "outputs": [],
   "source": []
  },
  {
   "cell_type": "code",
   "execution_count": null,
   "id": "f538a066-e690-473b-83c6-48ecb07ee94d",
   "metadata": {},
   "outputs": [],
   "source": []
  },
  {
   "cell_type": "code",
   "execution_count": 4,
   "id": "62dadaef-a180-4801-8741-c4ab60dfe8ad",
   "metadata": {
    "tags": []
   },
   "outputs": [],
   "source": [
    "sub_old = pd.read_csv(\"./submission(2).csv\")\n",
    "sub_new = pd.read_csv(\"./submission(1).csv\")"
   ]
  },
  {
   "cell_type": "code",
   "execution_count": 14,
   "id": "78a5ac49-8143-44d6-b9a5-b25efe347d3e",
   "metadata": {
    "tags": []
   },
   "outputs": [
    {
     "data": {
      "text/plain": [
       "4.512565293485471"
      ]
     },
     "execution_count": 14,
     "metadata": {},
     "output_type": "execute_result"
    }
   ],
   "source": [
    "(sub_old[\"target\"] - sub_new[\"target\"]).abs().mean()"
   ]
  },
  {
   "cell_type": "code",
   "execution_count": 15,
   "id": "8ab791fc-ffe5-4d1e-bab9-ba7d68084d82",
   "metadata": {
    "tags": []
   },
   "outputs": [
    {
     "data": {
      "text/plain": [
       "(12480, 3)"
      ]
     },
     "execution_count": 15,
     "metadata": {},
     "output_type": "execute_result"
    }
   ],
   "source": [
    "sub = sub_old.merge(sub_new, on=\"row_id\", how=\"inner\")\n",
    "sub.shape"
   ]
  },
  {
   "cell_type": "code",
   "execution_count": 17,
   "id": "2e650afe-a4e5-4670-8731-106afeb2fa6c",
   "metadata": {
    "tags": []
   },
   "outputs": [
    {
     "data": {
      "text/html": [
       "<div>\n",
       "<style scoped>\n",
       "    .dataframe tbody tr th:only-of-type {\n",
       "        vertical-align: middle;\n",
       "    }\n",
       "\n",
       "    .dataframe tbody tr th {\n",
       "        vertical-align: top;\n",
       "    }\n",
       "\n",
       "    .dataframe thead th {\n",
       "        text-align: right;\n",
       "    }\n",
       "</style>\n",
       "<table border=\"1\" class=\"dataframe\">\n",
       "  <thead>\n",
       "    <tr style=\"text-align: right;\">\n",
       "      <th></th>\n",
       "      <th>row_id</th>\n",
       "      <th>target_x</th>\n",
       "      <th>target_y</th>\n",
       "    </tr>\n",
       "  </thead>\n",
       "  <tbody>\n",
       "    <tr>\n",
       "      <th>0</th>\n",
       "      <td>2005872</td>\n",
       "      <td>2.374275</td>\n",
       "      <td>2.177378</td>\n",
       "    </tr>\n",
       "    <tr>\n",
       "      <th>1</th>\n",
       "      <td>2005873</td>\n",
       "      <td>588.617859</td>\n",
       "      <td>591.726318</td>\n",
       "    </tr>\n",
       "    <tr>\n",
       "      <th>2</th>\n",
       "      <td>2005874</td>\n",
       "      <td>0.003012</td>\n",
       "      <td>0.002837</td>\n",
       "    </tr>\n",
       "    <tr>\n",
       "      <th>3</th>\n",
       "      <td>2005875</td>\n",
       "      <td>4.660009</td>\n",
       "      <td>4.609813</td>\n",
       "    </tr>\n",
       "    <tr>\n",
       "      <th>4</th>\n",
       "      <td>2005876</td>\n",
       "      <td>15.930773</td>\n",
       "      <td>14.683292</td>\n",
       "    </tr>\n",
       "    <tr>\n",
       "      <th>5</th>\n",
       "      <td>2005877</td>\n",
       "      <td>1582.033142</td>\n",
       "      <td>1592.878723</td>\n",
       "    </tr>\n",
       "    <tr>\n",
       "      <th>6</th>\n",
       "      <td>2005878</td>\n",
       "      <td>0.083163</td>\n",
       "      <td>0.086541</td>\n",
       "    </tr>\n",
       "    <tr>\n",
       "      <th>7</th>\n",
       "      <td>2005879</td>\n",
       "      <td>465.100296</td>\n",
       "      <td>475.512924</td>\n",
       "    </tr>\n",
       "    <tr>\n",
       "      <th>8</th>\n",
       "      <td>2005880</td>\n",
       "      <td>0.094285</td>\n",
       "      <td>0.100203</td>\n",
       "    </tr>\n",
       "    <tr>\n",
       "      <th>9</th>\n",
       "      <td>2005881</td>\n",
       "      <td>758.514252</td>\n",
       "      <td>772.407135</td>\n",
       "    </tr>\n",
       "    <tr>\n",
       "      <th>10</th>\n",
       "      <td>2005882</td>\n",
       "      <td>0.004979</td>\n",
       "      <td>0.005925</td>\n",
       "    </tr>\n",
       "    <tr>\n",
       "      <th>11</th>\n",
       "      <td>2005883</td>\n",
       "      <td>14.216831</td>\n",
       "      <td>14.306703</td>\n",
       "    </tr>\n",
       "    <tr>\n",
       "      <th>12</th>\n",
       "      <td>2005884</td>\n",
       "      <td>7.150473</td>\n",
       "      <td>7.075471</td>\n",
       "    </tr>\n",
       "    <tr>\n",
       "      <th>13</th>\n",
       "      <td>2005885</td>\n",
       "      <td>6464.630371</td>\n",
       "      <td>6468.730225</td>\n",
       "    </tr>\n",
       "    <tr>\n",
       "      <th>14</th>\n",
       "      <td>2005886</td>\n",
       "      <td>0.775223</td>\n",
       "      <td>0.747611</td>\n",
       "    </tr>\n",
       "    <tr>\n",
       "      <th>15</th>\n",
       "      <td>2005887</td>\n",
       "      <td>13.449952</td>\n",
       "      <td>13.310181</td>\n",
       "    </tr>\n",
       "    <tr>\n",
       "      <th>16</th>\n",
       "      <td>2005888</td>\n",
       "      <td>0.989936</td>\n",
       "      <td>1.122500</td>\n",
       "    </tr>\n",
       "    <tr>\n",
       "      <th>17</th>\n",
       "      <td>2005889</td>\n",
       "      <td>50.729660</td>\n",
       "      <td>51.540379</td>\n",
       "    </tr>\n",
       "    <tr>\n",
       "      <th>18</th>\n",
       "      <td>2005890</td>\n",
       "      <td>0.099179</td>\n",
       "      <td>0.092212</td>\n",
       "    </tr>\n",
       "    <tr>\n",
       "      <th>19</th>\n",
       "      <td>2005891</td>\n",
       "      <td>76.439337</td>\n",
       "      <td>76.749758</td>\n",
       "    </tr>\n",
       "  </tbody>\n",
       "</table>\n",
       "</div>"
      ],
      "text/plain": [
       "     row_id     target_x     target_y\n",
       "0   2005872     2.374275     2.177378\n",
       "1   2005873   588.617859   591.726318\n",
       "2   2005874     0.003012     0.002837\n",
       "3   2005875     4.660009     4.609813\n",
       "4   2005876    15.930773    14.683292\n",
       "5   2005877  1582.033142  1592.878723\n",
       "6   2005878     0.083163     0.086541\n",
       "7   2005879   465.100296   475.512924\n",
       "8   2005880     0.094285     0.100203\n",
       "9   2005881   758.514252   772.407135\n",
       "10  2005882     0.004979     0.005925\n",
       "11  2005883    14.216831    14.306703\n",
       "12  2005884     7.150473     7.075471\n",
       "13  2005885  6464.630371  6468.730225\n",
       "14  2005886     0.775223     0.747611\n",
       "15  2005887    13.449952    13.310181\n",
       "16  2005888     0.989936     1.122500\n",
       "17  2005889    50.729660    51.540379\n",
       "18  2005890     0.099179     0.092212\n",
       "19  2005891    76.439337    76.749758"
      ]
     },
     "execution_count": 17,
     "metadata": {},
     "output_type": "execute_result"
    }
   ],
   "source": [
    "sub.head(20)"
   ]
  },
  {
   "cell_type": "code",
   "execution_count": 30,
   "id": "b4ee1856-5984-4760-9135-1493a75106aa",
   "metadata": {
    "tags": []
   },
   "outputs": [
    {
     "data": {
      "text/html": [
       "<div>\n",
       "<style scoped>\n",
       "    .dataframe tbody tr th:only-of-type {\n",
       "        vertical-align: middle;\n",
       "    }\n",
       "\n",
       "    .dataframe tbody tr th {\n",
       "        vertical-align: top;\n",
       "    }\n",
       "\n",
       "    .dataframe thead th {\n",
       "        text-align: right;\n",
       "    }\n",
       "</style>\n",
       "<table border=\"1\" class=\"dataframe\">\n",
       "  <thead>\n",
       "    <tr style=\"text-align: right;\">\n",
       "      <th></th>\n",
       "      <th>row_id</th>\n",
       "      <th>target_x</th>\n",
       "      <th>target_y</th>\n",
       "    </tr>\n",
       "  </thead>\n",
       "  <tbody>\n",
       "    <tr>\n",
       "      <th>17</th>\n",
       "      <td>2005889</td>\n",
       "      <td>50.72966</td>\n",
       "      <td>51.540379</td>\n",
       "    </tr>\n",
       "  </tbody>\n",
       "</table>\n",
       "</div>"
      ],
      "text/plain": [
       "     row_id  target_x   target_y\n",
       "17  2005889  50.72966  51.540379"
      ]
     },
     "execution_count": 30,
     "metadata": {},
     "output_type": "execute_result"
    }
   ],
   "source": [
    "sub[sub[\"row_id\"] == 2005889]"
   ]
  },
  {
   "cell_type": "code",
   "execution_count": 11,
   "id": "11937072-833b-4ede-8cf5-1838542e16f4",
   "metadata": {
    "tags": []
   },
   "outputs": [
    {
     "data": {
      "text/html": [
       "<div>\n",
       "<style scoped>\n",
       "    .dataframe tbody tr th:only-of-type {\n",
       "        vertical-align: middle;\n",
       "    }\n",
       "\n",
       "    .dataframe tbody tr th {\n",
       "        vertical-align: top;\n",
       "    }\n",
       "\n",
       "    .dataframe thead th {\n",
       "        text-align: right;\n",
       "    }\n",
       "</style>\n",
       "<table border=\"1\" class=\"dataframe\">\n",
       "  <thead>\n",
       "    <tr style=\"text-align: right;\">\n",
       "      <th></th>\n",
       "      <th>row_id</th>\n",
       "      <th>target</th>\n",
       "    </tr>\n",
       "  </thead>\n",
       "  <tbody>\n",
       "    <tr>\n",
       "      <th>0</th>\n",
       "      <td>2005872</td>\n",
       "      <td>2.177378</td>\n",
       "    </tr>\n",
       "    <tr>\n",
       "      <th>1</th>\n",
       "      <td>2005873</td>\n",
       "      <td>591.726318</td>\n",
       "    </tr>\n",
       "    <tr>\n",
       "      <th>2</th>\n",
       "      <td>2005874</td>\n",
       "      <td>0.002837</td>\n",
       "    </tr>\n",
       "    <tr>\n",
       "      <th>3</th>\n",
       "      <td>2005875</td>\n",
       "      <td>4.609813</td>\n",
       "    </tr>\n",
       "    <tr>\n",
       "      <th>4</th>\n",
       "      <td>2005876</td>\n",
       "      <td>14.683292</td>\n",
       "    </tr>\n",
       "  </tbody>\n",
       "</table>\n",
       "</div>"
      ],
      "text/plain": [
       "    row_id      target\n",
       "0  2005872    2.177378\n",
       "1  2005873  591.726318\n",
       "2  2005874    0.002837\n",
       "3  2005875    4.609813\n",
       "4  2005876   14.683292"
      ]
     },
     "execution_count": 11,
     "metadata": {},
     "output_type": "execute_result"
    }
   ],
   "source": [
    "sub_new.head()"
   ]
  },
  {
   "cell_type": "code",
   "execution_count": 13,
   "id": "c3bb7c75-1efd-4236-9f39-fa47de728193",
   "metadata": {
    "tags": []
   },
   "outputs": [
    {
     "data": {
      "image/png": "[encoded data removed]",
      "text/plain": [
       "<Figure size 1600x300 with 1 Axes>"
      ]
     },
     "metadata": {},
     "output_type": "display_data"
    }
   ],
   "source": [
    "for i in range(0, len(sub_old), 500):\n",
    "    fig, ax = plt.subplots(figsize=(16, 3))\n",
    "    ax.plot(sub_old[\"target\"][i:i+10], \"b-\", label=\"70\", alpha=0.3)\n",
    "    ax.plot(sub_new[\"target\"][i:i+10], \"r-\", label=\"210\", alpha=0.3)\n",
    "    ax.legend()\n",
    "    plt.show()\n",
    "    break"
   ]
  },
  {
   "cell_type": "code",
   "execution_count": null,
   "id": "c27ff4cd-fd71-4a2c-a61d-822c95c93f39",
   "metadata": {},
   "outputs": [],
   "source": []
  },
  {
   "cell_type": "code",
   "execution_count": null,
   "id": "d3d1cb8f-6cb8-4c99-8111-f053fdbdf3fa",
   "metadata": {},
   "outputs": [],
   "source": []
  },
  {
   "cell_type": "code",
   "execution_count": null,
   "id": "5b84c321-1ef9-49fc-a26a-a4f173deee45",
   "metadata": {},
   "outputs": [],
   "source": []
  },
  {
   "cell_type": "markdown",
   "id": "ac29cdab-7149-4d38-812b-82201d12c62c",
   "metadata": {
    "tags": []
   },
   "source": [
    "### *Time Identifiers*"
   ]
  },
  {
   "cell_type": "code",
   "execution_count": 1,
   "id": "db64a970-75d7-490f-92bd-7a9383c26a4f",
   "metadata": {
    "tags": []
   },
   "outputs": [],
   "source": [
    "from datetime import datetime, timedelta"
   ]
  },
  {
   "cell_type": "code",
   "execution_count": 2,
   "id": "89278e68-ff22-4caf-9e2d-d5ca3bd1c3b8",
   "metadata": {
    "tags": []
   },
   "outputs": [],
   "source": [
    "import polars  as pl\n",
    "train = pl.read_parquet(\"./data/processed/data_eager_tgt.parquet\")"
   ]
  },
  {
   "cell_type": "code",
   "execution_count": 3,
   "id": "b290b58f-7574-4717-86f7-7b59c855f4e8",
   "metadata": {
    "tags": []
   },
   "outputs": [],
   "source": [
    "holidays = pl.read_csv(\"./data/raw/open_src/holidays.csv\")\n",
    "if \"date\" not in train:\n",
    "    train = train.with_columns(pl.col(\"datetime\").dt.date().alias(\"date\"))"
   ]
  },
  {
   "cell_type": "code",
   "execution_count": 4,
   "id": "75a0d655-656c-4a6b-8446-8dba55898c20",
   "metadata": {
    "tags": []
   },
   "outputs": [],
   "source": [
    "tid_feats = [\n",
    "    pl.col(\"datetime\").dt.quarter().alias(\"quarter\"),\n",
    "    pl.col(\"datetime\").dt.month().alias(\"month\"),\n",
    "    pl.col(\"datetime\").dt.day().alias(\"day\"),\n",
    "    pl.col(\"datetime\").dt.weekday().alias(\"weekday\"),\n",
    "    pl.col(\"datetime\").dt.hour().alias(\"hour\"),\n",
    "    # ===\n",
    "    # Can convert to other encoding (e.g., sin/cos)\n",
    "    pl.col(\"datetime\").dt.ordinal_day().alias(\"dayofyear\"),\n",
    "    # ===\n",
    "]"
   ]
  },
  {
   "cell_type": "code",
   "execution_count": 5,
   "id": "159e0271-2861-4835-8c2b-db036158f56f",
   "metadata": {
    "tags": []
   },
   "outputs": [],
   "source": [
    "ds, de = datetime(2021, 9, 1), datetime(2024, 12, 31)\n",
    "date_range = [ds + timedelta(days=d) for d in range((de - ds).days + 1)]\n",
    "date_df = pl.DataFrame({\"date\": date_range}).with_columns(pl.col(\"date\").cast(pl.Date))\n",
    "holidays = (\n",
    "    holidays\n",
    "    .select([\"date\", \"holiday_type\"])\n",
    "    .with_columns(pl.col(\"date\").cast(pl.Date))\n",
    ")\n",
    "holidays = (\n",
    "    date_df\n",
    "    .join(holidays, on=\"date\", how=\"left\")\n",
    "    .fill_null(0)\n",
    "    .unique(subset=[\"date\"])\n",
    "    .rename({\"date\": \"holiday_date\"})\n",
    ")"
   ]
  },
  {
   "cell_type": "code",
   "execution_count": 6,
   "id": "4bdca4e7-1143-4eb6-8205-b1959e7e7418",
   "metadata": {
    "tags": []
   },
   "outputs": [],
   "source": [
    "train = (\n",
    "    train\n",
    "    .rename({\"date\": \"holiday_date\"})\n",
    "    .with_columns(tid_feats)\n",
    "    .join(holidays, on=[\"holiday_date\"], how=\"left\")\n",
    "    .drop(\"holiday_date\")\n",
    ")"
   ]
  },
  {
   "cell_type": "code",
   "execution_count": 106,
   "id": "74327d75-efb7-40aa-9b4c-93b87885d222",
   "metadata": {
    "tags": []
   },
   "outputs": [
    {
     "data": {
      "text/html": [
       "<div><style>\n",
       ".dataframe > thead > tr,\n",
       ".dataframe > tbody > tr {\n",
       "  text-align: right;\n",
       "  white-space: pre-wrap;\n",
       "}\n",
       "</style>\n",
       "<small>shape: (5, 116)</small><table border=\"1\" class=\"dataframe\"><thead><tr><th>county</th><th>is_business</th><th>product_type</th><th>target</th><th>is_consumption</th><th>datetime</th><th>data_block_id</th><th>row_id</th><th>prediction_unit_id</th><th>eic_count_lag2d</th><th>installed_capacity_lag2d</th><th>temperature_local_mean</th><th>dewpoint_local_mean</th><th>cloudcover_high_local_mean</th><th>cloudcover_low_local_mean</th><th>cloudcover_mid_local_mean</th><th>cloudcover_total_local_mean</th><th>10_metre_u_wind_component_local_mean</th><th>10_metre_v_wind_component_local_mean</th><th>direct_solar_radiation_local_mean</th><th>surface_solar_radiation_downwards_local_mean</th><th>snowfall_local_mean</th><th>total_precipitation_local_mean</th><th>temperature_global_mean</th><th>dewpoint_global_mean</th><th>cloudcover_high_global_mean</th><th>cloudcover_low_global_mean</th><th>cloudcover_mid_global_mean</th><th>cloudcover_total_global_mean</th><th>10_metre_u_wind_component_global_mean</th><th>10_metre_v_wind_component_global_mean</th><th>direct_solar_radiation_global_mean</th><th>surface_solar_radiation_downwards_global_mean</th><th>snowfall_global_mean</th><th>total_precipitation_global_mean</th><th>temperature_local_mean_hist_lag2d</th><th>dewpoint_local_mean_hist_lag2d</th><th>&hellip;</th><th>rain_global_mean_hist_lag7d</th><th>snowfall_global_mean_hist_lag7d</th><th>surface_pressure_global_mean_hist_lag7d</th><th>cloudcover_total_global_mean_hist_lag7d</th><th>cloudcover_low_global_mean_hist_lag7d</th><th>cloudcover_mid_global_mean_hist_lag7d</th><th>cloudcover_high_global_mean_hist_lag7d</th><th>windspeed_10m_global_mean_hist_lag7d</th><th>winddirection_10m_global_mean_hist_lag7d</th><th>shortwave_radiation_global_mean_hist_lag7d</th><th>direct_solar_radiation_global_mean_hist_lag7d</th><th>diffuse_radiation_global_mean_hist_lag7d</th><th>target_div_cap_lag2d</th><th>target_div_eic_lag2d</th><th>target_lag2d_prod</th><th>target_lag3d_prod</th><th>target_lag4d_prod</th><th>target_lag5d_prod</th><th>target_lag6d_prod</th><th>target_lag7d_prod</th><th>target_lag2d_cons</th><th>target_lag3d_cons</th><th>target_lag4d_cons</th><th>target_lag5d_cons</th><th>target_lag6d_cons</th><th>target_lag7d_cons</th><th>quarter</th><th>month</th><th>day</th><th>weekday</th><th>hour</th><th>dayofyear</th><th>holiday_type</th><th>dayofyear_sin</th><th>dayofyear_cos</th><th>hour_sin</th><th>hour_cos</th></tr><tr><td>i8</td><td>i8</td><td>i8</td><td>f32</td><td>i8</td><td>datetime[μs]</td><td>i16</td><td>i32</td><td>i8</td><td>i16</td><td>f32</td><td>f32</td><td>f32</td><td>f32</td><td>f32</td><td>f32</td><td>f32</td><td>f32</td><td>f32</td><td>f32</td><td>f32</td><td>f32</td><td>f32</td><td>f32</td><td>f32</td><td>f32</td><td>f32</td><td>f32</td><td>f32</td><td>f32</td><td>f32</td><td>f32</td><td>f32</td><td>f32</td><td>f32</td><td>f32</td><td>f32</td><td>&hellip;</td><td>f32</td><td>f32</td><td>f32</td><td>f64</td><td>f64</td><td>f64</td><td>f64</td><td>f32</td><td>f64</td><td>f32</td><td>f32</td><td>f32</td><td>f32</td><td>f32</td><td>f32</td><td>f32</td><td>f32</td><td>f32</td><td>f32</td><td>f32</td><td>f32</td><td>f32</td><td>f32</td><td>f32</td><td>f32</td><td>f32</td><td>u32</td><td>u32</td><td>u32</td><td>u32</td><td>u32</td><td>u32</td><td>i64</td><td>f64</td><td>f64</td><td>f64</td><td>f64</td></tr></thead><tbody><tr><td>0</td><td>0</td><td>1</td><td>0.713</td><td>0</td><td>2021-09-01 00:00:00</td><td>0</td><td>0</td><td>0</td><td>null</td><td>null</td><td>null</td><td>null</td><td>null</td><td>null</td><td>null</td><td>null</td><td>null</td><td>null</td><td>null</td><td>null</td><td>null</td><td>null</td><td>null</td><td>null</td><td>null</td><td>null</td><td>null</td><td>null</td><td>null</td><td>null</td><td>null</td><td>null</td><td>null</td><td>null</td><td>null</td><td>null</td><td>&hellip;</td><td>null</td><td>null</td><td>null</td><td>null</td><td>null</td><td>null</td><td>null</td><td>null</td><td>null</td><td>null</td><td>null</td><td>null</td><td>null</td><td>null</td><td>null</td><td>null</td><td>null</td><td>null</td><td>null</td><td>null</td><td>null</td><td>null</td><td>null</td><td>null</td><td>null</td><td>null</td><td>3</td><td>9</td><td>1</td><td>3</td><td>0</td><td>244</td><td>0</td><td>-0.866025</td><td>-0.5</td><td>0.0</td><td>1.0</td></tr><tr><td>0</td><td>0</td><td>1</td><td>96.589996</td><td>1</td><td>2021-09-01 00:00:00</td><td>0</td><td>1</td><td>0</td><td>null</td><td>null</td><td>null</td><td>null</td><td>null</td><td>null</td><td>null</td><td>null</td><td>null</td><td>null</td><td>null</td><td>null</td><td>null</td><td>null</td><td>null</td><td>null</td><td>null</td><td>null</td><td>null</td><td>null</td><td>null</td><td>null</td><td>null</td><td>null</td><td>null</td><td>null</td><td>null</td><td>null</td><td>&hellip;</td><td>null</td><td>null</td><td>null</td><td>null</td><td>null</td><td>null</td><td>null</td><td>null</td><td>null</td><td>null</td><td>null</td><td>null</td><td>null</td><td>null</td><td>null</td><td>null</td><td>null</td><td>null</td><td>null</td><td>null</td><td>null</td><td>null</td><td>null</td><td>null</td><td>null</td><td>null</td><td>3</td><td>9</td><td>1</td><td>3</td><td>0</td><td>244</td><td>0</td><td>-0.866025</td><td>-0.5</td><td>0.0</td><td>1.0</td></tr><tr><td>0</td><td>0</td><td>2</td><td>0.0</td><td>0</td><td>2021-09-01 00:00:00</td><td>0</td><td>2</td><td>1</td><td>null</td><td>null</td><td>null</td><td>null</td><td>null</td><td>null</td><td>null</td><td>null</td><td>null</td><td>null</td><td>null</td><td>null</td><td>null</td><td>null</td><td>null</td><td>null</td><td>null</td><td>null</td><td>null</td><td>null</td><td>null</td><td>null</td><td>null</td><td>null</td><td>null</td><td>null</td><td>null</td><td>null</td><td>&hellip;</td><td>null</td><td>null</td><td>null</td><td>null</td><td>null</td><td>null</td><td>null</td><td>null</td><td>null</td><td>null</td><td>null</td><td>null</td><td>null</td><td>null</td><td>null</td><td>null</td><td>null</td><td>null</td><td>null</td><td>null</td><td>null</td><td>null</td><td>null</td><td>null</td><td>null</td><td>null</td><td>3</td><td>9</td><td>1</td><td>3</td><td>0</td><td>244</td><td>0</td><td>-0.866025</td><td>-0.5</td><td>0.0</td><td>1.0</td></tr><tr><td>0</td><td>0</td><td>2</td><td>17.313999</td><td>1</td><td>2021-09-01 00:00:00</td><td>0</td><td>3</td><td>1</td><td>null</td><td>null</td><td>null</td><td>null</td><td>null</td><td>null</td><td>null</td><td>null</td><td>null</td><td>null</td><td>null</td><td>null</td><td>null</td><td>null</td><td>null</td><td>null</td><td>null</td><td>null</td><td>null</td><td>null</td><td>null</td><td>null</td><td>null</td><td>null</td><td>null</td><td>null</td><td>null</td><td>null</td><td>&hellip;</td><td>null</td><td>null</td><td>null</td><td>null</td><td>null</td><td>null</td><td>null</td><td>null</td><td>null</td><td>null</td><td>null</td><td>null</td><td>null</td><td>null</td><td>null</td><td>null</td><td>null</td><td>null</td><td>null</td><td>null</td><td>null</td><td>null</td><td>null</td><td>null</td><td>null</td><td>null</td><td>3</td><td>9</td><td>1</td><td>3</td><td>0</td><td>244</td><td>0</td><td>-0.866025</td><td>-0.5</td><td>0.0</td><td>1.0</td></tr><tr><td>0</td><td>0</td><td>3</td><td>2.904</td><td>0</td><td>2021-09-01 00:00:00</td><td>0</td><td>4</td><td>2</td><td>null</td><td>null</td><td>null</td><td>null</td><td>null</td><td>null</td><td>null</td><td>null</td><td>null</td><td>null</td><td>null</td><td>null</td><td>null</td><td>null</td><td>null</td><td>null</td><td>null</td><td>null</td><td>null</td><td>null</td><td>null</td><td>null</td><td>null</td><td>null</td><td>null</td><td>null</td><td>null</td><td>null</td><td>&hellip;</td><td>null</td><td>null</td><td>null</td><td>null</td><td>null</td><td>null</td><td>null</td><td>null</td><td>null</td><td>null</td><td>null</td><td>null</td><td>null</td><td>null</td><td>null</td><td>null</td><td>null</td><td>null</td><td>null</td><td>null</td><td>null</td><td>null</td><td>null</td><td>null</td><td>null</td><td>null</td><td>3</td><td>9</td><td>1</td><td>3</td><td>0</td><td>244</td><td>0</td><td>-0.866025</td><td>-0.5</td><td>0.0</td><td>1.0</td></tr></tbody></table></div>"
      ],
      "text/plain": [
       "shape: (5, 116)\n",
       "┌────────┬────────────┬────────────┬───────────┬───┬────────────┬────────────┬──────────┬──────────┐\n",
       "│ county ┆ is_busines ┆ product_ty ┆ target    ┆ … ┆ dayofyear_ ┆ dayofyear_ ┆ hour_sin ┆ hour_cos │\n",
       "│ ---    ┆ s          ┆ pe         ┆ ---       ┆   ┆ sin        ┆ cos        ┆ ---      ┆ ---      │\n",
       "│ i8     ┆ ---        ┆ ---        ┆ f32       ┆   ┆ ---        ┆ ---        ┆ f64      ┆ f64      │\n",
       "│        ┆ i8         ┆ i8         ┆           ┆   ┆ f64        ┆ f64        ┆          ┆          │\n",
       "╞════════╪════════════╪════════════╪═══════════╪═══╪════════════╪════════════╪══════════╪══════════╡\n",
       "│ 0      ┆ 0          ┆ 1          ┆ 0.713     ┆ … ┆ -0.866025  ┆ -0.5       ┆ 0.0      ┆ 1.0      │\n",
       "│ 0      ┆ 0          ┆ 1          ┆ 96.589996 ┆ … ┆ -0.866025  ┆ -0.5       ┆ 0.0      ┆ 1.0      │\n",
       "│ 0      ┆ 0          ┆ 2          ┆ 0.0       ┆ … ┆ -0.866025  ┆ -0.5       ┆ 0.0      ┆ 1.0      │\n",
       "│ 0      ┆ 0          ┆ 2          ┆ 17.313999 ┆ … ┆ -0.866025  ┆ -0.5       ┆ 0.0      ┆ 1.0      │\n",
       "│ 0      ┆ 0          ┆ 3          ┆ 2.904     ┆ … ┆ -0.866025  ┆ -0.5       ┆ 0.0      ┆ 1.0      │\n",
       "└────────┴────────────┴────────────┴───────────┴───┴────────────┴────────────┴──────────┴──────────┘"
      ]
     },
     "execution_count": 106,
     "metadata": {},
     "output_type": "execute_result"
    }
   ],
   "source": [
    "# Use 2pi radian as base to derive timestamp encoding\n",
    "train = (\n",
    "    train\n",
    "    .with_columns(\n",
    "        (np.pi * pl.col(\"dayofyear\") / 183).sin().alias(\"dayofyear_sin\"),\n",
    "        (np.pi * pl.col(\"dayofyear\") / 183).cos().alias(\"dayofyear_cos\"),\n",
    "        (np.pi * pl.col(\"hour\") / 12).sin().alias(\"hour_sin\"),\n",
    "        (np.pi * pl.col(\"hour\") / 12).cos().alias(\"hour_cos\"),\n",
    "    )\n",
    ")\n",
    "train.head()"
   ]
  },
  {
   "cell_type": "code",
   "execution_count": 107,
   "id": "f0ed5cf2-f587-4455-ae4c-a4e56c0425ee",
   "metadata": {
    "tags": []
   },
   "outputs": [],
   "source": [
    "# a = train.select([\"dayofyear\", \"dayofyear_sin\"]).unique().sort(\"dayofyear\")\n",
    "# b = train.select([\"dayofyear\", \"dayofyear_cos\"]).unique().sort(\"dayofyear\")\n",
    "\n",
    "# fig, ax = plt.subplots()\n",
    "# ax.plot(a[\"dayofyear\"], a[\"dayofyear_sin\"], \"r-\", label=\"sin\")\n",
    "# ax.plot(b[\"dayofyear\"], b[\"dayofyear_cos\"], \"g-\", label=\"cos\")\n",
    "# ax.legend()\n",
    "# plt.show()"
   ]
  },
  {
   "cell_type": "code",
   "execution_count": 7,
   "id": "e93a4239-be19-48b7-87a3-ee1c7b0c6005",
   "metadata": {
    "tags": []
   },
   "outputs": [],
   "source": [
    "train.write_parquet(\"./data/processed/data_eager_new.parquet\")"
   ]
  },
  {
   "cell_type": "markdown",
   "id": "fd03e28d-a529-42ec-a8c9-204a1052b563",
   "metadata": {},
   "source": [
    "## Feature Version Control"
   ]
  },
  {
   "cell_type": "code",
   "execution_count": 5,
   "id": "95ba7c4f-0d57-4052-823d-cda62d02e9ab",
   "metadata": {
    "tags": []
   },
   "outputs": [
    {
     "ename": "NameError",
     "evalue": "name 'PROC_DATA_PATH' is not defined",
     "output_type": "error",
     "traceback": [
      "\u001b[0;31m---------------------------------------------------------------------------\u001b[0m",
      "\u001b[0;31mNameError\u001b[0m                                 Traceback (most recent call last)",
      "Cell \u001b[0;32mIn[5], line 1\u001b[0m\n\u001b[0;32m----> 1\u001b[0m FEAT_VER_PATH \u001b[38;5;241m=\u001b[39m \u001b[43mPROC_DATA_PATH\u001b[49m \u001b[38;5;241m/\u001b[39m \u001b[38;5;124m\"\u001b[39m\u001b[38;5;124mfeats\u001b[39m\u001b[38;5;124m\"\u001b[39m\n",
      "\u001b[0;31mNameError\u001b[0m: name 'PROC_DATA_PATH' is not defined"
     ]
    }
   ],
   "source": [
    "FEAT_VER_PATH = PROC_DATA_PATH / \"feats\""
   ]
  },
  {
   "cell_type": "code",
   "execution_count": 6,
   "id": "43d9b352-8d13-419f-a040-ca07f104ba52",
   "metadata": {
    "tags": []
   },
   "outputs": [],
   "source": [
    "# Features commonly shared among versions\n",
    "tid_feats = ['quarter', 'month', 'day', 'weekday', 'hour', 'dayofyear', \"holiday_type\"]"
   ]
  },
  {
   "cell_type": "markdown",
   "id": "7230f545-e762-4588-80c3-52efb77f787d",
   "metadata": {},
   "source": [
    "### *Submission Debug*\n",
    "> Use `v1n` for debugging."
   ]
  },
  {
   "cell_type": "code",
   "execution_count": 111,
   "id": "c86f26c9-eab1-46cd-b195-4e4bbaf1c797",
   "metadata": {
    "tags": []
   },
   "outputs": [],
   "source": [
    "feats = (\n",
    "    TGT_PK_COLS\n",
    "    + tid_feats\n",
    "    + [f\"target_lag{d}d_prod\" for d in range(2, 8)]\n",
    "    + [f\"target_lag{d}d_cons\" for d in range(2, 8)]\n",
    ")\n",
    "\n",
    "with open(\"./data/processed/feats/v1_debug.pkl\", \"wb\") as f:\n",
    "    pickle.dump(feats, f)"
   ]
  },
  {
   "cell_type": "code",
   "execution_count": null,
   "id": "95b85e7f-d41a-4550-8cf9-91b1d4ef1419",
   "metadata": {},
   "outputs": [],
   "source": []
  },
  {
   "cell_type": "markdown",
   "id": "777616be-fc16-4fba-a9f8-db68be8acff2",
   "metadata": {
    "jp-MarkdownHeadingCollapsed": true,
    "tags": []
   },
   "source": [
    "### *Pinned Base Features*\n",
    "\n",
    "> Compare other feature sets with this set and take notes (*e.g.,* the difference, the effectiveness)."
   ]
  },
  {
   "cell_type": "code",
   "execution_count": 21,
   "id": "42af81b9-7335-45fa-8d0a-f758ed35c75f",
   "metadata": {
    "tags": []
   },
   "outputs": [],
   "source": [
    "feats = (\n",
    "    TGT_PK_COLS\n",
    "    + tid_feats\n",
    "    + [f\"target_lag{d}d_prod\" for d in range(2, 8)]\n",
    "    + [f\"target_lag{d}d_cons\" for d in range(2, 8)]\n",
    "    + [c for c in train.columns if c.endswith(\"_local_mean\")]\n",
    "    + [\"installed_capacity_lag2d\", \"eic_count_lag2d\"]\n",
    ")\n",
    "\n",
    "with open(\"./data/processed/feats/v1n.pkl\", \"wb\") as f:\n",
    "    pickle.dump(feats, f)"
   ]
  },
  {
   "cell_type": "code",
   "execution_count": 22,
   "id": "a92f0522-925b-41a1-aa09-fc529fca8744",
   "metadata": {
    "tags": []
   },
   "outputs": [],
   "source": [
    "feats = (\n",
    "    TGT_PK_COLS\n",
    "    + tid_feats\n",
    "    + [f\"target_div_cap_lag2d_lag{d}d_prod\" for d in range(2, 8)]\n",
    "    + [f\"target_div_cap_lag2d_lag{d}d_cons\" for d in range(2, 8)]\n",
    "    + [c for c in train.columns if c.endswith(\"_local_mean\")]\n",
    ")\n",
    "\n",
    "with open(\"./data/processed/feats/v2n.pkl\", \"wb\") as f:\n",
    "    pickle.dump(feats, f)"
   ]
  },
  {
   "cell_type": "markdown",
   "id": "904b229f-a06e-4706-a1db-52d37a0f09d2",
   "metadata": {
    "jp-MarkdownHeadingCollapsed": true,
    "tags": []
   },
   "source": [
    "### *Add Timestamp Encoding*\n",
    "Similar to **positional encoding**."
   ]
  },
  {
   "cell_type": "code",
   "execution_count": 15,
   "id": "26eff66a-c912-4be9-bf08-5a986ed862eb",
   "metadata": {
    "tags": []
   },
   "outputs": [],
   "source": [
    "feats = (\n",
    "    TGT_PK_COLS\n",
    "    + tid_feats\n",
    "    + [\"hour_sin\", \"hour_cos\", \"dayofyear_sin\", \"dayofyear_cos\"]\n",
    "    + [f\"target_lag{d}d_prod\" for d in range(2, 8)]\n",
    "    + [f\"target_lag{d}d_cons\" for d in range(2, 8)]\n",
    "    + [c for c in train.columns if c.endswith(\"_local_mean\")]\n",
    "    + [\"installed_capacity_lag2d\", \"eic_count_lag2d\"]\n",
    ")\n",
    "\n",
    "with open(\"./data/processed/feats/v3n.pkl\", \"wb\") as f:\n",
    "    pickle.dump(feats, f)"
   ]
  },
  {
   "cell_type": "code",
   "execution_count": 16,
   "id": "998227d4-00a5-49e2-8209-85c5e5f56054",
   "metadata": {
    "tags": []
   },
   "outputs": [],
   "source": [
    "feats = (\n",
    "    TGT_PK_COLS\n",
    "    + tid_feats\n",
    "    + [\"hour_sin\", \"hour_cos\", \"dayofyear_sin\", \"dayofyear_cos\"]\n",
    "    + [f\"target_div_cap_lag2d_lag{d}d_prod\" for d in range(2, 8)]\n",
    "    + [f\"target_div_cap_lag2d_lag{d}d_cons\" for d in range(2, 8)]\n",
    "    + [c for c in train.columns if c.endswith(\"_local_mean\")]\n",
    ")\n",
    "\n",
    "with open(\"./data/processed/feats/v4n.pkl\", \"wb\") as f:\n",
    "    pickle.dump(feats, f)"
   ]
  },
  {
   "cell_type": "markdown",
   "id": "bc64df93-c264-4067-b207-6fc1100e2aec",
   "metadata": {
    "jp-MarkdownHeadingCollapsed": true,
    "tags": []
   },
   "source": [
    "### *Add Historical Weather Lag2d*"
   ]
  },
  {
   "cell_type": "code",
   "execution_count": 21,
   "id": "f482a1bb-aaec-44ba-b0eb-45dbe3a106ad",
   "metadata": {
    "tags": []
   },
   "outputs": [],
   "source": [
    "feats = (\n",
    "    TGT_PK_COLS\n",
    "    + tid_feats\n",
    "    + [f\"target_lag{d}d_prod\" for d in range(2, 8)]\n",
    "    + [f\"target_lag{d}d_cons\" for d in range(2, 8)]\n",
    "    + [c for c in train.columns if c.endswith(\"_local_mean\")]\n",
    "    + [c for c in train.columns if c.endswith(\"_local_mean_hist_lag2d\")]\n",
    "    + [\"installed_capacity_lag2d\", \"eic_count_lag2d\"]\n",
    ")\n",
    "\n",
    "with open(\"./data/processed/feats/v5n.pkl\", \"wb\") as f:\n",
    "    pickle.dump(feats, f)"
   ]
  },
  {
   "cell_type": "code",
   "execution_count": 22,
   "id": "8f312cd4-1328-4876-8385-98bdbf83a5bf",
   "metadata": {
    "tags": []
   },
   "outputs": [],
   "source": [
    "feats = (\n",
    "    TGT_PK_COLS\n",
    "    + tid_feats\n",
    "    + [f\"target_div_cap_lag2d_lag{d}d_prod\" for d in range(2, 8)]\n",
    "    + [f\"target_div_cap_lag2d_lag{d}d_cons\" for d in range(2, 8)]\n",
    "    + [c for c in train.columns if c.endswith(\"_local_mean\")]\n",
    "    + [c for c in train.columns if c.endswith(\"_local_mean_hist_lag2d\")]\n",
    ")\n",
    "\n",
    "with open(\"./data/processed/feats/v6n.pkl\", \"wb\") as f:\n",
    "    pickle.dump(feats, f)"
   ]
  },
  {
   "cell_type": "markdown",
   "id": "fd804e51-278d-4641-a18f-51e3fb96eb06",
   "metadata": {
    "tags": []
   },
   "source": [
    "### *Add Historical Weathe Lag7d*"
   ]
  },
  {
   "cell_type": "code",
   "execution_count": 27,
   "id": "12bf8a7a-139b-4bba-8177-0e099df45225",
   "metadata": {
    "tags": []
   },
   "outputs": [],
   "source": [
    "feats = (\n",
    "    TGT_PK_COLS\n",
    "    + tid_feats\n",
    "    + [f\"target_lag{d}d_prod\" for d in range(2, 8)]\n",
    "    + [f\"target_lag{d}d_cons\" for d in range(2, 8)]\n",
    "    + [c for c in train.columns if c.endswith(\"_local_mean\")]\n",
    "    + [c for c in train.columns if c.endswith(\"_local_mean_hist_lag7d\")]\n",
    "    + [\"installed_capacity_lag2d\", \"eic_count_lag2d\"]\n",
    ")\n",
    "\n",
    "with open(\"./data/processed/feats/v7n.pkl\", \"wb\") as f:\n",
    "    pickle.dump(feats, f)"
   ]
  },
  {
   "cell_type": "code",
   "execution_count": 28,
   "id": "d47c8251-3bca-4d8d-b88f-3fcd8d1d106f",
   "metadata": {
    "tags": []
   },
   "outputs": [],
   "source": [
    "feats = (\n",
    "    TGT_PK_COLS\n",
    "    + tid_feats\n",
    "    + [f\"target_div_cap_lag2d_lag{d}d_prod\" for d in range(2, 8)]\n",
    "    + [f\"target_div_cap_lag2d_lag{d}d_cons\" for d in range(2, 8)]\n",
    "    + [c for c in train.columns if c.endswith(\"_local_mean\")]\n",
    "    + [c for c in train.columns if c.endswith(\"_local_mean_hist_lag7d\")]\n",
    ")\n",
    "\n",
    "with open(\"./data/processed/feats/v8n.pkl\", \"wb\") as f:\n",
    "    pickle.dump(feats, f)"
   ]
  },
  {
   "cell_type": "markdown",
   "id": "2520ca4a-fafc-43d8-bc09-d07c46128904",
   "metadata": {},
   "source": [
    "### "
   ]
  },
  {
   "cell_type": "code",
   "execution_count": 63,
   "id": "4a6ebaa5-3c62-4588-9d40-ed01b58deceb",
   "metadata": {
    "tags": []
   },
   "outputs": [
    {
     "data": {
      "text/plain": [
       "48"
      ]
     },
     "execution_count": 63,
     "metadata": {},
     "output_type": "execute_result"
    }
   ],
   "source": [
    "len([c for c in train.columns if re.search(\"_(lb|lp|gb|gp)_\", c) and \"div\" not in c])"
   ]
  },
  {
   "cell_type": "code",
   "execution_count": 7,
   "id": "aeefc826-b2e6-4d12-9b94-876e7b7f8893",
   "metadata": {
    "tags": []
   },
   "outputs": [],
   "source": [
    "train = pl.read_parquet(\"./data/processed/data_eager_tgt.parquet\")"
   ]
  },
  {
   "cell_type": "code",
   "execution_count": 8,
   "id": "99467c00-5bbb-474d-9b99-d0130ac64241",
   "metadata": {},
   "outputs": [],
   "source": [
    "feats = (\n",
    "    TGT_PK_COLS\n",
    "    + tid_feats\n",
    "    + [f\"target_lag{d}d_prod\" for d in range(2, 8)]\n",
    "    + [f\"target_lag{d}d_cons\" for d in range(2, 8)]\n",
    "    # + [c for c in train.columns if re.search(\"_(lb|lp|gb|gp)_\", c) and \"div\" not in c]\n",
    "    + [c for c in train.columns if c.endswith(\"_local_mean\")]\n",
    "    + [c for c in train.columns if c.endswith(\"_local_mean_hist_lag7d\")]\n",
    "    + [\"installed_capacity_lag2d\", \"eic_count_lag2d\"]\n",
    ")\n",
    "\n",
    "with open(\"./data/processed/feats/v9n.pkl\", \"wb\") as f:\n",
    "    pickle.dump(feats, f)"
   ]
  },
  {
   "cell_type": "code",
   "execution_count": 70,
   "id": "9870acd6-93e9-4747-8b1f-5feec6c128c4",
   "metadata": {
    "tags": []
   },
   "outputs": [],
   "source": [
    "feats = (\n",
    "    TGT_PK_COLS\n",
    "    + tid_feats\n",
    "    + [f\"target_div_cap_lag2d_lag{d}d_prod\" for d in range(2, 8)]\n",
    "    + [f\"target_div_cap_lag2d_lag{d}d_cons\" for d in range(2, 8)]\n",
    "    + [c for c in train.columns if re.search(\"_(lb|lp|gb|gp)_\", c) and \"div\" in c]\n",
    "    + [c for c in train.columns if c.endswith(\"_local_mean\")]\n",
    "    + [c for c in train.columns if c.endswith(\"_local_mean_hist_lag7d\")]\n",
    ")\n",
    "\n",
    "with open(\"./data/processed/feats/v10n.pkl\", \"wb\") as f:\n",
    "    pickle.dump(feats, f)"
   ]
  },
  {
   "cell_type": "code",
   "execution_count": null,
   "id": "085cf380-2cca-42a1-af9d-3cc537b20f62",
   "metadata": {},
   "outputs": [],
   "source": []
  },
  {
   "cell_type": "code",
   "execution_count": null,
   "id": "b70ba755-9bdf-4592-97e2-64f2d676a5c4",
   "metadata": {},
   "outputs": [],
   "source": []
  },
  {
   "cell_type": "code",
   "execution_count": null,
   "id": "0473aeb3-656b-44c7-bbd2-ad36ecbb7ffa",
   "metadata": {},
   "outputs": [],
   "source": []
  },
  {
   "cell_type": "code",
   "execution_count": null,
   "id": "e6bd42b4-5601-4ef9-81f0-49130ea0ac52",
   "metadata": {},
   "outputs": [],
   "source": []
  },
  {
   "cell_type": "code",
   "execution_count": null,
   "id": "301861d0-684d-4d03-8e14-1d5ec6bb250a",
   "metadata": {},
   "outputs": [],
   "source": []
  },
  {
   "cell_type": "code",
   "execution_count": null,
   "id": "bc3ce413-257e-4e03-a342-542b15210bd5",
   "metadata": {},
   "outputs": [],
   "source": []
  },
  {
   "cell_type": "markdown",
   "id": "be4c0d91-4337-45db-84dd-cf3795d5d75c",
   "metadata": {},
   "source": [
    "## Model Combination"
   ]
  },
  {
   "cell_type": "code",
   "execution_count": 18,
   "id": "01f3358f-69d4-4b3e-be3c-5a76718594c4",
   "metadata": {
    "tags": []
   },
   "outputs": [],
   "source": [
    "import pickle"
   ]
  },
  {
   "cell_type": "code",
   "execution_count": 19,
   "id": "90a02c7e-dd70-4f86-b4f0-e44745719673",
   "metadata": {
    "tags": []
   },
   "outputs": [],
   "source": [
    "OUTPUT_DIR = Path(\"./output\")"
   ]
  },
  {
   "cell_type": "code",
   "execution_count": 39,
   "id": "f3227f43-670f-47df-be36-4a961197013e",
   "metadata": {
    "tags": []
   },
   "outputs": [],
   "source": [
    "exp_id = \"1230-01_43_54\"\n",
    "prod_exp_id = \"1230-00_51_20\"\n",
    "cons_c_exp_id = \"1230-00_58_55\"\n",
    "cons_b_exp_id = \"1230-01_41_51\""
   ]
  },
  {
   "cell_type": "code",
   "execution_count": 43,
   "id": "e6b6ea3c-70c2-4768-87b7-40cf495aa95b",
   "metadata": {
    "tags": []
   },
   "outputs": [],
   "source": [
    "models = {}"
   ]
  },
  {
   "cell_type": "code",
   "execution_count": 46,
   "id": "ae1ecb47-7023-4456-81f0-8312988d5a85",
   "metadata": {
    "collapsed": true,
    "jupyter": {
     "outputs_hidden": true
    },
    "tags": []
   },
   "outputs": [
    {
     "name": "stdout",
     "output_type": "stream",
     "text": [
      "prod 3\n",
      "['county' 'is_business' 'product_type' 'quarter' 'month' 'day' 'weekday'\n",
      " 'hour' 'dayofyear' 'holiday_type' 'target_div_cap_lag2d_lag2d_prod'\n",
      " 'target_div_cap_lag2d_lag3d_prod' 'target_div_cap_lag2d_lag4d_prod'\n",
      " 'target_div_cap_lag2d_lag5d_prod' 'target_div_cap_lag2d_lag6d_prod'\n",
      " 'target_div_cap_lag2d_lag7d_prod' 'target_div_cap_lag2d_lag2d_cons'\n",
      " 'target_div_cap_lag2d_lag3d_cons' 'target_div_cap_lag2d_lag4d_cons'\n",
      " 'target_div_cap_lag2d_lag5d_cons' 'target_div_cap_lag2d_lag6d_cons'\n",
      " 'target_div_cap_lag2d_lag7d_cons' 'temperature_local_mean'\n",
      " 'dewpoint_local_mean' 'cloudcover_high_local_mean'\n",
      " 'cloudcover_low_local_mean' 'cloudcover_mid_local_mean'\n",
      " 'cloudcover_total_local_mean' '10_metre_u_wind_component_local_mean'\n",
      " '10_metre_v_wind_component_local_mean'\n",
      " 'direct_solar_radiation_local_mean'\n",
      " 'surface_solar_radiation_downwards_local_mean' 'snowfall_local_mean'\n",
      " 'total_precipitation_local_mean']\n",
      "cons_c 3\n",
      "['county' 'product_type' 'quarter' 'month' 'day' 'weekday' 'hour'\n",
      " 'dayofyear' 'holiday_type' 'target_div_cap_lag2d_lag2d_prod'\n",
      " 'target_div_cap_lag2d_lag3d_prod' 'target_div_cap_lag2d_lag4d_prod'\n",
      " 'target_div_cap_lag2d_lag5d_prod' 'target_div_cap_lag2d_lag6d_prod'\n",
      " 'target_div_cap_lag2d_lag7d_prod' 'target_div_cap_lag2d_lag2d_cons'\n",
      " 'target_div_cap_lag2d_lag3d_cons' 'target_div_cap_lag2d_lag4d_cons'\n",
      " 'target_div_cap_lag2d_lag5d_cons' 'target_div_cap_lag2d_lag6d_cons'\n",
      " 'target_div_cap_lag2d_lag7d_cons' 'temperature_local_mean'\n",
      " 'dewpoint_local_mean' 'cloudcover_high_local_mean'\n",
      " 'cloudcover_low_local_mean' 'cloudcover_mid_local_mean'\n",
      " 'cloudcover_total_local_mean' '10_metre_u_wind_component_local_mean'\n",
      " '10_metre_v_wind_component_local_mean'\n",
      " 'direct_solar_radiation_local_mean'\n",
      " 'surface_solar_radiation_downwards_local_mean' 'snowfall_local_mean'\n",
      " 'total_precipitation_local_mean' 'temperature_local_mean_hist_lag7d'\n",
      " 'dewpoint_local_mean_hist_lag7d' 'rain_local_mean_hist_lag7d'\n",
      " 'snowfall_local_mean_hist_lag7d' 'surface_pressure_local_mean_hist_lag7d'\n",
      " 'cloudcover_total_local_mean_hist_lag7d'\n",
      " 'cloudcover_low_local_mean_hist_lag7d'\n",
      " 'cloudcover_mid_local_mean_hist_lag7d'\n",
      " 'cloudcover_high_local_mean_hist_lag7d'\n",
      " 'windspeed_10m_local_mean_hist_lag7d'\n",
      " 'winddirection_10m_local_mean_hist_lag7d'\n",
      " 'shortwave_radiation_local_mean_hist_lag7d'\n",
      " 'direct_solar_radiation_local_mean_hist_lag7d'\n",
      " 'diffuse_radiation_local_mean_hist_lag7d']\n",
      "cons_b 3\n",
      "['county' 'is_business' 'product_type' 'quarter' 'month' 'day' 'weekday'\n",
      " 'hour' 'dayofyear' 'holiday_type' 'target_lag2d_prod' 'target_lag3d_prod'\n",
      " 'target_lag4d_prod' 'target_lag5d_prod' 'target_lag6d_prod'\n",
      " 'target_lag7d_prod' 'target_lag2d_cons' 'target_lag3d_cons'\n",
      " 'target_lag4d_cons' 'target_lag5d_cons' 'target_lag6d_cons'\n",
      " 'target_lag7d_cons' 'temperature_local_mean' 'dewpoint_local_mean'\n",
      " 'cloudcover_high_local_mean' 'cloudcover_low_local_mean'\n",
      " 'cloudcover_mid_local_mean' 'cloudcover_total_local_mean'\n",
      " '10_metre_u_wind_component_local_mean'\n",
      " '10_metre_v_wind_component_local_mean'\n",
      " 'direct_solar_radiation_local_mean'\n",
      " 'surface_solar_radiation_downwards_local_mean' 'snowfall_local_mean'\n",
      " 'total_precipitation_local_mean' 'temperature_local_mean_hist_lag7d'\n",
      " 'dewpoint_local_mean_hist_lag7d' 'rain_local_mean_hist_lag7d'\n",
      " 'snowfall_local_mean_hist_lag7d' 'surface_pressure_local_mean_hist_lag7d'\n",
      " 'cloudcover_total_local_mean_hist_lag7d'\n",
      " 'cloudcover_low_local_mean_hist_lag7d'\n",
      " 'cloudcover_mid_local_mean_hist_lag7d'\n",
      " 'cloudcover_high_local_mean_hist_lag7d'\n",
      " 'windspeed_10m_local_mean_hist_lag7d'\n",
      " 'winddirection_10m_local_mean_hist_lag7d'\n",
      " 'shortwave_radiation_local_mean_hist_lag7d'\n",
      " 'direct_solar_radiation_local_mean_hist_lag7d'\n",
      " 'diffuse_radiation_local_mean_hist_lag7d' 'installed_capacity_lag2d'\n",
      " 'eic_count_lag2d']\n"
     ]
    }
   ],
   "source": [
    "with open(OUTPUT_DIR / prod_exp_id / \"models/models_ft.pkl\", \"rb\") as f:\n",
    "    models[\"prod\"] = pickle.load(f)[\"prod\"]\n",
    "with open(OUTPUT_DIR / cons_c_exp_id / \"models/models_ft.pkl\", \"rb\") as f:\n",
    "    models[\"cons_c\"] = pickle.load(f)[\"cons_c\"]\n",
    "with open(OUTPUT_DIR / cons_b_exp_id / \"models/models_ft.pkl\", \"rb\") as f:\n",
    "    models[\"cons_b\"] = pickle.load(f)[\"cons\"]\n",
    "for k, v in models.items():\n",
    "    print(k, len(v))\n",
    "    print(v[0].feature_names_in_)"
   ]
  },
  {
   "cell_type": "code",
   "execution_count": 47,
   "id": "e3473b52-919a-4719-8bb2-e86741d7a7ac",
   "metadata": {
    "tags": []
   },
   "outputs": [],
   "source": [
    "with open(OUTPUT_DIR / exp_id / \"models/models_ft.pkl\", \"wb\") as f:\n",
    "    pickle.dump(models, f)"
   ]
  },
  {
   "cell_type": "code",
   "execution_count": 26,
   "id": "2e15a1e9-8946-4c74-91d2-f39181942e11",
   "metadata": {
    "tags": []
   },
   "outputs": [],
   "source": [
    "exp_id = \"1230-04_29_00\"\n",
    "prod_exp_id = \"1230-04_28_46\"\n",
    "cons_c_exp_id = \"1230-04_28_46\"\n",
    "cons_b_exp_id = \"1230-04_16_52\""
   ]
  },
  {
   "cell_type": "code",
   "execution_count": 27,
   "id": "3dc4eb76-6b0b-4984-8f01-514f6468e0e7",
   "metadata": {
    "tags": []
   },
   "outputs": [],
   "source": [
    "models = {}"
   ]
  },
  {
   "cell_type": "code",
   "execution_count": 28,
   "id": "bd3b657c-09de-4b55-a7a6-f4ec22ce51b8",
   "metadata": {
    "tags": []
   },
   "outputs": [
    {
     "name": "stdout",
     "output_type": "stream",
     "text": [
      "prod 1\n",
      "['county' 'is_business' 'product_type' 'quarter' 'month' 'day' 'weekday'\n",
      " 'hour' 'dayofyear' 'holiday_type' 'target_div_cap_lag2d_lag2d_prod'\n",
      " 'target_div_cap_lag2d_lag3d_prod' 'target_div_cap_lag2d_lag4d_prod'\n",
      " 'target_div_cap_lag2d_lag5d_prod' 'target_div_cap_lag2d_lag6d_prod'\n",
      " 'target_div_cap_lag2d_lag7d_prod' 'target_div_cap_lag2d_lag2d_cons'\n",
      " 'target_div_cap_lag2d_lag3d_cons' 'target_div_cap_lag2d_lag4d_cons'\n",
      " 'target_div_cap_lag2d_lag5d_cons' 'target_div_cap_lag2d_lag6d_cons'\n",
      " 'target_div_cap_lag2d_lag7d_cons' 'temperature_local_mean'\n",
      " 'dewpoint_local_mean' 'cloudcover_high_local_mean'\n",
      " 'cloudcover_low_local_mean' 'cloudcover_mid_local_mean'\n",
      " 'cloudcover_total_local_mean' '10_metre_u_wind_component_local_mean'\n",
      " '10_metre_v_wind_component_local_mean'\n",
      " 'direct_solar_radiation_local_mean'\n",
      " 'surface_solar_radiation_downwards_local_mean' 'snowfall_local_mean'\n",
      " 'total_precipitation_local_mean']\n",
      "cons_c 1\n",
      "['county' 'product_type' 'quarter' 'month' 'day' 'weekday' 'hour'\n",
      " 'dayofyear' 'holiday_type' 'target_div_cap_lag2d_lag2d_prod'\n",
      " 'target_div_cap_lag2d_lag3d_prod' 'target_div_cap_lag2d_lag4d_prod'\n",
      " 'target_div_cap_lag2d_lag5d_prod' 'target_div_cap_lag2d_lag6d_prod'\n",
      " 'target_div_cap_lag2d_lag7d_prod' 'target_div_cap_lag2d_lag2d_cons'\n",
      " 'target_div_cap_lag2d_lag3d_cons' 'target_div_cap_lag2d_lag4d_cons'\n",
      " 'target_div_cap_lag2d_lag5d_cons' 'target_div_cap_lag2d_lag6d_cons'\n",
      " 'target_div_cap_lag2d_lag7d_cons' 'temperature_local_mean'\n",
      " 'dewpoint_local_mean' 'cloudcover_high_local_mean'\n",
      " 'cloudcover_low_local_mean' 'cloudcover_mid_local_mean'\n",
      " 'cloudcover_total_local_mean' '10_metre_u_wind_component_local_mean'\n",
      " '10_metre_v_wind_component_local_mean'\n",
      " 'direct_solar_radiation_local_mean'\n",
      " 'surface_solar_radiation_downwards_local_mean' 'snowfall_local_mean'\n",
      " 'total_precipitation_local_mean']\n",
      "cons_b 1\n",
      "['county' 'is_business' 'product_type' 'quarter' 'month' 'day' 'weekday'\n",
      " 'hour' 'dayofyear' 'holiday_type' 'target_lag2d_prod' 'target_lag3d_prod'\n",
      " 'target_lag4d_prod' 'target_lag5d_prod' 'target_lag6d_prod'\n",
      " 'target_lag7d_prod' 'target_lag2d_cons' 'target_lag3d_cons'\n",
      " 'target_lag4d_cons' 'target_lag5d_cons' 'target_lag6d_cons'\n",
      " 'target_lag7d_cons' 'temperature_local_mean' 'dewpoint_local_mean'\n",
      " 'cloudcover_high_local_mean' 'cloudcover_low_local_mean'\n",
      " 'cloudcover_mid_local_mean' 'cloudcover_total_local_mean'\n",
      " '10_metre_u_wind_component_local_mean'\n",
      " '10_metre_v_wind_component_local_mean'\n",
      " 'direct_solar_radiation_local_mean'\n",
      " 'surface_solar_radiation_downwards_local_mean' 'snowfall_local_mean'\n",
      " 'total_precipitation_local_mean' 'installed_capacity_lag2d'\n",
      " 'eic_count_lag2d']\n"
     ]
    }
   ],
   "source": [
    "with open(OUTPUT_DIR / prod_exp_id / \"models/models_ft.pkl\", \"rb\") as f:\n",
    "    models_tmp = pickle.load(f)\n",
    "    models[\"prod\"] = models_tmp[\"prod\"]\n",
    "    models[\"cons_c\"] = models_tmp[\"cons_c\"]\n",
    "with open(OUTPUT_DIR / cons_b_exp_id / \"models/models_ft.pkl\", \"rb\") as f:\n",
    "    models[\"cons_b\"] = pickle.load(f)[\"cons\"]\n",
    "for k, v in models.items():\n",
    "    print(k, len(v))\n",
    "    print(v[0].feature_names_in_)"
   ]
  },
  {
   "cell_type": "code",
   "execution_count": 29,
   "id": "17c104d0-d249-4cb7-a8ee-a50ebe92ee86",
   "metadata": {
    "tags": []
   },
   "outputs": [],
   "source": [
    "with open(OUTPUT_DIR / exp_id / \"models/models_ft.pkl\", \"wb\") as f:\n",
    "    pickle.dump(models, f)"
   ]
  },
  {
   "cell_type": "code",
   "execution_count": null,
   "id": "1b4434c0-84c6-4c67-b8ad-f1973a6aa2fd",
   "metadata": {},
   "outputs": [],
   "source": []
  }
 ],
 "metadata": {
  "kernelspec": {
   "display_name": "kagg",
   "language": "python",
   "name": "kagg"
  },
  "language_info": {
   "codemirror_mode": {
    "name": "ipython",
    "version": 3
   },
   "file_extension": ".py",
   "mimetype": "text/x-python",
   "name": "python",
   "nbconvert_exporter": "python",
   "pygments_lexer": "ipython3",
   "version": "3.10.11"
  }
 },
 "nbformat": 4,
 "nbformat_minor": 5
}
