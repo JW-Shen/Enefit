{
 "cells": [
  {
   "cell_type": "markdown",
   "id": "1aae77ad-2479-420a-8e5c-cdce940636f6",
   "metadata": {},
   "source": [
    "# From DP to FE\n",
    "Rewrite all the data cleaning, data preprocessing and generation utilities to align inference phase, which can alleviate the risk of errors.\n",
    "\n",
    "\n",
    "## Ref\n",
    "https://www.kaggle.com/code/vitalykudelya/enefit-object-oriented-gbdt/notebook"
   ]
  },
  {
   "cell_type": "markdown",
   "id": "14996581-1f4e-45b2-8174-cc144999de01",
   "metadata": {},
   "source": [
    "## Import Packages"
   ]
  },
  {
   "cell_type": "code",
   "execution_count": 1,
   "id": "a2fff392-e8f2-4d88-8578-89f5db783374",
   "metadata": {
    "tags": []
   },
   "outputs": [],
   "source": [
    "%load_ext autoreload\n",
    "%autoreload 2\n",
    "import json\n",
    "import re\n",
    "import math\n",
    "import pickle\n",
    "import warnings\n",
    "from datetime import datetime, timedelta\n",
    "from pathlib import Path\n",
    "from typing import Any, Dict, List, Optional, Union, Tuple, Iterator\n",
    "warnings.simplefilter(\"ignore\")\n",
    "\n",
    "import numpy as np\n",
    "import pandas as pd\n",
    "import polars as pl\n",
    "import matplotlib.pyplot as plt\n",
    "import seaborn as sns\n",
    "import plotly.express as px\n",
    "import plotly.graph_objects as go\n",
    "from plotly.subplots import make_subplots\n",
    "from polars.testing import assert_series_equal\n",
    "from sklearn.metrics import mean_absolute_error as mae\n",
    "from sklearn.model_selection import GroupKFold\n",
    "from matplotlib.axes import Axes\n",
    "\n",
    "from metadata import *\n",
    "from cv.build import TSCV\n",
    "\n",
    "pd.options.display.max_columns = None"
   ]
  },
  {
   "cell_type": "code",
   "execution_count": 2,
   "id": "65636cec-647c-45fe-878c-c93111e097cf",
   "metadata": {
    "tags": []
   },
   "outputs": [
    {
     "name": "stdout",
     "output_type": "stream",
     "text": [
      "\"\"\"\n",
      "Project metadata for global access.\n",
      "Author: JiaWei\n",
      "\"\"\"\n",
      "import polars as pl\n",
      "\n",
      "# == Data ==\n",
      "UNIT_ID_COL = \"prediction_unit_id\"\n",
      "TGT_COL = \"target\"\n",
      "DBI = \"data_block_id\"\n",
      "TGT_PK_COLS = [\"county\", \"is_business\", \"product_type\"]\n",
      "REVEALED_TGT_COLS = [UNIT_ID_COL, \"datetime\", TGT_COL, \"is_consumption\"]\n",
      "COORD_COL2ABBR = {\"latitude\": \"lat\", \"longitude\": \"lon\"}\n",
      "LOC_COLS = [\"lat\", \"lon\"]\n",
      "PRODUCT_TYPE2NAME = {0: \"Combined\", 1: \"Fixed\", 2: \"General service\", 3: \"Spot\"}\n",
      "\n",
      "# == Join keys ==\n",
      "CLI_JOIN_KEYS = [\"county\", \"is_business\", \"product_type\", \"date\"]\n",
      "FWTH_JOIN_KEYS = [\"county\", \"datetime\"]\n",
      "\n",
      "HWTH_JOIN_KEYS = [\"county\", \"datetime\"]\n",
      "REVEALED_TGT_JOIN_KEYS = [UNIT_ID_COL, \"datetime\", \"is_consumption\"]\n",
      "REVEALED_TGT_ROLLING_JOIN_KEYS = [UNIT_ID_COL, \"datetime\", \"is_consumption\"]\n",
      "\n",
      "# == Groupby keys ==\n",
      "FWTH_LGP_KEYS = [\"county\", \"datetime\"]\n",
      "FWTH_GGP_KEYS = [\"datetime\"]\n",
      "HWTH_LGP_KEYS = [\"county\", \"datetime\"]\n",
      "HWTH_GGP_KEYS = [\"datetime\"]\n",
      "REVEALED_TGT_ROLLING_GP_KEYS = [UNIT_ID_COL, \"is_consumption\"]\n",
      "\n",
      "# == Polars expressions ==\n",
      "# Casting\n",
      "CAST_COUNTY = [pl.col(\"county\").cast(pl.Int8)]\n",
      "CAST_COORDS = [pl.col(\"lat\").cast(pl.Float32), pl.col(\"lon\").cast(pl.Float32)]\n",
      "\n",
      "# == Temp ==\n",
      "# Time zone has been fixed in the w data\n",
      "FIX_FWTH_TIMEZONE = False\n",
      "\n"
     ]
    }
   ],
   "source": [
    "!cat metadata.py"
   ]
  },
  {
   "cell_type": "markdown",
   "id": "10a55fe5-3645-472b-aefd-f8cfa2cec950",
   "metadata": {},
   "source": [
    "## Define Local Data Paths"
   ]
  },
  {
   "cell_type": "code",
   "execution_count": 3,
   "id": "ac1b02d6-7ce9-4c1a-8a8f-a95592ea8bda",
   "metadata": {
    "tags": []
   },
   "outputs": [],
   "source": [
    "RAW_DATA_PATH = Path(\"./data/raw/\")\n",
    "PROC_DATA_PATH = Path(\"./data/processed/\")"
   ]
  },
  {
   "cell_type": "markdown",
   "id": "fa279ac4-4484-4f5a-b868-03ba95893dce",
   "metadata": {
    "tags": []
   },
   "source": [
    "## Define Utilities"
   ]
  },
  {
   "cell_type": "code",
   "execution_count": 8,
   "id": "62072dec-8fbd-47a4-9f58-c1acaf1a4230",
   "metadata": {
    "tags": []
   },
   "outputs": [],
   "source": [
    "def _reduce_memory_usage(\n",
    "    df: pl.DataFrame, \n",
    "    cols_to_skip: List[str] = [],\n",
    "    data_name: str = \"\"\n",
    ") -> pl.DataFrame:\n",
    "    \"\"\"Reduce memory usage by dtype casting.\n",
    "    \n",
    "    Args:\n",
    "        df: raw DataFrame\n",
    "        cols_to_skip: columns to skip dtype casting\n",
    "    \n",
    "    Returns:\n",
    "        df: DataFrame with reduced memory footprint\n",
    "    \"\"\"\n",
    "    start_mem = df.estimated_size(\"mb\")\n",
    "    print(f\"Memory usage of {data_name} DataFrame is {start_mem:.2f} MB.\")\n",
    "    \n",
    "    # pl.Uint8, pl.UInt16, pl.UInt32, pl.UInt64\n",
    "    NUM_INT_TYPES = [pl.Int8,pl.Int16,pl.Int32,pl.Int64]\n",
    "    NUM_FLOAT_TYPES = [pl.Float32, pl.Float64]\n",
    "    for col in df.columns:\n",
    "        if col in cols_to_skip: continue\n",
    "        \n",
    "        col_type = df[col].dtype\n",
    "        c_min = df[col].min()\n",
    "        c_max = df[col].max()\n",
    "        if col_type in NUM_INT_TYPES:\n",
    "            if c_min > np.iinfo(np.int8).min and c_max < np.iinfo(np.int8).max:\n",
    "                df = df.with_columns(df[col].cast(pl.Int8))\n",
    "            elif c_min > np.iinfo(np.int16).min and c_max < np.iinfo(np.int16).max:\n",
    "                df = df.with_columns(df[col].cast(pl.Int16))\n",
    "            elif c_min > np.iinfo(np.int32).min and c_max < np.iinfo(np.int32).max:\n",
    "                df = df.with_columns(df[col].cast(pl.Int32))\n",
    "            elif c_min > np.iinfo(np.int64).min and c_max < np.iinfo(np.int64).max:\n",
    "                df = df.with_columns(df[col].cast(pl.Int64))\n",
    "        elif col_type in NUM_FLOAT_TYPES:\n",
    "            if c_min > np.finfo(np.float32).min and c_max < np.finfo(np.float32).max:\n",
    "                df = df.with_columns(df[col].cast(pl.Float32))\n",
    "            else:\n",
    "                pass\n",
    "        elif col_type == pl.Utf8:\n",
    "            df = df.with_columns(df[col].cast(pl.Categorical))\n",
    "        else:\n",
    "            pass\n",
    "    end_mem = df.estimated_size(\"mb\")\n",
    "    print(f\"Memory usage became: {end_mem:.2f} MB.\")\n",
    "    print(f\"-> Total {(start_mem-end_mem) / start_mem * 100}% reduced.\")\n",
    "    \n",
    "\n",
    "    return df"
   ]
  },
  {
   "cell_type": "code",
   "execution_count": 9,
   "id": "7c4b1200-61f5-483d-b28f-31a08ca2433a",
   "metadata": {
    "tags": []
   },
   "outputs": [],
   "source": [
    "def _shift_and_join(\n",
    "    ldf: Union[pl.DataFrame, pl.LazyFrame],\n",
    "    rdf: Union[pl.DataFrame, pl.LazyFrame],\n",
    "    join_keys: List[str],\n",
    "    dt_col: str,\n",
    "    feats: List[str],\n",
    "    shift_amt: str\n",
    ") -> Tuple[Union[pl.DataFrame, pl.LazyFrame], List[str]]:\n",
    "    \"\"\"Perform DataFrame join with the shifted features.\n",
    "    \n",
    "    Left DataFrame is usually the main DataFrame, but this utility can\n",
    "    also be used to extend multiple lookbacks of a homogeneous feat.\n",
    "    \n",
    "    Args:\n",
    "        ldf: left DataFrame, usually the main DataFrame\n",
    "        rdf: right DataFrame\n",
    "        join_keys: join keys\n",
    "        dt_col: datetime column, either \"datetime\" or \"date\"\n",
    "        feats: feature list\n",
    "        shift_amt: shift amount (e.g., 1h, 2d)\n",
    "            *Note: Only \"h\" and \"d\" are supported.\n",
    "        \n",
    "    Returns:\n",
    "        df: joined DataFrame\n",
    "        new_feats: new feature list\n",
    "    \"\"\"\n",
    "    feats_map = {feat: f\"{feat}_lag{shift_amt}\" for feat in feats}\n",
    "    if shift_amt[-1] == \"h\":\n",
    "        # Hour resolution\n",
    "        shifted_dt = pl.col(dt_col) + pl.duration(hours=int(shift_amt[:-1]))\n",
    "    elif shift_amt[-1] == \"d\":    \n",
    "        # Day resolution\n",
    "        shifted_dt = pl.col(dt_col) + pl.duration(days=int(shift_amt[:-1]))\n",
    "    if dt_col == \"date\":\n",
    "        shifted_dt = shifted_dt.cast(pl.Date)\n",
    "    \n",
    "    df = (\n",
    "        ldf\n",
    "        .join(rdf.with_columns(shifted_dt), on=join_keys, how=\"left\")\n",
    "        .rename(feats_map)\n",
    "    )\n",
    "    new_feats = list(feats_map.values())\n",
    "    \n",
    "    return df, new_feats"
   ]
  },
  {
   "cell_type": "code",
   "execution_count": 10,
   "id": "86e43767-9207-4d11-ae27-5671dafde5a1",
   "metadata": {
    "tags": []
   },
   "outputs": [],
   "source": [
    "def _get_fillnul_exprs(dst_cols: List[str], src_cols: List[str]) -> List[pl.Expr]:\n",
    "    \"\"\"Return expressions of null filling logics, from source column to\n",
    "    destination column.\n",
    "    \n",
    "    Args:\n",
    "        dst_cols: destination column list\n",
    "        src_cols: source column list\n",
    "        \n",
    "    Returns:\n",
    "        fillnul_exprs: expressions of null filling logics\n",
    "    \"\"\"\n",
    "    fillnul_exprs = [\n",
    "        pl.when(pl.col(dst_col).is_null())\n",
    "            .then(pl.col(src_col))\n",
    "            .otherwise(pl.col(dst_col)).alias(dst_col) for dst_col, src_col in zip(dst_cols, src_cols)\n",
    "    ]\n",
    "    \n",
    "    return fillnul_exprs"
   ]
  },
  {
   "cell_type": "markdown",
   "id": "5fe9e179-0644-4315-be72-67d4e7364c44",
   "metadata": {},
   "source": [
    "## Load Data"
   ]
  },
  {
   "cell_type": "code",
   "execution_count": 4,
   "id": "ed573090-a422-4b55-92e6-fe5f8fdc6627",
   "metadata": {
    "tags": []
   },
   "outputs": [],
   "source": [
    "load_proc_df = True"
   ]
  },
  {
   "cell_type": "code",
   "execution_count": 5,
   "id": "5fbacc11-3fdb-4343-b530-edc49de16318",
   "metadata": {
    "tags": []
   },
   "outputs": [],
   "source": [
    "if not load_proc_df:\n",
    "    train = pl.read_csv(RAW_DATA_PATH / \"train.csv\", try_parse_dates=True)\n",
    "    client = pl.read_csv(RAW_DATA_PATH / \"client.csv\", try_parse_dates=True)\n",
    "    fwth = pl.read_csv(RAW_DATA_PATH / \"forecast_weather.csv\", try_parse_dates=True)\n",
    "    hwth = pl.read_csv(RAW_DATA_PATH / \"historical_weather.csv\", try_parse_dates=True)\n",
    "    elec = pl.read_csv(RAW_DATA_PATH / \"electricity_prices.csv\", try_parse_dates=True)\n",
    "    gas = pl.read_csv(RAW_DATA_PATH / \"gas_prices.csv\", try_parse_dates=True)\n",
    "else:\n",
    "    train = pl.read_parquet(PROC_DATA_PATH / \"data_eager_new.parquet\")"
   ]
  },
  {
   "cell_type": "markdown",
   "id": "050c2a44-4aba-412d-91b3-4710ad177e58",
   "metadata": {
    "tags": []
   },
   "source": [
    "## Data Preprocess"
   ]
  },
  {
   "cell_type": "code",
   "execution_count": 8,
   "id": "2974710a-a567-4b0b-8d3e-fbac03b1e6bd",
   "metadata": {
    "tags": []
   },
   "outputs": [
    {
     "name": "stdout",
     "output_type": "stream",
     "text": [
      "Memory usage of train DataFrame is 138.83 MB.\n",
      "Memory usage became: 44.51 MB.\n",
      "-> Total 67.93760831889082% reduced.\n",
      "Memory usage of client DataFrame is 2.08 MB.\n",
      "Memory usage became: 0.60 MB.\n",
      "-> Total 71.15384615384616% reduced.\n",
      "Memory usage of fwth DataFrame is 470.69 MB.\n",
      "Memory usage became: 245.35 MB.\n",
      "-> Total 47.875108412836084% reduced.\n",
      "Memory usage of hwth DataFrame is 234.94 MB.\n",
      "Memory usage became: 101.16 MB.\n",
      "-> Total 56.94444444444444% reduced.\n",
      "Memory usage of elec DataFrame is 0.47 MB.\n",
      "Memory usage became: 0.32 MB.\n",
      "-> Total 31.25% reduced.\n",
      "Memory usage of gas DataFrame is 0.02 MB.\n",
      "Memory usage became: 0.01 MB.\n",
      "-> Total 43.75% reduced.\n"
     ]
    }
   ],
   "source": [
    "train = _reduce_memory_usage(train, data_name=\"train\")\n",
    "client = _reduce_memory_usage(client, data_name=\"client\")\n",
    "fwth = _reduce_memory_usage(fwth, data_name=\"fwth\")\n",
    "hwth = _reduce_memory_usage(hwth, data_name=\"hwth\")\n",
    "elec = _reduce_memory_usage(elec, data_name=\"elec\")\n",
    "gas = _reduce_memory_usage(gas, data_name=\"gas\")"
   ]
  },
  {
   "cell_type": "code",
   "execution_count": 9,
   "id": "4fddfa5b-964c-4cf7-acd2-b43b9ac74fdd",
   "metadata": {
    "tags": []
   },
   "outputs": [],
   "source": [
    "train = train.with_columns(pl.col(\"datetime\").dt.date().alias(\"date\"))"
   ]
  },
  {
   "cell_type": "markdown",
   "id": "7c26bfd6-ade8-48c1-a93f-0bd5d28e7799",
   "metadata": {
    "jp-MarkdownHeadingCollapsed": true,
    "tags": []
   },
   "source": [
    "### *Client*\n",
    "> Join **day-level** `installed_capacity` and `eic_count` from 2 days ago.\n",
    "1. Get `installed_capacity` and `eic_count` from 2 days ago.\n",
    "    * For modeling with **transformed targets**, the available features come from 2 days ago.\n",
    "\n",
    "<div class=\"alert alert-block alert-danger\">\n",
    "    <p>For features, lagged <code>target_div_cap</code> can be generated by dividing target by <strong>the actual cap and eic values</strong>, because they're already accessible. Or, we can keep things simple to use 2-day lagged ones, just as what we do now.</p>\n",
    "</div>"
   ]
  },
  {
   "cell_type": "code",
   "execution_count": 11,
   "id": "5a073bea-f9d1-4753-89cb-c898e853eb02",
   "metadata": {
    "tags": []
   },
   "outputs": [
    {
     "data": {
      "text/html": [
       "<div><style>\n",
       ".dataframe > thead > tr,\n",
       ".dataframe > tbody > tr {\n",
       "  text-align: right;\n",
       "  white-space: pre-wrap;\n",
       "}\n",
       "</style>\n",
       "<small>shape: (5, 11)</small><table border=\"1\" class=\"dataframe\"><thead><tr><th>county</th><th>is_business</th><th>product_type</th><th>target</th><th>is_consumption</th><th>datetime</th><th>row_id</th><th>prediction_unit_id</th><th>date</th><th>eic_count_lag2d</th><th>installed_capacity_lag2d</th></tr><tr><td>i8</td><td>i8</td><td>i8</td><td>f32</td><td>i8</td><td>datetime[μs]</td><td>i32</td><td>i8</td><td>date</td><td>i16</td><td>f32</td></tr></thead><tbody><tr><td>0</td><td>0</td><td>1</td><td>0.713</td><td>0</td><td>2021-09-01 00:00:00</td><td>0</td><td>0</td><td>2021-09-01</td><td>null</td><td>null</td></tr><tr><td>0</td><td>0</td><td>1</td><td>96.589996</td><td>1</td><td>2021-09-01 00:00:00</td><td>1</td><td>0</td><td>2021-09-01</td><td>null</td><td>null</td></tr><tr><td>0</td><td>0</td><td>2</td><td>0.0</td><td>0</td><td>2021-09-01 00:00:00</td><td>2</td><td>1</td><td>2021-09-01</td><td>null</td><td>null</td></tr><tr><td>0</td><td>0</td><td>2</td><td>17.313999</td><td>1</td><td>2021-09-01 00:00:00</td><td>3</td><td>1</td><td>2021-09-01</td><td>null</td><td>null</td></tr><tr><td>0</td><td>0</td><td>3</td><td>2.904</td><td>0</td><td>2021-09-01 00:00:00</td><td>4</td><td>2</td><td>2021-09-01</td><td>null</td><td>null</td></tr></tbody></table></div>"
      ],
      "text/plain": [
       "shape: (5, 11)\n",
       "┌────────┬────────────┬────────────┬───────────┬───┬───────────┬───────────┬───────────┬───────────┐\n",
       "│ county ┆ is_busines ┆ product_ty ┆ target    ┆ … ┆ predictio ┆ date      ┆ eic_count ┆ installed │\n",
       "│ ---    ┆ s          ┆ pe         ┆ ---       ┆   ┆ n_unit_id ┆ ---       ┆ _lag2d    ┆ _capacity │\n",
       "│ i8     ┆ ---        ┆ ---        ┆ f32       ┆   ┆ ---       ┆ date      ┆ ---       ┆ _lag2d    │\n",
       "│        ┆ i8         ┆ i8         ┆           ┆   ┆ i8        ┆           ┆ i16       ┆ ---       │\n",
       "│        ┆            ┆            ┆           ┆   ┆           ┆           ┆           ┆ f32       │\n",
       "╞════════╪════════════╪════════════╪═══════════╪═══╪═══════════╪═══════════╪═══════════╪═══════════╡\n",
       "│ 0      ┆ 0          ┆ 1          ┆ 0.713     ┆ … ┆ 0         ┆ 2021-09-0 ┆ null      ┆ null      │\n",
       "│        ┆            ┆            ┆           ┆   ┆           ┆ 1         ┆           ┆           │\n",
       "│ 0      ┆ 0          ┆ 1          ┆ 96.589996 ┆ … ┆ 0         ┆ 2021-09-0 ┆ null      ┆ null      │\n",
       "│        ┆            ┆            ┆           ┆   ┆           ┆ 1         ┆           ┆           │\n",
       "│ 0      ┆ 0          ┆ 2          ┆ 0.0       ┆ … ┆ 1         ┆ 2021-09-0 ┆ null      ┆ null      │\n",
       "│        ┆            ┆            ┆           ┆   ┆           ┆ 1         ┆           ┆           │\n",
       "│ 0      ┆ 0          ┆ 2          ┆ 17.313999 ┆ … ┆ 1         ┆ 2021-09-0 ┆ null      ┆ null      │\n",
       "│        ┆            ┆            ┆           ┆   ┆           ┆ 1         ┆           ┆           │\n",
       "│ 0      ┆ 0          ┆ 3          ┆ 2.904     ┆ … ┆ 2         ┆ 2021-09-0 ┆ null      ┆ null      │\n",
       "│        ┆            ┆            ┆           ┆   ┆           ┆ 1         ┆           ┆           │\n",
       "└────────┴────────────┴────────────┴───────────┴───┴───────────┴───────────┴───────────┴───────────┘"
      ]
     },
     "execution_count": 11,
     "metadata": {},
     "output_type": "execute_result"
    }
   ],
   "source": [
    "feats = [\"installed_capacity\", \"eic_count\"]\n",
    "cols_to_drop = [DBI, \"data_block_id_right\"]\n",
    "\n",
    "train, cli_feats = _shift_and_join(train, client, join_keys=CLI_JOIN_KEYS, feats=feats, dt_col=\"date\", shift_amt=\"2d\")\n",
    "train = train.drop(cols_to_drop)\n",
    "train.head()"
   ]
  },
  {
   "cell_type": "code",
   "execution_count": 12,
   "id": "97ce11a5-067a-40f5-96e2-4e3f30840e74",
   "metadata": {
    "tags": []
   },
   "outputs": [
    {
     "data": {
      "text/html": [
       "<div><style>\n",
       ".dataframe > thead > tr,\n",
       ".dataframe > tbody > tr {\n",
       "  text-align: right;\n",
       "  white-space: pre-wrap;\n",
       "}\n",
       "</style>\n",
       "<small>shape: (1, 2)</small><table border=\"1\" class=\"dataframe\"><thead><tr><th>installed_capacity_lag2d</th><th>eic_count_lag2d</th></tr><tr><td>f64</td><td>f64</td></tr></thead><tbody><tr><td>0.428072</td><td>0.428072</td></tr></tbody></table></div>"
      ],
      "text/plain": [
       "shape: (1, 2)\n",
       "┌──────────────────────────┬─────────────────┐\n",
       "│ installed_capacity_lag2d ┆ eic_count_lag2d │\n",
       "│ ---                      ┆ ---             │\n",
       "│ f64                      ┆ f64             │\n",
       "╞══════════════════════════╪═════════════════╡\n",
       "│ 0.428072                 ┆ 0.428072        │\n",
       "└──────────────────────────┴─────────────────┘"
      ]
     },
     "execution_count": 12,
     "metadata": {},
     "output_type": "execute_result"
    }
   ],
   "source": [
    "train.select(cli_feats).null_count() / len(train) * 100"
   ]
  },
  {
   "cell_type": "markdown",
   "id": "99f13cc1-c462-44e0-acd1-b62d581ffaf2",
   "metadata": {
    "jp-MarkdownHeadingCollapsed": true,
    "tags": []
   },
   "source": [
    "### *FWTH*\n",
    "> Join **non-shifted** local and global weather stats, because we have the corresponding **forecast timestamp**.\n",
    "1. Some weather stations are scattered outside the counties of Estonia.\n",
    "2. County 12 is always unknown.\n",
    "3. There exist duplicated entries on `2021-10-31 03:00:00` and `2022-10-30 03:00:00`.\n",
    "    * Two rows per loc-datetime.\n",
    "\n",
    "<div class=\"alert alert-block alert-danger\">\n",
    "    <p>Filtering the 24-hour forecast subset per day to prevent overlapping. If rolling features are taken into consideration, we also can use the earlier, but this will be more tricky. Now, we concatenate all 24-hour forecast subsets to form a no-gap sequence! Note that the original_date is at 02:00, so we should take the correct interval of hours_ahead 22 ~ 45 to align with the predicting horizons.</p>\n",
    "    <p>We can derive global stats on all stations or non-null counties only. Also, we can  consider fwth features from lag.</p>\n",
    "</div>"
   ]
  },
  {
   "cell_type": "code",
   "execution_count": 13,
   "id": "04003a14-b9ef-487c-81a2-5897fcae2778",
   "metadata": {
    "tags": []
   },
   "outputs": [],
   "source": [
    "def _get_wstn_loc2county() -> pl.DataFrame:\n",
    "    wth_loc2_county = (\n",
    "        pl.read_csv(PROC_DATA_PATH / \"wth_station_latlon2county.csv\")\n",
    "        .drop(\"\")\n",
    "        .rename(COORD_COL2ABBR)\n",
    "        .with_columns(CAST_COUNTY+CAST_COORDS)\n",
    "    )\n",
    "    \n",
    "    return wth_loc2_county"
   ]
  },
  {
   "cell_type": "code",
   "execution_count": 14,
   "id": "56837141-64fc-4230-a589-cda68b63c912",
   "metadata": {
    "tags": []
   },
   "outputs": [
    {
     "name": "stdout",
     "output_type": "stream",
     "text": [
      "There are 75 unique weather stations scattered in 15.\n"
     ]
    }
   ],
   "source": [
    "wstn_loc2county = _get_wstn_loc2county()\n",
    "assert len(wstn_loc2county) == wstn_loc2county.n_unique([\"lat\", \"lon\"])\n",
    "print(f\"There are {wstn_loc2county.n_unique(['lat', 'lon'])} unique weather stations\"\n",
    "      f\" scattered in {wstn_loc2county['county'].n_unique()}.\")"
   ]
  },
  {
   "cell_type": "code",
   "execution_count": 15,
   "id": "28825342-fb55-4133-800b-62781672e680",
   "metadata": {
    "tags": []
   },
   "outputs": [
    {
     "data": {
      "text/html": [
       "<div><style>\n",
       ".dataframe > thead > tr,\n",
       ".dataframe > tbody > tr {\n",
       "  text-align: right;\n",
       "  white-space: pre-wrap;\n",
       "}\n",
       "</style>\n",
       "<small>shape: (1, 16)</small><table border=\"1\" class=\"dataframe\"><thead><tr><th>lat</th><th>lon</th><th>temperature</th><th>dewpoint</th><th>cloudcover_high</th><th>cloudcover_low</th><th>cloudcover_mid</th><th>cloudcover_total</th><th>10_metre_u_wind_component</th><th>10_metre_v_wind_component</th><th>datetime</th><th>direct_solar_radiation</th><th>surface_solar_radiation_downwards</th><th>snowfall</th><th>total_precipitation</th><th>county</th></tr><tr><td>f32</td><td>f32</td><td>f32</td><td>f32</td><td>f32</td><td>f32</td><td>f32</td><td>f32</td><td>f32</td><td>f32</td><td>datetime[μs]</td><td>f32</td><td>f32</td><td>f32</td><td>f32</td><td>i8</td></tr></thead><tbody><tr><td>57.599998</td><td>21.700001</td><td>13.957666</td><td>7.513818</td><td>0.0</td><td>0.224258</td><td>0.412949</td><td>0.476897</td><td>1.517155</td><td>-11.050412</td><td>2021-09-02 00:00:00</td><td>0.0</td><td>0.0</td><td>0.0</td><td>0.000013</td><td>null</td></tr></tbody></table></div>"
      ],
      "text/plain": [
       "shape: (1, 16)\n",
       "┌───────────┬───────────┬─────────────┬──────────┬───┬────────────┬──────────┬────────────┬────────┐\n",
       "│ lat       ┆ lon       ┆ temperature ┆ dewpoint ┆ … ┆ surface_so ┆ snowfall ┆ total_prec ┆ county │\n",
       "│ ---       ┆ ---       ┆ ---         ┆ ---      ┆   ┆ lar_radiat ┆ ---      ┆ ipitation  ┆ ---    │\n",
       "│ f32       ┆ f32       ┆ f32         ┆ f32      ┆   ┆ ion_downwa ┆ f32      ┆ ---        ┆ i8     │\n",
       "│           ┆           ┆             ┆          ┆   ┆ rd…        ┆          ┆ f32        ┆        │\n",
       "│           ┆           ┆             ┆          ┆   ┆ ---        ┆          ┆            ┆        │\n",
       "│           ┆           ┆             ┆          ┆   ┆ f32        ┆          ┆            ┆        │\n",
       "╞═══════════╪═══════════╪═════════════╪══════════╪═══╪════════════╪══════════╪════════════╪════════╡\n",
       "│ 57.599998 ┆ 21.700001 ┆ 13.957666   ┆ 7.513818 ┆ … ┆ 0.0        ┆ 0.0      ┆ 0.000013   ┆ null   │\n",
       "└───────────┴───────────┴─────────────┴──────────┴───┴────────────┴──────────┴────────────┴────────┘"
      ]
     },
     "execution_count": 15,
     "metadata": {},
     "output_type": "execute_result"
    }
   ],
   "source": [
    "fwth = (\n",
    "    fwth\n",
    "    # Time\n",
    "    .rename({\"forecast_datetime\": \"datetime\"})\n",
    "    # .filter(pl.col(\"hours_ahead\") > 24)\n",
    "    .filter((pl.col(\"hours_ahead\") >= 22) & (pl.col(\"hours_ahead\") < 46))\n",
    "    .drop([\"origin_datetime\", \"hours_ahead\", DBI])\n",
    "    # Location\n",
    "    .rename(COORD_COL2ABBR)\n",
    "    .with_columns(CAST_COORDS)\n",
    "    .join(wstn_loc2county, on=LOC_COLS, how=\"left\")\n",
    ")\n",
    "fwth.head(1)"
   ]
  },
  {
   "cell_type": "code",
   "execution_count": 16,
   "id": "d4b5dcca-df13-4eca-8b8d-40d9ba0c5a5a",
   "metadata": {
    "tags": []
   },
   "outputs": [],
   "source": [
    "# Add other fwth features (e.g., use coord to derive angle and interact with radiation)\n",
    "cols_to_skip = [\"lat\", \"lon\", \"county\", \"datetime\"]\n",
    "fwth_feats = [c for c in fwth.columns if c not in cols_to_skip]"
   ]
  },
  {
   "cell_type": "code",
   "execution_count": 17,
   "id": "1235181a-f9d4-4571-bf40-ef5ee0e2bfe6",
   "metadata": {
    "tags": []
   },
   "outputs": [],
   "source": [
    "# fwth_demo = fwth.to_pandas()\n",
    "# fwth_demo_dup = fwth_demo[fwth_demo[LOC_COLS + [\"datetime\"]].duplicated()]\n",
    "# fwth_demo_dup[\"datetime\"].unique()"
   ]
  },
  {
   "cell_type": "code",
   "execution_count": 18,
   "id": "db6a5432-e8d5-4012-b265-3ab32b9b2d61",
   "metadata": {
    "tags": []
   },
   "outputs": [
    {
     "name": "stdout",
     "output_type": "stream",
     "text": [
      "Temporary workaround on duplicated rows...\n",
      "Before taking unique, fwth shape (1712256, 16)\n",
      "After taking unique, fwth shape (1712032, 16)\n"
     ]
    }
   ],
   "source": [
    "# Handle duplicated rows on daylight savings tweaking days\n",
    "print(f\"Temporary workaround on duplicated rows...\")\n",
    "print(f\"Before taking unique, fwth shape {fwth.shape}\")\n",
    "fwth = fwth.unique(LOC_COLS + [\"datetime\"])\n",
    "print(f\"After taking unique, fwth shape {fwth.shape}\")"
   ]
  },
  {
   "cell_type": "code",
   "execution_count": 19,
   "id": "75f06e6e-197b-4ef8-bda5-9f42f9e60c3c",
   "metadata": {
    "tags": []
   },
   "outputs": [
    {
     "data": {
      "text/html": [
       "<div><style>\n",
       ".dataframe > thead > tr,\n",
       ".dataframe > tbody > tr {\n",
       "  text-align: right;\n",
       "  white-space: pre-wrap;\n",
       "}\n",
       "</style>\n",
       "<small>shape: (1, 14)</small><table border=\"1\" class=\"dataframe\"><thead><tr><th>county</th><th>datetime</th><th>temperature_local_mean</th><th>dewpoint_local_mean</th><th>cloudcover_high_local_mean</th><th>cloudcover_low_local_mean</th><th>cloudcover_mid_local_mean</th><th>cloudcover_total_local_mean</th><th>10_metre_u_wind_component_local_mean</th><th>10_metre_v_wind_component_local_mean</th><th>direct_solar_radiation_local_mean</th><th>surface_solar_radiation_downwards_local_mean</th><th>snowfall_local_mean</th><th>total_precipitation_local_mean</th></tr><tr><td>i8</td><td>datetime[μs]</td><td>f32</td><td>f32</td><td>f32</td><td>f32</td><td>f32</td><td>f32</td><td>f32</td><td>f32</td><td>f32</td><td>f32</td><td>f32</td><td>f32</td></tr></thead><tbody><tr><td>1</td><td>2021-09-02 02:00:00</td><td>13.115319</td><td>5.85</td><td>0.0</td><td>0.106145</td><td>0.244115</td><td>0.276258</td><td>0.91408</td><td>-9.736794</td><td>0.0</td><td>0.0</td><td>0.0</td><td>0.000017</td></tr></tbody></table></div>"
      ],
      "text/plain": [
       "shape: (1, 14)\n",
       "┌────────┬────────────┬────────────┬───────────┬───┬───────────┬───────────┬───────────┬───────────┐\n",
       "│ county ┆ datetime   ┆ temperatur ┆ dewpoint_ ┆ … ┆ direct_so ┆ surface_s ┆ snowfall_ ┆ total_pre │\n",
       "│ ---    ┆ ---        ┆ e_local_me ┆ local_mea ┆   ┆ lar_radia ┆ olar_radi ┆ local_mea ┆ cipitatio │\n",
       "│ i8     ┆ datetime[μ ┆ an         ┆ n         ┆   ┆ tion_loca ┆ ation_dow ┆ n         ┆ n_local_m │\n",
       "│        ┆ s]         ┆ ---        ┆ ---       ┆   ┆ l_mea…    ┆ nward…    ┆ ---       ┆ ean       │\n",
       "│        ┆            ┆ f32        ┆ f32       ┆   ┆ ---       ┆ ---       ┆ f32       ┆ ---       │\n",
       "│        ┆            ┆            ┆           ┆   ┆ f32       ┆ f32       ┆           ┆ f32       │\n",
       "╞════════╪════════════╪════════════╪═══════════╪═══╪═══════════╪═══════════╪═══════════╪═══════════╡\n",
       "│ 1      ┆ 2021-09-02 ┆ 13.115319  ┆ 5.85      ┆ … ┆ 0.0       ┆ 0.0       ┆ 0.0       ┆ 0.000017  │\n",
       "│        ┆ 02:00:00   ┆            ┆           ┆   ┆           ┆           ┆           ┆           │\n",
       "└────────┴────────────┴────────────┴───────────┴───┴───────────┴───────────┴───────────┴───────────┘"
      ]
     },
     "metadata": {},
     "output_type": "display_data"
    }
   ],
   "source": [
    "# Which county, which predicting horiz (we already take the non-overlapping 24-hour forecast subset,\n",
    "# so no need to consider DBI due to no overlapping now)\n",
    "agg_stats = [\n",
    "    *[pl.col(feat).mean().alias(f\"{feat}_local_mean\") for feat in fwth_feats],\n",
    "    # ===\n",
    "    # Add other stats\n",
    "    # ===\n",
    "]\n",
    "fwth_stats_by_county = (\n",
    "    fwth\n",
    "    .filter(pl.col(\"county\").is_not_null())\n",
    "    .group_by(FWTH_LGP_KEYS)\n",
    "    .agg(agg_stats)\n",
    ")\n",
    "display(fwth_stats_by_county.head(1))"
   ]
  },
  {
   "cell_type": "code",
   "execution_count": 20,
   "id": "9fa44c24-042e-4412-9b36-f59b29624725",
   "metadata": {
    "tags": []
   },
   "outputs": [],
   "source": [
    "agg_stats = [\n",
    "    *[pl.col(feat).mean().alias(f\"{feat}_global_mean\") for feat in fwth_feats],\n",
    "    # ===\n",
    "    # Add other stats\n",
    "    # ===\n",
    "]\n",
    "fwth_stats = (\n",
    "    fwth\n",
    "    # ===\n",
    "    # Filter non-null county or not\n",
    "    # ===\n",
    "    .group_by(FWTH_GGP_KEYS)\n",
    "    .agg(agg_stats)\n",
    ")"
   ]
  },
  {
   "cell_type": "code",
   "execution_count": 23,
   "id": "2a1eab29-085f-4323-9869-352c76c9fd9e",
   "metadata": {
    "tags": []
   },
   "outputs": [
    {
     "data": {
      "text/html": [
       "<div><style>\n",
       ".dataframe > thead > tr,\n",
       ".dataframe > tbody > tr {\n",
       "  text-align: right;\n",
       "  white-space: pre-wrap;\n",
       "}\n",
       "</style>\n",
       "<small>shape: (5, 35)</small><table border=\"1\" class=\"dataframe\"><thead><tr><th>county</th><th>is_business</th><th>product_type</th><th>target</th><th>is_consumption</th><th>datetime</th><th>row_id</th><th>prediction_unit_id</th><th>date</th><th>eic_count_lag2d</th><th>installed_capacity_lag2d</th><th>temperature_local_mean</th><th>dewpoint_local_mean</th><th>cloudcover_high_local_mean</th><th>cloudcover_low_local_mean</th><th>cloudcover_mid_local_mean</th><th>cloudcover_total_local_mean</th><th>10_metre_u_wind_component_local_mean</th><th>10_metre_v_wind_component_local_mean</th><th>direct_solar_radiation_local_mean</th><th>surface_solar_radiation_downwards_local_mean</th><th>snowfall_local_mean</th><th>total_precipitation_local_mean</th><th>temperature_global_mean</th><th>dewpoint_global_mean</th><th>cloudcover_high_global_mean</th><th>cloudcover_low_global_mean</th><th>cloudcover_mid_global_mean</th><th>cloudcover_total_global_mean</th><th>10_metre_u_wind_component_global_mean</th><th>10_metre_v_wind_component_global_mean</th><th>direct_solar_radiation_global_mean</th><th>surface_solar_radiation_downwards_global_mean</th><th>snowfall_global_mean</th><th>total_precipitation_global_mean</th></tr><tr><td>i8</td><td>i8</td><td>i8</td><td>f32</td><td>i8</td><td>datetime[μs]</td><td>i32</td><td>i8</td><td>date</td><td>i16</td><td>f32</td><td>f32</td><td>f32</td><td>f32</td><td>f32</td><td>f32</td><td>f32</td><td>f32</td><td>f32</td><td>f32</td><td>f32</td><td>f32</td><td>f32</td><td>f32</td><td>f32</td><td>f32</td><td>f32</td><td>f32</td><td>f32</td><td>f32</td><td>f32</td><td>f32</td><td>f32</td><td>f32</td><td>f32</td></tr></thead><tbody><tr><td>0</td><td>0</td><td>1</td><td>0.713</td><td>0</td><td>2021-09-01 00:00:00</td><td>0</td><td>0</td><td>2021-09-01</td><td>null</td><td>null</td><td>null</td><td>null</td><td>null</td><td>null</td><td>null</td><td>null</td><td>null</td><td>null</td><td>null</td><td>null</td><td>null</td><td>null</td><td>null</td><td>null</td><td>null</td><td>null</td><td>null</td><td>null</td><td>null</td><td>null</td><td>null</td><td>null</td><td>null</td><td>null</td></tr><tr><td>0</td><td>0</td><td>1</td><td>96.589996</td><td>1</td><td>2021-09-01 00:00:00</td><td>1</td><td>0</td><td>2021-09-01</td><td>null</td><td>null</td><td>null</td><td>null</td><td>null</td><td>null</td><td>null</td><td>null</td><td>null</td><td>null</td><td>null</td><td>null</td><td>null</td><td>null</td><td>null</td><td>null</td><td>null</td><td>null</td><td>null</td><td>null</td><td>null</td><td>null</td><td>null</td><td>null</td><td>null</td><td>null</td></tr><tr><td>0</td><td>0</td><td>2</td><td>0.0</td><td>0</td><td>2021-09-01 00:00:00</td><td>2</td><td>1</td><td>2021-09-01</td><td>null</td><td>null</td><td>null</td><td>null</td><td>null</td><td>null</td><td>null</td><td>null</td><td>null</td><td>null</td><td>null</td><td>null</td><td>null</td><td>null</td><td>null</td><td>null</td><td>null</td><td>null</td><td>null</td><td>null</td><td>null</td><td>null</td><td>null</td><td>null</td><td>null</td><td>null</td></tr><tr><td>0</td><td>0</td><td>2</td><td>17.313999</td><td>1</td><td>2021-09-01 00:00:00</td><td>3</td><td>1</td><td>2021-09-01</td><td>null</td><td>null</td><td>null</td><td>null</td><td>null</td><td>null</td><td>null</td><td>null</td><td>null</td><td>null</td><td>null</td><td>null</td><td>null</td><td>null</td><td>null</td><td>null</td><td>null</td><td>null</td><td>null</td><td>null</td><td>null</td><td>null</td><td>null</td><td>null</td><td>null</td><td>null</td></tr><tr><td>0</td><td>0</td><td>3</td><td>2.904</td><td>0</td><td>2021-09-01 00:00:00</td><td>4</td><td>2</td><td>2021-09-01</td><td>null</td><td>null</td><td>null</td><td>null</td><td>null</td><td>null</td><td>null</td><td>null</td><td>null</td><td>null</td><td>null</td><td>null</td><td>null</td><td>null</td><td>null</td><td>null</td><td>null</td><td>null</td><td>null</td><td>null</td><td>null</td><td>null</td><td>null</td><td>null</td><td>null</td><td>null</td></tr></tbody></table></div>"
      ],
      "text/plain": [
       "shape: (5, 35)\n",
       "┌────────┬────────────┬────────────┬───────────┬───┬───────────┬───────────┬───────────┬───────────┐\n",
       "│ county ┆ is_busines ┆ product_ty ┆ target    ┆ … ┆ direct_so ┆ surface_s ┆ snowfall_ ┆ total_pre │\n",
       "│ ---    ┆ s          ┆ pe         ┆ ---       ┆   ┆ lar_radia ┆ olar_radi ┆ global_me ┆ cipitatio │\n",
       "│ i8     ┆ ---        ┆ ---        ┆ f32       ┆   ┆ tion_glob ┆ ation_dow ┆ an        ┆ n_global_ │\n",
       "│        ┆ i8         ┆ i8         ┆           ┆   ┆ al_me…    ┆ nward…    ┆ ---       ┆ mean      │\n",
       "│        ┆            ┆            ┆           ┆   ┆ ---       ┆ ---       ┆ f32       ┆ ---       │\n",
       "│        ┆            ┆            ┆           ┆   ┆ f32       ┆ f32       ┆           ┆ f32       │\n",
       "╞════════╪════════════╪════════════╪═══════════╪═══╪═══════════╪═══════════╪═══════════╪═══════════╡\n",
       "│ 0      ┆ 0          ┆ 1          ┆ 0.713     ┆ … ┆ null      ┆ null      ┆ null      ┆ null      │\n",
       "│ 0      ┆ 0          ┆ 1          ┆ 96.589996 ┆ … ┆ null      ┆ null      ┆ null      ┆ null      │\n",
       "│ 0      ┆ 0          ┆ 2          ┆ 0.0       ┆ … ┆ null      ┆ null      ┆ null      ┆ null      │\n",
       "│ 0      ┆ 0          ┆ 2          ┆ 17.313999 ┆ … ┆ null      ┆ null      ┆ null      ┆ null      │\n",
       "│ 0      ┆ 0          ┆ 3          ┆ 2.904     ┆ … ┆ null      ┆ null      ┆ null      ┆ null      │\n",
       "└────────┴────────────┴────────────┴───────────┴───┴───────────┴───────────┴───────────┴───────────┘"
      ]
     },
     "execution_count": 23,
     "metadata": {},
     "output_type": "execute_result"
    }
   ],
   "source": [
    "fillnul_exprs = _get_fillnul_exprs(\n",
    "    [f\"{feat}_local_mean\" for feat in fwth_feats],\n",
    "    [f\"{feat}_global_mean\" for feat in fwth_feats]\n",
    ")\n",
    "# [\n",
    "#     pl.when(pl.col(f\"{feat}_local_mean\").is_null())\n",
    "#         .then(pl.col(f\"{feat}_global_mean\"))\n",
    "#         .otherwise(pl.col(f\"{feat}_local_mean\")).alias(f\"{feat}_local_mean\") for feat in fwth_feats        \n",
    "# ]\n",
    "\n",
    "train = (\n",
    "    train\n",
    "    .join(fwth_stats_by_county, on=FWTH_LGP_KEYS, how=\"left\")\n",
    "    .join(fwth_stats, on=FWTH_GGP_KEYS, how=\"left\")\n",
    "    .with_columns(fillnul_exprs)\n",
    ")\n",
    "train.head()"
   ]
  },
  {
   "cell_type": "code",
   "execution_count": 24,
   "id": "08470b84-143e-4c10-b2c5-36f904a58a27",
   "metadata": {
    "collapsed": true,
    "jupyter": {
     "outputs_hidden": true
    },
    "tags": []
   },
   "outputs": [
    {
     "data": {
      "text/html": [
       "<div><style>\n",
       ".dataframe > thead > tr,\n",
       ".dataframe > tbody > tr {\n",
       "  text-align: right;\n",
       "  white-space: pre-wrap;\n",
       "}\n",
       "</style>\n",
       "<small>shape: (16, 2)</small><table border=\"1\" class=\"dataframe\"><thead><tr><th>county</th><th>counts</th></tr><tr><td>i8</td><td>u32</td></tr></thead><tbody><tr><td>9</td><td>208</td></tr><tr><td>0</td><td>316</td></tr><tr><td>8</td><td>156</td></tr><tr><td>10</td><td>258</td></tr><tr><td>2</td><td>112</td></tr><tr><td>12</td><td>52</td></tr><tr><td>4</td><td>212</td></tr><tr><td>1</td><td>156</td></tr><tr><td>14</td><td>208</td></tr><tr><td>15</td><td>212</td></tr><tr><td>13</td><td>160</td></tr><tr><td>7</td><td>310</td></tr><tr><td>6</td><td>52</td></tr><tr><td>11</td><td>314</td></tr><tr><td>3</td><td>208</td></tr><tr><td>5</td><td>260</td></tr></tbody></table></div>"
      ],
      "text/plain": [
       "shape: (16, 2)\n",
       "┌────────┬────────┐\n",
       "│ county ┆ counts │\n",
       "│ ---    ┆ ---    │\n",
       "│ i8     ┆ u32    │\n",
       "╞════════╪════════╡\n",
       "│ 9      ┆ 208    │\n",
       "│ 0      ┆ 316    │\n",
       "│ 8      ┆ 156    │\n",
       "│ 10     ┆ 258    │\n",
       "│ …      ┆ …      │\n",
       "│ 6      ┆ 52     │\n",
       "│ 11     ┆ 314    │\n",
       "│ 3      ┆ 208    │\n",
       "│ 5      ┆ 260    │\n",
       "└────────┴────────┘"
      ]
     },
     "execution_count": 24,
     "metadata": {},
     "output_type": "execute_result"
    }
   ],
   "source": [
    "train.filter(pl.col(\"temperature_local_mean\").is_null())[\"county\"].value_counts()"
   ]
  },
  {
   "cell_type": "markdown",
   "id": "21fa54cd-7183-4794-8024-013a0c42c8ca",
   "metadata": {
    "jp-MarkdownHeadingCollapsed": true,
    "tags": []
   },
   "source": [
    "### *HWTH*\n",
    "1. Two deviated weather stations should be dropped, one mapped to county 10 and one null.\n",
    "2. No duplicated rows observed in hwth.\n",
    "3. Some original columns casted to integer are casted to F64 after corresponding stats are derived (those stats can't keep int, so forced to cast to F64???). \n",
    "\n",
    "<div class=\"alert alert-block alert-danger\">\n",
    "    <p>More lags of historical weathers can be joined, including the closest 10 hours or something like that.</p>\n",
    "    <p>Also, DL handling is a little bit different. Because we can use pointers X_s and X_e to access the available data chunks, we don't need to use <code>+ pl.durations(days=n)</code> to shift the features. Btw, DL can also consider the closest 10 hours.</p>\n",
    "</div>"
   ]
  },
  {
   "cell_type": "code",
   "execution_count": 25,
   "id": "f0a80f2d-b0c8-4042-a362-876618f7995b",
   "metadata": {
    "tags": []
   },
   "outputs": [
    {
     "name": "stdout",
     "output_type": "stream",
     "text": [
      "Memory usage of  DataFrame is 234.94 MB.\n",
      "Memory usage became: 101.16 MB.\n",
      "-> Total 56.94444444444444% reduced.\n"
     ]
    }
   ],
   "source": [
    "hwth = pl.read_csv(RAW_DATA_PATH / \"historical_weather.csv\", try_parse_dates=True)\n",
    "hwth = _reduce_memory_usage(hwth)"
   ]
  },
  {
   "cell_type": "code",
   "execution_count": 26,
   "id": "0e138719-beb5-45f8-a5dd-2c0abec6e0c1",
   "metadata": {
    "tags": []
   },
   "outputs": [],
   "source": [
    "stns_to_drop = [\"57.624.2\", \"57.623.2\"]\n",
    "\n",
    "hwth = (\n",
    "    hwth\n",
    "    .rename(COORD_COL2ABBR)\n",
    "    .with_columns(\n",
    "        *CAST_COORDS,\n",
    "        pl.concat_str([pl.col(\"lat\"), pl.col(\"lon\")], separator=\"\").alias(\"loc\")\n",
    "    )\n",
    "    .filter(~pl.col(\"loc\").is_in(stns_to_drop))\n",
    "    .join(wstn_loc2county, on=LOC_COLS, how=\"left\")\n",
    "    .drop([DBI, \"loc\"])\n",
    ")\n",
    "hwth.head(1)\n",
    "assert len(hwth) == hwth.n_unique(LOC_COLS + [\"datetime\"]) # Pass"
   ]
  },
  {
   "cell_type": "code",
   "execution_count": 27,
   "id": "9f5d95c2-dec6-4cc0-8836-d4563fb146dc",
   "metadata": {
    "tags": []
   },
   "outputs": [],
   "source": [
    "# Add other hwth features (e.g., use coord to derive angle and interact with radiation)\n",
    "cols_to_skip = [\"datetime\", \"lat\", \"lon\", \"county\"]\n",
    "hwth_feats = [c for c in hwth.columns if c not in cols_to_skip]"
   ]
  },
  {
   "cell_type": "code",
   "execution_count": 28,
   "id": "19b9669c-32e3-4cb8-84c8-f9dd3b8a5f80",
   "metadata": {
    "tags": []
   },
   "outputs": [
    {
     "data": {
      "text/html": [
       "<div><style>\n",
       ".dataframe > thead > tr,\n",
       ".dataframe > tbody > tr {\n",
       "  text-align: right;\n",
       "  white-space: pre-wrap;\n",
       "}\n",
       "</style>\n",
       "<small>shape: (1, 16)</small><table border=\"1\" class=\"dataframe\"><thead><tr><th>county</th><th>datetime</th><th>temperature_local_mean_hist</th><th>dewpoint_local_mean_hist</th><th>rain_local_mean_hist</th><th>snowfall_local_mean_hist</th><th>surface_pressure_local_mean_hist</th><th>cloudcover_total_local_mean_hist</th><th>cloudcover_low_local_mean_hist</th><th>cloudcover_mid_local_mean_hist</th><th>cloudcover_high_local_mean_hist</th><th>windspeed_10m_local_mean_hist</th><th>winddirection_10m_local_mean_hist</th><th>shortwave_radiation_local_mean_hist</th><th>direct_solar_radiation_local_mean_hist</th><th>diffuse_radiation_local_mean_hist</th></tr><tr><td>i8</td><td>datetime[μs]</td><td>f32</td><td>f32</td><td>f32</td><td>f32</td><td>f32</td><td>f64</td><td>f64</td><td>f64</td><td>f64</td><td>f32</td><td>f64</td><td>f32</td><td>f32</td><td>f32</td></tr></thead><tbody><tr><td>4</td><td>2021-09-01 01:00:00</td><td>11.875</td><td>9.875</td><td>0.0</td><td>0.0</td><td>1004.950012</td><td>62.5</td><td>64.75</td><td>3.5</td><td>8.25</td><td>3.194444</td><td>326.5</td><td>0.0</td><td>0.0</td><td>0.0</td></tr></tbody></table></div>"
      ],
      "text/plain": [
       "shape: (1, 16)\n",
       "┌────────┬────────────┬────────────┬───────────┬───┬───────────┬───────────┬───────────┬───────────┐\n",
       "│ county ┆ datetime   ┆ temperatur ┆ dewpoint_ ┆ … ┆ winddirec ┆ shortwave ┆ direct_so ┆ diffuse_r │\n",
       "│ ---    ┆ ---        ┆ e_local_me ┆ local_mea ┆   ┆ tion_10m_ ┆ _radiatio ┆ lar_radia ┆ adiation_ │\n",
       "│ i8     ┆ datetime[μ ┆ an_hist    ┆ n_hist    ┆   ┆ local_mea ┆ n_local_m ┆ tion_loca ┆ local_mea │\n",
       "│        ┆ s]         ┆ ---        ┆ ---       ┆   ┆ n_his…    ┆ ean_h…    ┆ l_mea…    ┆ n_his…    │\n",
       "│        ┆            ┆ f32        ┆ f32       ┆   ┆ ---       ┆ ---       ┆ ---       ┆ ---       │\n",
       "│        ┆            ┆            ┆           ┆   ┆ f64       ┆ f32       ┆ f32       ┆ f32       │\n",
       "╞════════╪════════════╪════════════╪═══════════╪═══╪═══════════╪═══════════╪═══════════╪═══════════╡\n",
       "│ 4      ┆ 2021-09-01 ┆ 11.875     ┆ 9.875     ┆ … ┆ 326.5     ┆ 0.0       ┆ 0.0       ┆ 0.0       │\n",
       "│        ┆ 01:00:00   ┆            ┆           ┆   ┆           ┆           ┆           ┆           │\n",
       "└────────┴────────────┴────────────┴───────────┴───┴───────────┴───────────┴───────────┴───────────┘"
      ]
     },
     "metadata": {},
     "output_type": "display_data"
    }
   ],
   "source": [
    "# Which county, which predicting horiz\n",
    "agg_stats = [\n",
    "    *[pl.col(feat).mean().alias(f\"{feat}_local_mean_hist\") for feat in hwth_feats],\n",
    "    # ===\n",
    "    # Add other stats\n",
    "    # ===\n",
    "]\n",
    "hwth_stats_by_county = (\n",
    "    hwth\n",
    "    .filter(pl.col(\"county\").is_not_null())\n",
    "    .group_by(HWTH_LGP_KEYS)\n",
    "    .agg(agg_stats)\n",
    ")\n",
    "display(hwth_stats_by_county.head(1))"
   ]
  },
  {
   "cell_type": "code",
   "execution_count": 29,
   "id": "71168d81-39c5-4e5d-8b25-cbbf28d2464e",
   "metadata": {
    "tags": []
   },
   "outputs": [
    {
     "data": {
      "text/html": [
       "<div><style>\n",
       ".dataframe > thead > tr,\n",
       ".dataframe > tbody > tr {\n",
       "  text-align: right;\n",
       "  white-space: pre-wrap;\n",
       "}\n",
       "</style>\n",
       "<small>shape: (5, 15)</small><table border=\"1\" class=\"dataframe\"><thead><tr><th>datetime</th><th>temperature_global_mean_hist</th><th>dewpoint_global_mean_hist</th><th>rain_global_mean_hist</th><th>snowfall_global_mean_hist</th><th>surface_pressure_global_mean_hist</th><th>cloudcover_total_global_mean_hist</th><th>cloudcover_low_global_mean_hist</th><th>cloudcover_mid_global_mean_hist</th><th>cloudcover_high_global_mean_hist</th><th>windspeed_10m_global_mean_hist</th><th>winddirection_10m_global_mean_hist</th><th>shortwave_radiation_global_mean_hist</th><th>direct_solar_radiation_global_mean_hist</th><th>diffuse_radiation_global_mean_hist</th></tr><tr><td>datetime[μs]</td><td>f32</td><td>f32</td><td>f32</td><td>f32</td><td>f32</td><td>f64</td><td>f64</td><td>f64</td><td>f64</td><td>f32</td><td>f64</td><td>f32</td><td>f32</td><td>f32</td></tr></thead><tbody><tr><td>2023-01-04 14:00:00</td><td>-0.979091</td><td>-3.087273</td><td>0.002727</td><td>0.005727</td><td>1011.885498</td><td>88.345455</td><td>81.145455</td><td>5.872727</td><td>51.290909</td><td>2.608081</td><td>228.727273</td><td>51.136364</td><td>8.445455</td><td>42.69091</td></tr><tr><td>2022-06-13 22:00:00</td><td>13.760904</td><td>9.902726</td><td>0.0</td><td>0.0</td><td>1005.671021</td><td>34.136364</td><td>4.709091</td><td>5.072727</td><td>89.490909</td><td>2.835606</td><td>196.490909</td><td>2.236364</td><td>0.218182</td><td>2.018182</td></tr><tr><td>2021-10-30 02:00:00</td><td>8.086363</td><td>6.424544</td><td>0.0</td><td>0.0</td><td>1011.020935</td><td>47.8</td><td>42.927273</td><td>0.0</td><td>34.590909</td><td>5.175506</td><td>220.745455</td><td>0.0</td><td>0.0</td><td>0.0</td></tr><tr><td>2021-10-17 14:00:00</td><td>8.533635</td><td>1.422727</td><td>0.028182</td><td>0.0</td><td>1003.339966</td><td>28.454545</td><td>17.381818</td><td>20.990909</td><td>0.927273</td><td>6.004798</td><td>274.881818</td><td>260.418182</td><td>179.55455</td><td>80.86364</td></tr><tr><td>2022-08-31 00:00:00</td><td>12.851819</td><td>9.111819</td><td>0.045455</td><td>0.0</td><td>1012.987305</td><td>58.409091</td><td>49.054545</td><td>40.690909</td><td>2.536364</td><td>5.79899</td><td>88.436364</td><td>0.0</td><td>0.0</td><td>0.0</td></tr></tbody></table></div>"
      ],
      "text/plain": [
       "shape: (5, 15)\n",
       "┌───────────┬───────────┬───────────┬───────────┬───┬───────────┬───────────┬───────────┬──────────┐\n",
       "│ datetime  ┆ temperatu ┆ dewpoint_ ┆ rain_glob ┆ … ┆ winddirec ┆ shortwave ┆ direct_so ┆ diffuse_ │\n",
       "│ ---       ┆ re_global ┆ global_me ┆ al_mean_h ┆   ┆ tion_10m_ ┆ _radiatio ┆ lar_radia ┆ radiatio │\n",
       "│ datetime[ ┆ _mean_his ┆ an_hist   ┆ ist       ┆   ┆ global_me ┆ n_global_ ┆ tion_glob ┆ n_global │\n",
       "│ μs]       ┆ t         ┆ ---       ┆ ---       ┆   ┆ an_hi…    ┆ mean_…    ┆ al_me…    ┆ _mean_hi │\n",
       "│           ┆ ---       ┆ f32       ┆ f32       ┆   ┆ ---       ┆ ---       ┆ ---       ┆ …        │\n",
       "│           ┆ f32       ┆           ┆           ┆   ┆ f64       ┆ f32       ┆ f32       ┆ ---      │\n",
       "│           ┆           ┆           ┆           ┆   ┆           ┆           ┆           ┆ f32      │\n",
       "╞═══════════╪═══════════╪═══════════╪═══════════╪═══╪═══════════╪═══════════╪═══════════╪══════════╡\n",
       "│ 2023-01-0 ┆ -0.979091 ┆ -3.087273 ┆ 0.002727  ┆ … ┆ 228.72727 ┆ 51.136364 ┆ 8.445455  ┆ 42.69091 │\n",
       "│ 4         ┆           ┆           ┆           ┆   ┆ 3         ┆           ┆           ┆          │\n",
       "│ 14:00:00  ┆           ┆           ┆           ┆   ┆           ┆           ┆           ┆          │\n",
       "│ 2022-06-1 ┆ 13.760904 ┆ 9.902726  ┆ 0.0       ┆ … ┆ 196.49090 ┆ 2.236364  ┆ 0.218182  ┆ 2.018182 │\n",
       "│ 3         ┆           ┆           ┆           ┆   ┆ 9         ┆           ┆           ┆          │\n",
       "│ 22:00:00  ┆           ┆           ┆           ┆   ┆           ┆           ┆           ┆          │\n",
       "│ 2021-10-3 ┆ 8.086363  ┆ 6.424544  ┆ 0.0       ┆ … ┆ 220.74545 ┆ 0.0       ┆ 0.0       ┆ 0.0      │\n",
       "│ 0         ┆           ┆           ┆           ┆   ┆ 5         ┆           ┆           ┆          │\n",
       "│ 02:00:00  ┆           ┆           ┆           ┆   ┆           ┆           ┆           ┆          │\n",
       "│ 2021-10-1 ┆ 8.533635  ┆ 1.422727  ┆ 0.028182  ┆ … ┆ 274.88181 ┆ 260.41818 ┆ 179.55455 ┆ 80.86364 │\n",
       "│ 7         ┆           ┆           ┆           ┆   ┆ 8         ┆ 2         ┆           ┆          │\n",
       "│ 14:00:00  ┆           ┆           ┆           ┆   ┆           ┆           ┆           ┆          │\n",
       "│ 2022-08-3 ┆ 12.851819 ┆ 9.111819  ┆ 0.045455  ┆ … ┆ 88.436364 ┆ 0.0       ┆ 0.0       ┆ 0.0      │\n",
       "│ 1         ┆           ┆           ┆           ┆   ┆           ┆           ┆           ┆          │\n",
       "│ 00:00:00  ┆           ┆           ┆           ┆   ┆           ┆           ┆           ┆          │\n",
       "└───────────┴───────────┴───────────┴───────────┴───┴───────────┴───────────┴───────────┴──────────┘"
      ]
     },
     "execution_count": 29,
     "metadata": {},
     "output_type": "execute_result"
    }
   ],
   "source": [
    "agg_stats = [\n",
    "    *[pl.col(feat).mean().alias(f\"{feat}_global_mean_hist\") for feat in hwth_feats],\n",
    "    # ===\n",
    "    # Add other stats\n",
    "    # ===\n",
    "]\n",
    "hwth_stats = (\n",
    "    hwth\n",
    "    # ===\n",
    "    # Filter non-null county or not\n",
    "    # ===\n",
    "    .group_by(HWTH_GGP_KEYS)\n",
    "    .agg(agg_stats)\n",
    ")\n",
    "\n",
    "hwth_stats.head()"
   ]
  },
  {
   "cell_type": "code",
   "execution_count": 30,
   "id": "fd55d6f9-abca-49f8-a54b-72d6f27e0270",
   "metadata": {
    "tags": []
   },
   "outputs": [
    {
     "data": {
      "text/html": [
       "<div><style>\n",
       ".dataframe > thead > tr,\n",
       ".dataframe > tbody > tr {\n",
       "  text-align: right;\n",
       "  white-space: pre-wrap;\n",
       "}\n",
       "</style>\n",
       "<small>shape: (2, 63)</small><table border=\"1\" class=\"dataframe\"><thead><tr><th>county</th><th>is_business</th><th>product_type</th><th>target</th><th>is_consumption</th><th>datetime</th><th>row_id</th><th>prediction_unit_id</th><th>date</th><th>eic_count_lag2d</th><th>installed_capacity_lag2d</th><th>temperature_local_mean</th><th>dewpoint_local_mean</th><th>cloudcover_high_local_mean</th><th>cloudcover_low_local_mean</th><th>cloudcover_mid_local_mean</th><th>cloudcover_total_local_mean</th><th>10_metre_u_wind_component_local_mean</th><th>10_metre_v_wind_component_local_mean</th><th>direct_solar_radiation_local_mean</th><th>surface_solar_radiation_downwards_local_mean</th><th>snowfall_local_mean</th><th>total_precipitation_local_mean</th><th>temperature_global_mean</th><th>dewpoint_global_mean</th><th>cloudcover_high_global_mean</th><th>cloudcover_low_global_mean</th><th>cloudcover_mid_global_mean</th><th>cloudcover_total_global_mean</th><th>10_metre_u_wind_component_global_mean</th><th>10_metre_v_wind_component_global_mean</th><th>direct_solar_radiation_global_mean</th><th>surface_solar_radiation_downwards_global_mean</th><th>snowfall_global_mean</th><th>total_precipitation_global_mean</th><th>temperature_local_mean_hist_lag2d</th><th>dewpoint_local_mean_hist_lag2d</th><th>rain_local_mean_hist_lag2d</th><th>snowfall_local_mean_hist_lag2d</th><th>surface_pressure_local_mean_hist_lag2d</th><th>cloudcover_total_local_mean_hist_lag2d</th><th>cloudcover_low_local_mean_hist_lag2d</th><th>cloudcover_mid_local_mean_hist_lag2d</th><th>cloudcover_high_local_mean_hist_lag2d</th><th>windspeed_10m_local_mean_hist_lag2d</th><th>winddirection_10m_local_mean_hist_lag2d</th><th>shortwave_radiation_local_mean_hist_lag2d</th><th>direct_solar_radiation_local_mean_hist_lag2d</th><th>diffuse_radiation_local_mean_hist_lag2d</th><th>temperature_global_mean_hist_lag2d</th><th>dewpoint_global_mean_hist_lag2d</th><th>rain_global_mean_hist_lag2d</th><th>snowfall_global_mean_hist_lag2d</th><th>surface_pressure_global_mean_hist_lag2d</th><th>cloudcover_total_global_mean_hist_lag2d</th><th>cloudcover_low_global_mean_hist_lag2d</th><th>cloudcover_mid_global_mean_hist_lag2d</th><th>cloudcover_high_global_mean_hist_lag2d</th><th>windspeed_10m_global_mean_hist_lag2d</th><th>winddirection_10m_global_mean_hist_lag2d</th><th>shortwave_radiation_global_mean_hist_lag2d</th><th>direct_solar_radiation_global_mean_hist_lag2d</th><th>diffuse_radiation_global_mean_hist_lag2d</th></tr><tr><td>i8</td><td>i8</td><td>i8</td><td>f32</td><td>i8</td><td>datetime[μs]</td><td>i32</td><td>i8</td><td>date</td><td>i16</td><td>f32</td><td>f32</td><td>f32</td><td>f32</td><td>f32</td><td>f32</td><td>f32</td><td>f32</td><td>f32</td><td>f32</td><td>f32</td><td>f32</td><td>f32</td><td>f32</td><td>f32</td><td>f32</td><td>f32</td><td>f32</td><td>f32</td><td>f32</td><td>f32</td><td>f32</td><td>f32</td><td>f32</td><td>f32</td><td>f32</td><td>f32</td><td>f32</td><td>f32</td><td>f32</td><td>f64</td><td>f64</td><td>f64</td><td>f64</td><td>f32</td><td>f64</td><td>f32</td><td>f32</td><td>f32</td><td>f32</td><td>f32</td><td>f32</td><td>f32</td><td>f32</td><td>f64</td><td>f64</td><td>f64</td><td>f64</td><td>f32</td><td>f64</td><td>f32</td><td>f32</td><td>f32</td></tr></thead><tbody><tr><td>0</td><td>0</td><td>1</td><td>0.713</td><td>0</td><td>2021-09-01 00:00:00</td><td>0</td><td>0</td><td>2021-09-01</td><td>null</td><td>null</td><td>null</td><td>null</td><td>null</td><td>null</td><td>null</td><td>null</td><td>null</td><td>null</td><td>null</td><td>null</td><td>null</td><td>null</td><td>null</td><td>null</td><td>null</td><td>null</td><td>null</td><td>null</td><td>null</td><td>null</td><td>null</td><td>null</td><td>null</td><td>null</td><td>null</td><td>null</td><td>null</td><td>null</td><td>null</td><td>null</td><td>null</td><td>null</td><td>null</td><td>null</td><td>null</td><td>null</td><td>null</td><td>null</td><td>null</td><td>null</td><td>null</td><td>null</td><td>null</td><td>null</td><td>null</td><td>null</td><td>null</td><td>null</td><td>null</td><td>null</td><td>null</td><td>null</td></tr><tr><td>0</td><td>0</td><td>1</td><td>96.589996</td><td>1</td><td>2021-09-01 00:00:00</td><td>1</td><td>0</td><td>2021-09-01</td><td>null</td><td>null</td><td>null</td><td>null</td><td>null</td><td>null</td><td>null</td><td>null</td><td>null</td><td>null</td><td>null</td><td>null</td><td>null</td><td>null</td><td>null</td><td>null</td><td>null</td><td>null</td><td>null</td><td>null</td><td>null</td><td>null</td><td>null</td><td>null</td><td>null</td><td>null</td><td>null</td><td>null</td><td>null</td><td>null</td><td>null</td><td>null</td><td>null</td><td>null</td><td>null</td><td>null</td><td>null</td><td>null</td><td>null</td><td>null</td><td>null</td><td>null</td><td>null</td><td>null</td><td>null</td><td>null</td><td>null</td><td>null</td><td>null</td><td>null</td><td>null</td><td>null</td><td>null</td><td>null</td></tr></tbody></table></div>"
      ],
      "text/plain": [
       "shape: (2, 63)\n",
       "┌────────┬────────────┬────────────┬───────────┬───┬───────────┬───────────┬───────────┬───────────┐\n",
       "│ county ┆ is_busines ┆ product_ty ┆ target    ┆ … ┆ winddirec ┆ shortwave ┆ direct_so ┆ diffuse_r │\n",
       "│ ---    ┆ s          ┆ pe         ┆ ---       ┆   ┆ tion_10m_ ┆ _radiatio ┆ lar_radia ┆ adiation_ │\n",
       "│ i8     ┆ ---        ┆ ---        ┆ f32       ┆   ┆ global_me ┆ n_global_ ┆ tion_glob ┆ global_me │\n",
       "│        ┆ i8         ┆ i8         ┆           ┆   ┆ an_hi…    ┆ mean_…    ┆ al_me…    ┆ an_hi…    │\n",
       "│        ┆            ┆            ┆           ┆   ┆ ---       ┆ ---       ┆ ---       ┆ ---       │\n",
       "│        ┆            ┆            ┆           ┆   ┆ f64       ┆ f32       ┆ f32       ┆ f32       │\n",
       "╞════════╪════════════╪════════════╪═══════════╪═══╪═══════════╪═══════════╪═══════════╪═══════════╡\n",
       "│ 0      ┆ 0          ┆ 1          ┆ 0.713     ┆ … ┆ null      ┆ null      ┆ null      ┆ null      │\n",
       "│ 0      ┆ 0          ┆ 1          ┆ 96.589996 ┆ … ┆ null      ┆ null      ┆ null      ┆ null      │\n",
       "└────────┴────────────┴────────────┴───────────┴───┴───────────┴───────────┴───────────┴───────────┘"
      ]
     },
     "execution_count": 30,
     "metadata": {},
     "output_type": "execute_result"
    }
   ],
   "source": [
    "hwth_l_stats = [c for c in hwth_stats_by_county.columns if c.endswith(\"_local_mean_hist\")]\n",
    "hwth_g_stats = [c for c in hwth_stats.columns if c.endswith(\"_global_mean_hist\")]\n",
    "\n",
    "train, hwth_l_feats = _shift_and_join(\n",
    "    train, \n",
    "    hwth_stats_by_county, \n",
    "    join_keys=HWTH_LGP_KEYS, \n",
    "    dt_col=\"datetime\",\n",
    "    feats=hwth_l_stats,\n",
    "    shift_amt=\"2d\"\n",
    ")\n",
    "train, hwth_g_feats = _shift_and_join(\n",
    "    train,\n",
    "    hwth_stats,\n",
    "    join_keys=HWTH_GGP_KEYS, \n",
    "    dt_col=\"datetime\", \n",
    "    feats=hwth_g_stats,\n",
    "    shift_amt=\"2d\"\n",
    ")\n",
    "\n",
    "fillnul_exprs = _get_fillnul_exprs(hwth_l_feats, hwth_g_feats)\n",
    "train = train.with_columns(fillnul_exprs)\n",
    "train.head(2)"
   ]
  },
  {
   "cell_type": "code",
   "execution_count": 31,
   "id": "8808971a-24ab-402a-8e3d-45462aebd29f",
   "metadata": {
    "tags": []
   },
   "outputs": [
    {
     "data": {
      "text/html": [
       "<div><style>\n",
       ".dataframe > thead > tr,\n",
       ".dataframe > tbody > tr {\n",
       "  text-align: right;\n",
       "  white-space: pre-wrap;\n",
       "}\n",
       "</style>\n",
       "<small>shape: (1, 28)</small><table border=\"1\" class=\"dataframe\"><thead><tr><th>temperature_local_mean_hist_lag2d</th><th>dewpoint_local_mean_hist_lag2d</th><th>rain_local_mean_hist_lag2d</th><th>snowfall_local_mean_hist_lag2d</th><th>surface_pressure_local_mean_hist_lag2d</th><th>cloudcover_total_local_mean_hist_lag2d</th><th>cloudcover_low_local_mean_hist_lag2d</th><th>cloudcover_mid_local_mean_hist_lag2d</th><th>cloudcover_high_local_mean_hist_lag2d</th><th>windspeed_10m_local_mean_hist_lag2d</th><th>winddirection_10m_local_mean_hist_lag2d</th><th>shortwave_radiation_local_mean_hist_lag2d</th><th>direct_solar_radiation_local_mean_hist_lag2d</th><th>diffuse_radiation_local_mean_hist_lag2d</th><th>temperature_global_mean_hist_lag2d</th><th>dewpoint_global_mean_hist_lag2d</th><th>rain_global_mean_hist_lag2d</th><th>snowfall_global_mean_hist_lag2d</th><th>surface_pressure_global_mean_hist_lag2d</th><th>cloudcover_total_global_mean_hist_lag2d</th><th>cloudcover_low_global_mean_hist_lag2d</th><th>cloudcover_mid_global_mean_hist_lag2d</th><th>cloudcover_high_global_mean_hist_lag2d</th><th>windspeed_10m_global_mean_hist_lag2d</th><th>winddirection_10m_global_mean_hist_lag2d</th><th>shortwave_radiation_global_mean_hist_lag2d</th><th>direct_solar_radiation_global_mean_hist_lag2d</th><th>diffuse_radiation_global_mean_hist_lag2d</th></tr><tr><td>f64</td><td>f64</td><td>f64</td><td>f64</td><td>f64</td><td>f64</td><td>f64</td><td>f64</td><td>f64</td><td>f64</td><td>f64</td><td>f64</td><td>f64</td><td>f64</td><td>f64</td><td>f64</td><td>f64</td><td>f64</td><td>f64</td><td>f64</td><td>f64</td><td>f64</td><td>f64</td><td>f64</td><td>f64</td><td>f64</td><td>f64</td><td>f64</td></tr></thead><tbody><tr><td>0.002901</td><td>0.002901</td><td>0.002901</td><td>0.002901</td><td>0.002901</td><td>0.002901</td><td>0.002901</td><td>0.002901</td><td>0.002901</td><td>0.002901</td><td>0.002901</td><td>0.002901</td><td>0.002901</td><td>0.002901</td><td>0.002901</td><td>0.002901</td><td>0.002901</td><td>0.002901</td><td>0.002901</td><td>0.002901</td><td>0.002901</td><td>0.002901</td><td>0.002901</td><td>0.002901</td><td>0.002901</td><td>0.002901</td><td>0.002901</td><td>0.002901</td></tr></tbody></table></div>"
      ],
      "text/plain": [
       "shape: (1, 28)\n",
       "┌───────────┬───────────┬───────────┬───────────┬───┬───────────┬───────────┬───────────┬──────────┐\n",
       "│ temperatu ┆ dewpoint_ ┆ rain_loca ┆ snowfall_ ┆ … ┆ winddirec ┆ shortwave ┆ direct_so ┆ diffuse_ │\n",
       "│ re_local_ ┆ local_mea ┆ l_mean_hi ┆ local_mea ┆   ┆ tion_10m_ ┆ _radiatio ┆ lar_radia ┆ radiatio │\n",
       "│ mean_hist ┆ n_hist_la ┆ st_lag2d  ┆ n_hist_la ┆   ┆ global_me ┆ n_global_ ┆ tion_glob ┆ n_global │\n",
       "│ _lag2…    ┆ g2d       ┆ ---       ┆ g2d       ┆   ┆ an_hi…    ┆ mean_…    ┆ al_me…    ┆ _mean_hi │\n",
       "│ ---       ┆ ---       ┆ f64       ┆ ---       ┆   ┆ ---       ┆ ---       ┆ ---       ┆ …        │\n",
       "│ f64       ┆ f64       ┆           ┆ f64       ┆   ┆ f64       ┆ f64       ┆ f64       ┆ ---      │\n",
       "│           ┆           ┆           ┆           ┆   ┆           ┆           ┆           ┆ f64      │\n",
       "╞═══════════╪═══════════╪═══════════╪═══════════╪═══╪═══════════╪═══════════╪═══════════╪══════════╡\n",
       "│ 0.002901  ┆ 0.002901  ┆ 0.002901  ┆ 0.002901  ┆ … ┆ 0.002901  ┆ 0.002901  ┆ 0.002901  ┆ 0.002901 │\n",
       "└───────────┴───────────┴───────────┴───────────┴───┴───────────┴───────────┴───────────┴──────────┘"
      ]
     },
     "execution_count": 31,
     "metadata": {},
     "output_type": "execute_result"
    }
   ],
   "source": [
    "train.select(hwth_l_feats+hwth_g_feats).null_count() / len(train)"
   ]
  },
  {
   "cell_type": "markdown",
   "id": "c1886452-3b37-4ffe-b8ec-4d788d73dc6b",
   "metadata": {
    "jp-MarkdownHeadingCollapsed": true,
    "tags": []
   },
   "source": [
    "### *Elec*\n",
    "<div class=\"alert alert-block alert-warning\">\n",
    "    Postponed...\n",
    "</div>"
   ]
  },
  {
   "cell_type": "code",
   "execution_count": 35,
   "id": "e3851e0c-16b1-4dc7-ad6d-88cc17781737",
   "metadata": {
    "tags": []
   },
   "outputs": [
    {
     "data": {
      "text/html": [
       "<div><style>\n",
       ".dataframe > thead > tr,\n",
       ".dataframe > tbody > tr {\n",
       "  text-align: right;\n",
       "  white-space: pre-wrap;\n",
       "}\n",
       "</style>\n",
       "<small>shape: (5, 4)</small><table border=\"1\" class=\"dataframe\"><thead><tr><th>forecast_date</th><th>euros_per_mwh</th><th>origin_date</th><th>data_block_id</th></tr><tr><td>datetime[μs]</td><td>f32</td><td>datetime[μs]</td><td>i16</td></tr></thead><tbody><tr><td>2021-09-01 00:00:00</td><td>92.510002</td><td>2021-08-31 00:00:00</td><td>1</td></tr><tr><td>2021-09-01 01:00:00</td><td>88.900002</td><td>2021-08-31 01:00:00</td><td>1</td></tr><tr><td>2021-09-01 02:00:00</td><td>87.349998</td><td>2021-08-31 02:00:00</td><td>1</td></tr><tr><td>2021-09-01 03:00:00</td><td>86.879997</td><td>2021-08-31 03:00:00</td><td>1</td></tr><tr><td>2021-09-01 04:00:00</td><td>88.43</td><td>2021-08-31 04:00:00</td><td>1</td></tr></tbody></table></div>"
      ],
      "text/plain": [
       "shape: (5, 4)\n",
       "┌─────────────────────┬───────────────┬─────────────────────┬───────────────┐\n",
       "│ forecast_date       ┆ euros_per_mwh ┆ origin_date         ┆ data_block_id │\n",
       "│ ---                 ┆ ---           ┆ ---                 ┆ ---           │\n",
       "│ datetime[μs]        ┆ f32           ┆ datetime[μs]        ┆ i16           │\n",
       "╞═════════════════════╪═══════════════╪═════════════════════╪═══════════════╡\n",
       "│ 2021-09-01 00:00:00 ┆ 92.510002     ┆ 2021-08-31 00:00:00 ┆ 1             │\n",
       "│ 2021-09-01 01:00:00 ┆ 88.900002     ┆ 2021-08-31 01:00:00 ┆ 1             │\n",
       "│ 2021-09-01 02:00:00 ┆ 87.349998     ┆ 2021-08-31 02:00:00 ┆ 1             │\n",
       "│ 2021-09-01 03:00:00 ┆ 86.879997     ┆ 2021-08-31 03:00:00 ┆ 1             │\n",
       "│ 2021-09-01 04:00:00 ┆ 88.43         ┆ 2021-08-31 04:00:00 ┆ 1             │\n",
       "└─────────────────────┴───────────────┴─────────────────────┴───────────────┘"
      ]
     },
     "execution_count": 35,
     "metadata": {},
     "output_type": "execute_result"
    }
   ],
   "source": [
    "elec.head()"
   ]
  },
  {
   "cell_type": "markdown",
   "id": "d39dfca8-1e5f-48e5-a6d7-775571b6e17e",
   "metadata": {},
   "source": [
    "### *Gas*\n",
    "<div class=\"alert alert-block alert-warning\">\n",
    "    Postponed...\n",
    "</div>"
   ]
  },
  {
   "cell_type": "markdown",
   "id": "a140c4db-dbaa-4d11-b79c-02dff33ceda0",
   "metadata": {
    "jp-MarkdownHeadingCollapsed": true,
    "tags": []
   },
   "source": [
    "### *Revealed Targets*"
   ]
  },
  {
   "cell_type": "code",
   "execution_count": 38,
   "id": "4e25f901-102a-4b46-9ec2-98893e8e62ff",
   "metadata": {
    "tags": []
   },
   "outputs": [
    {
     "data": {
      "text/plain": [
       "\u001b[0;31mSignature:\u001b[0m\n",
       "\u001b[0m_shift_and_join\u001b[0m\u001b[0;34m(\u001b[0m\u001b[0;34m\u001b[0m\n",
       "\u001b[0;34m\u001b[0m    \u001b[0mldf\u001b[0m\u001b[0;34m:\u001b[0m \u001b[0mUnion\u001b[0m\u001b[0;34m[\u001b[0m\u001b[0mpolars\u001b[0m\u001b[0;34m.\u001b[0m\u001b[0mdataframe\u001b[0m\u001b[0;34m.\u001b[0m\u001b[0mframe\u001b[0m\u001b[0;34m.\u001b[0m\u001b[0mDataFrame\u001b[0m\u001b[0;34m,\u001b[0m \u001b[0mpolars\u001b[0m\u001b[0;34m.\u001b[0m\u001b[0mlazyframe\u001b[0m\u001b[0;34m.\u001b[0m\u001b[0mframe\u001b[0m\u001b[0;34m.\u001b[0m\u001b[0mLazyFrame\u001b[0m\u001b[0;34m]\u001b[0m\u001b[0;34m,\u001b[0m\u001b[0;34m\u001b[0m\n",
       "\u001b[0;34m\u001b[0m    \u001b[0mrdf\u001b[0m\u001b[0;34m:\u001b[0m \u001b[0mUnion\u001b[0m\u001b[0;34m[\u001b[0m\u001b[0mpolars\u001b[0m\u001b[0;34m.\u001b[0m\u001b[0mdataframe\u001b[0m\u001b[0;34m.\u001b[0m\u001b[0mframe\u001b[0m\u001b[0;34m.\u001b[0m\u001b[0mDataFrame\u001b[0m\u001b[0;34m,\u001b[0m \u001b[0mpolars\u001b[0m\u001b[0;34m.\u001b[0m\u001b[0mlazyframe\u001b[0m\u001b[0;34m.\u001b[0m\u001b[0mframe\u001b[0m\u001b[0;34m.\u001b[0m\u001b[0mLazyFrame\u001b[0m\u001b[0;34m]\u001b[0m\u001b[0;34m,\u001b[0m\u001b[0;34m\u001b[0m\n",
       "\u001b[0;34m\u001b[0m    \u001b[0mjoin_keys\u001b[0m\u001b[0;34m:\u001b[0m \u001b[0mList\u001b[0m\u001b[0;34m[\u001b[0m\u001b[0mstr\u001b[0m\u001b[0;34m]\u001b[0m\u001b[0;34m,\u001b[0m\u001b[0;34m\u001b[0m\n",
       "\u001b[0;34m\u001b[0m    \u001b[0mdt_col\u001b[0m\u001b[0;34m:\u001b[0m \u001b[0mstr\u001b[0m\u001b[0;34m,\u001b[0m\u001b[0;34m\u001b[0m\n",
       "\u001b[0;34m\u001b[0m    \u001b[0mfeats\u001b[0m\u001b[0;34m:\u001b[0m \u001b[0mList\u001b[0m\u001b[0;34m[\u001b[0m\u001b[0mstr\u001b[0m\u001b[0;34m]\u001b[0m\u001b[0;34m,\u001b[0m\u001b[0;34m\u001b[0m\n",
       "\u001b[0;34m\u001b[0m    \u001b[0mshift_amt\u001b[0m\u001b[0;34m:\u001b[0m \u001b[0mstr\u001b[0m\u001b[0;34m,\u001b[0m\u001b[0;34m\u001b[0m\n",
       "\u001b[0;34m\u001b[0m\u001b[0;34m)\u001b[0m \u001b[0;34m->\u001b[0m \u001b[0mTuple\u001b[0m\u001b[0;34m[\u001b[0m\u001b[0mUnion\u001b[0m\u001b[0;34m[\u001b[0m\u001b[0mpolars\u001b[0m\u001b[0;34m.\u001b[0m\u001b[0mdataframe\u001b[0m\u001b[0;34m.\u001b[0m\u001b[0mframe\u001b[0m\u001b[0;34m.\u001b[0m\u001b[0mDataFrame\u001b[0m\u001b[0;34m,\u001b[0m \u001b[0mpolars\u001b[0m\u001b[0;34m.\u001b[0m\u001b[0mlazyframe\u001b[0m\u001b[0;34m.\u001b[0m\u001b[0mframe\u001b[0m\u001b[0;34m.\u001b[0m\u001b[0mLazyFrame\u001b[0m\u001b[0;34m]\u001b[0m\u001b[0;34m,\u001b[0m \u001b[0mList\u001b[0m\u001b[0;34m[\u001b[0m\u001b[0mstr\u001b[0m\u001b[0;34m]\u001b[0m\u001b[0;34m]\u001b[0m\u001b[0;34m\u001b[0m\u001b[0;34m\u001b[0m\u001b[0m\n",
       "\u001b[0;31mDocstring:\u001b[0m\n",
       "Perform DataFrame join with the shifted features.\n",
       "\n",
       "Left DataFrame is usually the main DataFrame, but this utility can\n",
       "also be used to extend multiple lookbacks of a homogeneous feat.\n",
       "\n",
       "Args:\n",
       "    ldf: left DataFrame, usually the main DataFrame\n",
       "    rdf: right DataFrame\n",
       "    join_keys: join keys\n",
       "    dt_col: datetime column, either \"datetime\" or \"date\"\n",
       "    feats: feature list\n",
       "    shift_amt: shift amount (e.g., 1h, 2d)\n",
       "        *Note: Only \"h\" and \"d\" are supported.\n",
       "    \n",
       "Returns:\n",
       "    df: joined DataFrame\n",
       "    new_feats: new feature list\n",
       "\u001b[0;31mFile:\u001b[0m      /tmp/ipykernel_7343/3964907816.py\n",
       "\u001b[0;31mType:\u001b[0m      function"
      ]
     },
     "metadata": {},
     "output_type": "display_data"
    }
   ],
   "source": [
    "?_shift_and_join"
   ]
  },
  {
   "cell_type": "code",
   "execution_count": 79,
   "id": "77693917-83a8-4ce6-aab4-d68cb2514245",
   "metadata": {
    "tags": []
   },
   "outputs": [],
   "source": [
    "class RevealedFeatFE(object):\n",
    "    \"\"\"Revealed feature engineer.\n",
    "    \n",
    "    Accept all features, including targets as features.\n",
    "    \n",
    "    Args:\n",
    "        base_df: base DataFrame, selecting used columns beforehand is\n",
    "            recommended (e.g., selecting `join_keys` + `base_feats`)\n",
    "        cross_pc: if True, use prod/cons revealed targets as features\n",
    "            for cons/prod\n",
    "            *Note: Only used when `base_feats` are targets themselves\n",
    "    \"\"\"\n",
    "    \n",
    "    def __init__(\n",
    "        self,\n",
    "        base_df: pl.DataFrame,\n",
    "        join_keys: List[str],\n",
    "        base_feats: List[str],\n",
    "        shift_amts: List[str],\n",
    "        dt_col: str = \"datetime\",\n",
    "        cross_pc: bool = False\n",
    "    ) -> None:\n",
    "        self.base_df = base_df\n",
    "        self.join_keys = join_keys\n",
    "        self.base_feats = base_feats\n",
    "        self.shift_amts = shift_amts\n",
    "        self.dt_col = dt_col\n",
    "        self.cross_pc = cross_pc\n",
    "        \n",
    "        self._feats = []\n",
    "        \n",
    "    @property\n",
    "    def feats(self) -> List[str]:\n",
    "        return self._feats\n",
    "    \n",
    "    def run(self) -> pl.LazyFrame:\n",
    "        \"\"\"Run revealed feature engineering.\n",
    "        \n",
    "        Returns:\n",
    "            revealed_df: DataFrame containing revealed features\n",
    "        \"\"\"\n",
    "        df_raw = self.base_df.lazy()\n",
    "        df_lookback = self.base_df.lazy()\n",
    "        df_lookback = df_lookback.drop(self.base_feats)\n",
    "\n",
    "        for shift_amt in self.shift_amts:\n",
    "            df_lookback, new_feats = _shift_and_join(\n",
    "                df_lookback, \n",
    "                df_raw,\n",
    "                self.join_keys,\n",
    "                self.dt_col,\n",
    "                self.base_feats,\n",
    "                shift_amt=shift_amt\n",
    "            )\n",
    "            self._feats.extend(new_feats)\n",
    "\n",
    "        if self.cross_pc:\n",
    "            # Prod/Cons long to wide\n",
    "            df_yp_lookback = df_lookback.filter(pl.col(\"is_consumption\") == 0)\n",
    "            df_yc_lookback = df_lookback.filter(pl.col(\"is_consumption\") == 1)\n",
    "            df_lookback = (\n",
    "                df_yp_lookback\n",
    "                .join(df_yc_lookback, on=[\"datetime\", UNIT_ID_COL], suffix=\"_cons\")\n",
    "                .rename({feat: f\"{feat}_prod\" for feat in self.feats})\n",
    "                .drop([\"is_consumption\", \"is_consumption_cons\"])\n",
    "            )\n",
    "            tgt_col_prefix = \"|\".join([f\"{tgt_col}_lag\" for tgt_col in self.base_feats])\n",
    "            # ===\n",
    "            # Be careful for inference\n",
    "            self._feats = [c for c in df_lookback.columns if re.search(f\"{tgt_col_prefix}.*\", c)]\n",
    "            # ===\n",
    "            \n",
    "        return df_lookback"
   ]
  },
  {
   "cell_type": "markdown",
   "id": "801cb60c-5154-4905-82ce-1469bb827d44",
   "metadata": {},
   "source": [
    "<div class=\"alert alert-block alert-danger\">\n",
    "    <p>We can also use target divided by <strong>the exact cap and eic</strong>, because they're available. The difference is just the way we interpret the features.</p>\n",
    "</div>"
   ]
  },
  {
   "cell_type": "code",
   "execution_count": 39,
   "id": "d5f6f30e-06bd-4c54-8973-5b7b39feedb5",
   "metadata": {
    "tags": []
   },
   "outputs": [
    {
     "data": {
      "text/html": [
       "<div><style>\n",
       ".dataframe > thead > tr,\n",
       ".dataframe > tbody > tr {\n",
       "  text-align: right;\n",
       "  white-space: pre-wrap;\n",
       "}\n",
       "</style>\n",
       "<small>shape: (5, 65)</small><table border=\"1\" class=\"dataframe\"><thead><tr><th>county</th><th>is_business</th><th>product_type</th><th>target</th><th>is_consumption</th><th>datetime</th><th>row_id</th><th>prediction_unit_id</th><th>date</th><th>eic_count_lag2d</th><th>installed_capacity_lag2d</th><th>temperature_local_mean</th><th>dewpoint_local_mean</th><th>cloudcover_high_local_mean</th><th>cloudcover_low_local_mean</th><th>cloudcover_mid_local_mean</th><th>cloudcover_total_local_mean</th><th>10_metre_u_wind_component_local_mean</th><th>10_metre_v_wind_component_local_mean</th><th>direct_solar_radiation_local_mean</th><th>surface_solar_radiation_downwards_local_mean</th><th>snowfall_local_mean</th><th>total_precipitation_local_mean</th><th>temperature_global_mean</th><th>dewpoint_global_mean</th><th>cloudcover_high_global_mean</th><th>cloudcover_low_global_mean</th><th>cloudcover_mid_global_mean</th><th>cloudcover_total_global_mean</th><th>10_metre_u_wind_component_global_mean</th><th>10_metre_v_wind_component_global_mean</th><th>direct_solar_radiation_global_mean</th><th>surface_solar_radiation_downwards_global_mean</th><th>snowfall_global_mean</th><th>total_precipitation_global_mean</th><th>temperature_local_mean_hist_lag2d</th><th>dewpoint_local_mean_hist_lag2d</th><th>rain_local_mean_hist_lag2d</th><th>snowfall_local_mean_hist_lag2d</th><th>surface_pressure_local_mean_hist_lag2d</th><th>cloudcover_total_local_mean_hist_lag2d</th><th>cloudcover_low_local_mean_hist_lag2d</th><th>cloudcover_mid_local_mean_hist_lag2d</th><th>cloudcover_high_local_mean_hist_lag2d</th><th>windspeed_10m_local_mean_hist_lag2d</th><th>winddirection_10m_local_mean_hist_lag2d</th><th>shortwave_radiation_local_mean_hist_lag2d</th><th>direct_solar_radiation_local_mean_hist_lag2d</th><th>diffuse_radiation_local_mean_hist_lag2d</th><th>temperature_global_mean_hist_lag2d</th><th>dewpoint_global_mean_hist_lag2d</th><th>rain_global_mean_hist_lag2d</th><th>snowfall_global_mean_hist_lag2d</th><th>surface_pressure_global_mean_hist_lag2d</th><th>cloudcover_total_global_mean_hist_lag2d</th><th>cloudcover_low_global_mean_hist_lag2d</th><th>cloudcover_mid_global_mean_hist_lag2d</th><th>cloudcover_high_global_mean_hist_lag2d</th><th>windspeed_10m_global_mean_hist_lag2d</th><th>winddirection_10m_global_mean_hist_lag2d</th><th>shortwave_radiation_global_mean_hist_lag2d</th><th>direct_solar_radiation_global_mean_hist_lag2d</th><th>diffuse_radiation_global_mean_hist_lag2d</th><th>target_div_cap_lag2d</th><th>target_div_eic_lag2d</th></tr><tr><td>i8</td><td>i8</td><td>i8</td><td>f32</td><td>i8</td><td>datetime[μs]</td><td>i32</td><td>i8</td><td>date</td><td>i16</td><td>f32</td><td>f32</td><td>f32</td><td>f32</td><td>f32</td><td>f32</td><td>f32</td><td>f32</td><td>f32</td><td>f32</td><td>f32</td><td>f32</td><td>f32</td><td>f32</td><td>f32</td><td>f32</td><td>f32</td><td>f32</td><td>f32</td><td>f32</td><td>f32</td><td>f32</td><td>f32</td><td>f32</td><td>f32</td><td>f32</td><td>f32</td><td>f32</td><td>f32</td><td>f32</td><td>f64</td><td>f64</td><td>f64</td><td>f64</td><td>f32</td><td>f64</td><td>f32</td><td>f32</td><td>f32</td><td>f32</td><td>f32</td><td>f32</td><td>f32</td><td>f32</td><td>f64</td><td>f64</td><td>f64</td><td>f64</td><td>f32</td><td>f64</td><td>f32</td><td>f32</td><td>f32</td><td>f32</td><td>f32</td></tr></thead><tbody><tr><td>0</td><td>0</td><td>1</td><td>0.713</td><td>0</td><td>2021-09-01 00:00:00</td><td>0</td><td>0</td><td>2021-09-01</td><td>null</td><td>null</td><td>null</td><td>null</td><td>null</td><td>null</td><td>null</td><td>null</td><td>null</td><td>null</td><td>null</td><td>null</td><td>null</td><td>null</td><td>null</td><td>null</td><td>null</td><td>null</td><td>null</td><td>null</td><td>null</td><td>null</td><td>null</td><td>null</td><td>null</td><td>null</td><td>null</td><td>null</td><td>null</td><td>null</td><td>null</td><td>null</td><td>null</td><td>null</td><td>null</td><td>null</td><td>null</td><td>null</td><td>null</td><td>null</td><td>null</td><td>null</td><td>null</td><td>null</td><td>null</td><td>null</td><td>null</td><td>null</td><td>null</td><td>null</td><td>null</td><td>null</td><td>null</td><td>null</td><td>null</td><td>null</td></tr><tr><td>0</td><td>0</td><td>1</td><td>96.589996</td><td>1</td><td>2021-09-01 00:00:00</td><td>1</td><td>0</td><td>2021-09-01</td><td>null</td><td>null</td><td>null</td><td>null</td><td>null</td><td>null</td><td>null</td><td>null</td><td>null</td><td>null</td><td>null</td><td>null</td><td>null</td><td>null</td><td>null</td><td>null</td><td>null</td><td>null</td><td>null</td><td>null</td><td>null</td><td>null</td><td>null</td><td>null</td><td>null</td><td>null</td><td>null</td><td>null</td><td>null</td><td>null</td><td>null</td><td>null</td><td>null</td><td>null</td><td>null</td><td>null</td><td>null</td><td>null</td><td>null</td><td>null</td><td>null</td><td>null</td><td>null</td><td>null</td><td>null</td><td>null</td><td>null</td><td>null</td><td>null</td><td>null</td><td>null</td><td>null</td><td>null</td><td>null</td><td>null</td><td>null</td></tr><tr><td>0</td><td>0</td><td>2</td><td>0.0</td><td>0</td><td>2021-09-01 00:00:00</td><td>2</td><td>1</td><td>2021-09-01</td><td>null</td><td>null</td><td>null</td><td>null</td><td>null</td><td>null</td><td>null</td><td>null</td><td>null</td><td>null</td><td>null</td><td>null</td><td>null</td><td>null</td><td>null</td><td>null</td><td>null</td><td>null</td><td>null</td><td>null</td><td>null</td><td>null</td><td>null</td><td>null</td><td>null</td><td>null</td><td>null</td><td>null</td><td>null</td><td>null</td><td>null</td><td>null</td><td>null</td><td>null</td><td>null</td><td>null</td><td>null</td><td>null</td><td>null</td><td>null</td><td>null</td><td>null</td><td>null</td><td>null</td><td>null</td><td>null</td><td>null</td><td>null</td><td>null</td><td>null</td><td>null</td><td>null</td><td>null</td><td>null</td><td>null</td><td>null</td></tr><tr><td>0</td><td>0</td><td>2</td><td>17.313999</td><td>1</td><td>2021-09-01 00:00:00</td><td>3</td><td>1</td><td>2021-09-01</td><td>null</td><td>null</td><td>null</td><td>null</td><td>null</td><td>null</td><td>null</td><td>null</td><td>null</td><td>null</td><td>null</td><td>null</td><td>null</td><td>null</td><td>null</td><td>null</td><td>null</td><td>null</td><td>null</td><td>null</td><td>null</td><td>null</td><td>null</td><td>null</td><td>null</td><td>null</td><td>null</td><td>null</td><td>null</td><td>null</td><td>null</td><td>null</td><td>null</td><td>null</td><td>null</td><td>null</td><td>null</td><td>null</td><td>null</td><td>null</td><td>null</td><td>null</td><td>null</td><td>null</td><td>null</td><td>null</td><td>null</td><td>null</td><td>null</td><td>null</td><td>null</td><td>null</td><td>null</td><td>null</td><td>null</td><td>null</td></tr><tr><td>0</td><td>0</td><td>3</td><td>2.904</td><td>0</td><td>2021-09-01 00:00:00</td><td>4</td><td>2</td><td>2021-09-01</td><td>null</td><td>null</td><td>null</td><td>null</td><td>null</td><td>null</td><td>null</td><td>null</td><td>null</td><td>null</td><td>null</td><td>null</td><td>null</td><td>null</td><td>null</td><td>null</td><td>null</td><td>null</td><td>null</td><td>null</td><td>null</td><td>null</td><td>null</td><td>null</td><td>null</td><td>null</td><td>null</td><td>null</td><td>null</td><td>null</td><td>null</td><td>null</td><td>null</td><td>null</td><td>null</td><td>null</td><td>null</td><td>null</td><td>null</td><td>null</td><td>null</td><td>null</td><td>null</td><td>null</td><td>null</td><td>null</td><td>null</td><td>null</td><td>null</td><td>null</td><td>null</td><td>null</td><td>null</td><td>null</td><td>null</td><td>null</td></tr></tbody></table></div>"
      ],
      "text/plain": [
       "shape: (5, 65)\n",
       "┌────────┬────────────┬────────────┬───────────┬───┬───────────┬───────────┬───────────┬───────────┐\n",
       "│ county ┆ is_busines ┆ product_ty ┆ target    ┆ … ┆ direct_so ┆ diffuse_r ┆ target_di ┆ target_di │\n",
       "│ ---    ┆ s          ┆ pe         ┆ ---       ┆   ┆ lar_radia ┆ adiation_ ┆ v_cap_lag ┆ v_eic_lag │\n",
       "│ i8     ┆ ---        ┆ ---        ┆ f32       ┆   ┆ tion_glob ┆ global_me ┆ 2d        ┆ 2d        │\n",
       "│        ┆ i8         ┆ i8         ┆           ┆   ┆ al_me…    ┆ an_hi…    ┆ ---       ┆ ---       │\n",
       "│        ┆            ┆            ┆           ┆   ┆ ---       ┆ ---       ┆ f32       ┆ f32       │\n",
       "│        ┆            ┆            ┆           ┆   ┆ f32       ┆ f32       ┆           ┆           │\n",
       "╞════════╪════════════╪════════════╪═══════════╪═══╪═══════════╪═══════════╪═══════════╪═══════════╡\n",
       "│ 0      ┆ 0          ┆ 1          ┆ 0.713     ┆ … ┆ null      ┆ null      ┆ null      ┆ null      │\n",
       "│ 0      ┆ 0          ┆ 1          ┆ 96.589996 ┆ … ┆ null      ┆ null      ┆ null      ┆ null      │\n",
       "│ 0      ┆ 0          ┆ 2          ┆ 0.0       ┆ … ┆ null      ┆ null      ┆ null      ┆ null      │\n",
       "│ 0      ┆ 0          ┆ 2          ┆ 17.313999 ┆ … ┆ null      ┆ null      ┆ null      ┆ null      │\n",
       "│ 0      ┆ 0          ┆ 3          ┆ 2.904     ┆ … ┆ null      ┆ null      ┆ null      ┆ null      │\n",
       "└────────┴────────────┴────────────┴───────────┴───┴───────────┴───────────┴───────────┴───────────┘"
      ]
     },
     "execution_count": 39,
     "metadata": {},
     "output_type": "execute_result"
    }
   ],
   "source": [
    "train = train.with_columns([\n",
    "    (pl.col(\"target\") / pl.col(\"installed_capacity_lag2d\")).alias(\"target_div_cap_lag2d\"),\n",
    "    (pl.col(\"target\") / pl.col(\"eic_count_lag2d\")).alias(\"target_div_eic_lag2d\")\n",
    "])\n",
    "train.head()"
   ]
  },
  {
   "cell_type": "code",
   "execution_count": 80,
   "id": "31883ced-9cc1-4ca9-9ad4-1557d352f3a3",
   "metadata": {
    "tags": []
   },
   "outputs": [
    {
     "data": {
      "text/plain": [
       "\u001b[0;31mInit signature:\u001b[0m\n",
       "\u001b[0mRevealedFeatFE\u001b[0m\u001b[0;34m(\u001b[0m\u001b[0;34m\u001b[0m\n",
       "\u001b[0;34m\u001b[0m    \u001b[0mbase_df\u001b[0m\u001b[0;34m:\u001b[0m \u001b[0mpolars\u001b[0m\u001b[0;34m.\u001b[0m\u001b[0mdataframe\u001b[0m\u001b[0;34m.\u001b[0m\u001b[0mframe\u001b[0m\u001b[0;34m.\u001b[0m\u001b[0mDataFrame\u001b[0m\u001b[0;34m,\u001b[0m\u001b[0;34m\u001b[0m\n",
       "\u001b[0;34m\u001b[0m    \u001b[0mjoin_keys\u001b[0m\u001b[0;34m:\u001b[0m \u001b[0mList\u001b[0m\u001b[0;34m[\u001b[0m\u001b[0mstr\u001b[0m\u001b[0;34m]\u001b[0m\u001b[0;34m,\u001b[0m\u001b[0;34m\u001b[0m\n",
       "\u001b[0;34m\u001b[0m    \u001b[0mbase_feats\u001b[0m\u001b[0;34m:\u001b[0m \u001b[0mList\u001b[0m\u001b[0;34m[\u001b[0m\u001b[0mstr\u001b[0m\u001b[0;34m]\u001b[0m\u001b[0;34m,\u001b[0m\u001b[0;34m\u001b[0m\n",
       "\u001b[0;34m\u001b[0m    \u001b[0mshift_amts\u001b[0m\u001b[0;34m:\u001b[0m \u001b[0mList\u001b[0m\u001b[0;34m[\u001b[0m\u001b[0mstr\u001b[0m\u001b[0;34m]\u001b[0m\u001b[0;34m,\u001b[0m\u001b[0;34m\u001b[0m\n",
       "\u001b[0;34m\u001b[0m    \u001b[0mdt_col\u001b[0m\u001b[0;34m:\u001b[0m \u001b[0mstr\u001b[0m \u001b[0;34m=\u001b[0m \u001b[0;34m'datetime'\u001b[0m\u001b[0;34m,\u001b[0m\u001b[0;34m\u001b[0m\n",
       "\u001b[0;34m\u001b[0m    \u001b[0mcross_pc\u001b[0m\u001b[0;34m:\u001b[0m \u001b[0mbool\u001b[0m \u001b[0;34m=\u001b[0m \u001b[0;32mFalse\u001b[0m\u001b[0;34m,\u001b[0m\u001b[0;34m\u001b[0m\n",
       "\u001b[0;34m\u001b[0m\u001b[0;34m)\u001b[0m \u001b[0;34m->\u001b[0m \u001b[0;32mNone\u001b[0m\u001b[0;34m\u001b[0m\u001b[0;34m\u001b[0m\u001b[0m\n",
       "\u001b[0;31mDocstring:\u001b[0m     \n",
       "Revealed feature engineer.\n",
       "\n",
       "Accept all features, including targets as features.\n",
       "\n",
       "Args:\n",
       "    base_df: base DataFrame, selecting used columns beforehand is\n",
       "        recommended (e.g., selecting `join_keys` + `base_feats`)\n",
       "    cross_pc: if True, use prod/cons revealed targets as features\n",
       "        for cons/prod\n",
       "        *Note: Only used when `base_feats` are targets themselves\n",
       "\u001b[0;31mType:\u001b[0m           type\n",
       "\u001b[0;31mSubclasses:\u001b[0m     "
      ]
     },
     "metadata": {},
     "output_type": "display_data"
    }
   ],
   "source": [
    "?RevealedFeatFE"
   ]
  },
  {
   "cell_type": "code",
   "execution_count": 81,
   "id": "2ca2e203-6211-488c-a35b-b11a631332e7",
   "metadata": {
    "tags": []
   },
   "outputs": [
    {
     "data": {
      "text/plain": [
       "['prediction_unit_id', 'datetime', 'is_consumption']"
      ]
     },
     "execution_count": 81,
     "metadata": {},
     "output_type": "execute_result"
    }
   ],
   "source": [
    "REVEALED_TGT_JOIN_KEYS"
   ]
  },
  {
   "cell_type": "code",
   "execution_count": 82,
   "id": "30db05e5-ef79-4a9a-a7d3-9da5eb2e2a35",
   "metadata": {
    "tags": []
   },
   "outputs": [
    {
     "data": {
      "text/html": [
       "<div><style>\n",
       ".dataframe > thead > tr,\n",
       ".dataframe > tbody > tr {\n",
       "  text-align: right;\n",
       "  white-space: pre-wrap;\n",
       "}\n",
       "</style>\n",
       "<small>shape: (5, 4)</small><table border=\"1\" class=\"dataframe\"><thead><tr><th>prediction_unit_id</th><th>datetime</th><th>is_consumption</th><th>target</th></tr><tr><td>i8</td><td>datetime[μs]</td><td>i8</td><td>f32</td></tr></thead><tbody><tr><td>0</td><td>2021-09-01 00:00:00</td><td>0</td><td>0.713</td></tr><tr><td>0</td><td>2021-09-01 00:00:00</td><td>1</td><td>96.589996</td></tr><tr><td>1</td><td>2021-09-01 00:00:00</td><td>0</td><td>0.0</td></tr><tr><td>1</td><td>2021-09-01 00:00:00</td><td>1</td><td>17.313999</td></tr><tr><td>2</td><td>2021-09-01 00:00:00</td><td>0</td><td>2.904</td></tr></tbody></table></div>"
      ],
      "text/plain": [
       "shape: (5, 4)\n",
       "┌────────────────────┬─────────────────────┬────────────────┬───────────┐\n",
       "│ prediction_unit_id ┆ datetime            ┆ is_consumption ┆ target    │\n",
       "│ ---                ┆ ---                 ┆ ---            ┆ ---       │\n",
       "│ i8                 ┆ datetime[μs]        ┆ i8             ┆ f32       │\n",
       "╞════════════════════╪═════════════════════╪════════════════╪═══════════╡\n",
       "│ 0                  ┆ 2021-09-01 00:00:00 ┆ 0              ┆ 0.713     │\n",
       "│ 0                  ┆ 2021-09-01 00:00:00 ┆ 1              ┆ 96.589996 │\n",
       "│ 1                  ┆ 2021-09-01 00:00:00 ┆ 0              ┆ 0.0       │\n",
       "│ 1                  ┆ 2021-09-01 00:00:00 ┆ 1              ┆ 17.313999 │\n",
       "│ 2                  ┆ 2021-09-01 00:00:00 ┆ 0              ┆ 2.904     │\n",
       "└────────────────────┴─────────────────────┴────────────────┴───────────┘"
      ]
     },
     "execution_count": 82,
     "metadata": {},
     "output_type": "execute_result"
    }
   ],
   "source": [
    "train.select(join_keys + base_feats).head()"
   ]
  },
  {
   "cell_type": "code",
   "execution_count": 83,
   "id": "fe073240-fb11-491a-9383-7431c29f08d3",
   "metadata": {
    "collapsed": true,
    "jupyter": {
     "outputs_hidden": true
    },
    "tags": []
   },
   "outputs": [
    {
     "data": {
      "text/html": [
       "<div><style>\n",
       ".dataframe > thead > tr,\n",
       ".dataframe > tbody > tr {\n",
       "  text-align: right;\n",
       "  white-space: pre-wrap;\n",
       "}\n",
       "</style>\n",
       "<small>shape: (5, 101)</small><table border=\"1\" class=\"dataframe\"><thead><tr><th>county</th><th>is_business</th><th>product_type</th><th>target</th><th>is_consumption</th><th>datetime</th><th>row_id</th><th>prediction_unit_id</th><th>date</th><th>eic_count_lag2d</th><th>installed_capacity_lag2d</th><th>temperature_local_mean</th><th>dewpoint_local_mean</th><th>cloudcover_high_local_mean</th><th>cloudcover_low_local_mean</th><th>cloudcover_mid_local_mean</th><th>cloudcover_total_local_mean</th><th>10_metre_u_wind_component_local_mean</th><th>10_metre_v_wind_component_local_mean</th><th>direct_solar_radiation_local_mean</th><th>surface_solar_radiation_downwards_local_mean</th><th>snowfall_local_mean</th><th>total_precipitation_local_mean</th><th>temperature_global_mean</th><th>dewpoint_global_mean</th><th>cloudcover_high_global_mean</th><th>cloudcover_low_global_mean</th><th>cloudcover_mid_global_mean</th><th>cloudcover_total_global_mean</th><th>10_metre_u_wind_component_global_mean</th><th>10_metre_v_wind_component_global_mean</th><th>direct_solar_radiation_global_mean</th><th>surface_solar_radiation_downwards_global_mean</th><th>snowfall_global_mean</th><th>total_precipitation_global_mean</th><th>temperature_local_mean_hist_lag2d</th><th>dewpoint_local_mean_hist_lag2d</th><th>&hellip;</th><th>target_div_eic_lag2d</th><th>target_lag2d_prod</th><th>target_div_cap_lag2d_lag2d_prod</th><th>target_div_eic_lag2d_lag2d_prod</th><th>target_lag3d_prod</th><th>target_div_cap_lag2d_lag3d_prod</th><th>target_div_eic_lag2d_lag3d_prod</th><th>target_lag4d_prod</th><th>target_div_cap_lag2d_lag4d_prod</th><th>target_div_eic_lag2d_lag4d_prod</th><th>target_lag5d_prod</th><th>target_div_cap_lag2d_lag5d_prod</th><th>target_div_eic_lag2d_lag5d_prod</th><th>target_lag6d_prod</th><th>target_div_cap_lag2d_lag6d_prod</th><th>target_div_eic_lag2d_lag6d_prod</th><th>target_lag7d_prod</th><th>target_div_cap_lag2d_lag7d_prod</th><th>target_div_eic_lag2d_lag7d_prod</th><th>target_lag2d_cons</th><th>target_div_cap_lag2d_lag2d_cons</th><th>target_div_eic_lag2d_lag2d_cons</th><th>target_lag3d_cons</th><th>target_div_cap_lag2d_lag3d_cons</th><th>target_div_eic_lag2d_lag3d_cons</th><th>target_lag4d_cons</th><th>target_div_cap_lag2d_lag4d_cons</th><th>target_div_eic_lag2d_lag4d_cons</th><th>target_lag5d_cons</th><th>target_div_cap_lag2d_lag5d_cons</th><th>target_div_eic_lag2d_lag5d_cons</th><th>target_lag6d_cons</th><th>target_div_cap_lag2d_lag6d_cons</th><th>target_div_eic_lag2d_lag6d_cons</th><th>target_lag7d_cons</th><th>target_div_cap_lag2d_lag7d_cons</th><th>target_div_eic_lag2d_lag7d_cons</th></tr><tr><td>i8</td><td>i8</td><td>i8</td><td>f32</td><td>i8</td><td>datetime[μs]</td><td>i32</td><td>i8</td><td>date</td><td>i16</td><td>f32</td><td>f32</td><td>f32</td><td>f32</td><td>f32</td><td>f32</td><td>f32</td><td>f32</td><td>f32</td><td>f32</td><td>f32</td><td>f32</td><td>f32</td><td>f32</td><td>f32</td><td>f32</td><td>f32</td><td>f32</td><td>f32</td><td>f32</td><td>f32</td><td>f32</td><td>f32</td><td>f32</td><td>f32</td><td>f32</td><td>f32</td><td>&hellip;</td><td>f32</td><td>f32</td><td>f32</td><td>f32</td><td>f32</td><td>f32</td><td>f32</td><td>f32</td><td>f32</td><td>f32</td><td>f32</td><td>f32</td><td>f32</td><td>f32</td><td>f32</td><td>f32</td><td>f32</td><td>f32</td><td>f32</td><td>f32</td><td>f32</td><td>f32</td><td>f32</td><td>f32</td><td>f32</td><td>f32</td><td>f32</td><td>f32</td><td>f32</td><td>f32</td><td>f32</td><td>f32</td><td>f32</td><td>f32</td><td>f32</td><td>f32</td><td>f32</td></tr></thead><tbody><tr><td>0</td><td>0</td><td>1</td><td>0.713</td><td>0</td><td>2021-09-01 00:00:00</td><td>0</td><td>0</td><td>2021-09-01</td><td>null</td><td>null</td><td>null</td><td>null</td><td>null</td><td>null</td><td>null</td><td>null</td><td>null</td><td>null</td><td>null</td><td>null</td><td>null</td><td>null</td><td>null</td><td>null</td><td>null</td><td>null</td><td>null</td><td>null</td><td>null</td><td>null</td><td>null</td><td>null</td><td>null</td><td>null</td><td>null</td><td>null</td><td>&hellip;</td><td>null</td><td>null</td><td>null</td><td>null</td><td>null</td><td>null</td><td>null</td><td>null</td><td>null</td><td>null</td><td>null</td><td>null</td><td>null</td><td>null</td><td>null</td><td>null</td><td>null</td><td>null</td><td>null</td><td>null</td><td>null</td><td>null</td><td>null</td><td>null</td><td>null</td><td>null</td><td>null</td><td>null</td><td>null</td><td>null</td><td>null</td><td>null</td><td>null</td><td>null</td><td>null</td><td>null</td><td>null</td></tr><tr><td>0</td><td>0</td><td>1</td><td>96.589996</td><td>1</td><td>2021-09-01 00:00:00</td><td>1</td><td>0</td><td>2021-09-01</td><td>null</td><td>null</td><td>null</td><td>null</td><td>null</td><td>null</td><td>null</td><td>null</td><td>null</td><td>null</td><td>null</td><td>null</td><td>null</td><td>null</td><td>null</td><td>null</td><td>null</td><td>null</td><td>null</td><td>null</td><td>null</td><td>null</td><td>null</td><td>null</td><td>null</td><td>null</td><td>null</td><td>null</td><td>&hellip;</td><td>null</td><td>null</td><td>null</td><td>null</td><td>null</td><td>null</td><td>null</td><td>null</td><td>null</td><td>null</td><td>null</td><td>null</td><td>null</td><td>null</td><td>null</td><td>null</td><td>null</td><td>null</td><td>null</td><td>null</td><td>null</td><td>null</td><td>null</td><td>null</td><td>null</td><td>null</td><td>null</td><td>null</td><td>null</td><td>null</td><td>null</td><td>null</td><td>null</td><td>null</td><td>null</td><td>null</td><td>null</td></tr><tr><td>0</td><td>0</td><td>2</td><td>0.0</td><td>0</td><td>2021-09-01 00:00:00</td><td>2</td><td>1</td><td>2021-09-01</td><td>null</td><td>null</td><td>null</td><td>null</td><td>null</td><td>null</td><td>null</td><td>null</td><td>null</td><td>null</td><td>null</td><td>null</td><td>null</td><td>null</td><td>null</td><td>null</td><td>null</td><td>null</td><td>null</td><td>null</td><td>null</td><td>null</td><td>null</td><td>null</td><td>null</td><td>null</td><td>null</td><td>null</td><td>&hellip;</td><td>null</td><td>null</td><td>null</td><td>null</td><td>null</td><td>null</td><td>null</td><td>null</td><td>null</td><td>null</td><td>null</td><td>null</td><td>null</td><td>null</td><td>null</td><td>null</td><td>null</td><td>null</td><td>null</td><td>null</td><td>null</td><td>null</td><td>null</td><td>null</td><td>null</td><td>null</td><td>null</td><td>null</td><td>null</td><td>null</td><td>null</td><td>null</td><td>null</td><td>null</td><td>null</td><td>null</td><td>null</td></tr><tr><td>0</td><td>0</td><td>2</td><td>17.313999</td><td>1</td><td>2021-09-01 00:00:00</td><td>3</td><td>1</td><td>2021-09-01</td><td>null</td><td>null</td><td>null</td><td>null</td><td>null</td><td>null</td><td>null</td><td>null</td><td>null</td><td>null</td><td>null</td><td>null</td><td>null</td><td>null</td><td>null</td><td>null</td><td>null</td><td>null</td><td>null</td><td>null</td><td>null</td><td>null</td><td>null</td><td>null</td><td>null</td><td>null</td><td>null</td><td>null</td><td>&hellip;</td><td>null</td><td>null</td><td>null</td><td>null</td><td>null</td><td>null</td><td>null</td><td>null</td><td>null</td><td>null</td><td>null</td><td>null</td><td>null</td><td>null</td><td>null</td><td>null</td><td>null</td><td>null</td><td>null</td><td>null</td><td>null</td><td>null</td><td>null</td><td>null</td><td>null</td><td>null</td><td>null</td><td>null</td><td>null</td><td>null</td><td>null</td><td>null</td><td>null</td><td>null</td><td>null</td><td>null</td><td>null</td></tr><tr><td>0</td><td>0</td><td>3</td><td>2.904</td><td>0</td><td>2021-09-01 00:00:00</td><td>4</td><td>2</td><td>2021-09-01</td><td>null</td><td>null</td><td>null</td><td>null</td><td>null</td><td>null</td><td>null</td><td>null</td><td>null</td><td>null</td><td>null</td><td>null</td><td>null</td><td>null</td><td>null</td><td>null</td><td>null</td><td>null</td><td>null</td><td>null</td><td>null</td><td>null</td><td>null</td><td>null</td><td>null</td><td>null</td><td>null</td><td>null</td><td>&hellip;</td><td>null</td><td>null</td><td>null</td><td>null</td><td>null</td><td>null</td><td>null</td><td>null</td><td>null</td><td>null</td><td>null</td><td>null</td><td>null</td><td>null</td><td>null</td><td>null</td><td>null</td><td>null</td><td>null</td><td>null</td><td>null</td><td>null</td><td>null</td><td>null</td><td>null</td><td>null</td><td>null</td><td>null</td><td>null</td><td>null</td><td>null</td><td>null</td><td>null</td><td>null</td><td>null</td><td>null</td><td>null</td></tr></tbody></table></div>"
      ],
      "text/plain": [
       "shape: (5, 101)\n",
       "┌────────┬────────────┬────────────┬───────────┬───┬───────────┬───────────┬───────────┬───────────┐\n",
       "│ county ┆ is_busines ┆ product_ty ┆ target    ┆ … ┆ target_di ┆ target_la ┆ target_di ┆ target_di │\n",
       "│ ---    ┆ s          ┆ pe         ┆ ---       ┆   ┆ v_eic_lag ┆ g7d_cons  ┆ v_cap_lag ┆ v_eic_lag │\n",
       "│ i8     ┆ ---        ┆ ---        ┆ f32       ┆   ┆ 2d_lag6d_ ┆ ---       ┆ 2d_lag7d_ ┆ 2d_lag7d_ │\n",
       "│        ┆ i8         ┆ i8         ┆           ┆   ┆ cons      ┆ f32       ┆ cons      ┆ cons      │\n",
       "│        ┆            ┆            ┆           ┆   ┆ ---       ┆           ┆ ---       ┆ ---       │\n",
       "│        ┆            ┆            ┆           ┆   ┆ f32       ┆           ┆ f32       ┆ f32       │\n",
       "╞════════╪════════════╪════════════╪═══════════╪═══╪═══════════╪═══════════╪═══════════╪═══════════╡\n",
       "│ 0      ┆ 0          ┆ 1          ┆ 0.713     ┆ … ┆ null      ┆ null      ┆ null      ┆ null      │\n",
       "│ 0      ┆ 0          ┆ 1          ┆ 96.589996 ┆ … ┆ null      ┆ null      ┆ null      ┆ null      │\n",
       "│ 0      ┆ 0          ┆ 2          ┆ 0.0       ┆ … ┆ null      ┆ null      ┆ null      ┆ null      │\n",
       "│ 0      ┆ 0          ┆ 2          ┆ 17.313999 ┆ … ┆ null      ┆ null      ┆ null      ┆ null      │\n",
       "│ 0      ┆ 0          ┆ 3          ┆ 2.904     ┆ … ┆ null      ┆ null      ┆ null      ┆ null      │\n",
       "└────────┴────────────┴────────────┴───────────┴───┴───────────┴───────────┴───────────┴───────────┘"
      ]
     },
     "execution_count": 83,
     "metadata": {},
     "output_type": "execute_result"
    }
   ],
   "source": [
    "join_keys = REVEALED_TGT_JOIN_KEYS\n",
    "base_feats = [\"target\", \"target_div_cap_lag2d\", \"target_div_eic_lag2d\"]\n",
    "revealed_tgt_fe = RevealedFeatFE(\n",
    "    base_df=train.select(join_keys + base_feats),\n",
    "    join_keys=join_keys,\n",
    "    base_feats=base_feats,\n",
    "    shift_amts=[f\"{d}d\" for d in range(2, 8)],\n",
    "    dt_col=\"datetime\",\n",
    "    cross_pc=True\n",
    ")\n",
    "df_tmp = revealed_tgt_fe.run().collect()\n",
    "\n",
    "train = train.join(df_tmp, on=[UNIT_ID_COL, \"datetime\"], how=\"left\")\n",
    "train.head()"
   ]
  },
  {
   "cell_type": "markdown",
   "id": "ac29cdab-7149-4d38-812b-82201d12c62c",
   "metadata": {},
   "source": [
    "### *Time Identifiers*"
   ]
  },
  {
   "cell_type": "code",
   "execution_count": 25,
   "id": "b290b58f-7574-4717-86f7-7b59c855f4e8",
   "metadata": {
    "tags": []
   },
   "outputs": [],
   "source": [
    "holidays = pl.read_csv(\"./data/raw/open_src/holidays.csv\")\n",
    "if \"date\" not in train:\n",
    "    train = train.with_columns(pl.col(\"datetime\").dt.date().alias(\"date\"))"
   ]
  },
  {
   "cell_type": "code",
   "execution_count": 26,
   "id": "75a0d655-656c-4a6b-8446-8dba55898c20",
   "metadata": {
    "tags": []
   },
   "outputs": [],
   "source": [
    "tid_feats = [\n",
    "    pl.col(\"datetime\").dt.quarter().alias(\"quarter\"),\n",
    "    pl.col(\"datetime\").dt.month().alias(\"month\"),\n",
    "    pl.col(\"datetime\").dt.day().alias(\"day\"),\n",
    "    pl.col(\"datetime\").dt.weekday().alias(\"weekday\"),\n",
    "    pl.col(\"datetime\").dt.hour().alias(\"hour\"),\n",
    "    # ===\n",
    "    # Can convert to other encoding (e.g., sin/cos)\n",
    "    pl.col(\"datetime\").dt.ordinal_day().alias(\"dayofyear\"),\n",
    "    # ===\n",
    "]"
   ]
  },
  {
   "cell_type": "code",
   "execution_count": 27,
   "id": "159e0271-2861-4835-8c2b-db036158f56f",
   "metadata": {
    "tags": []
   },
   "outputs": [],
   "source": [
    "ds, de = datetime(2021, 9, 1), datetime(2024, 12, 31)\n",
    "date_range = [ds + timedelta(days=d) for d in range((de - ds).days + 1)]\n",
    "date_df = pl.DataFrame({\"date\": date_range}).with_columns(pl.col(\"date\").cast(pl.Date))\n",
    "holidays = (\n",
    "    holidays\n",
    "    .select([\"date\", \"holiday_type\"])\n",
    "    .with_columns(pl.col(\"date\").cast(pl.Date))\n",
    ")\n",
    "holidays = (\n",
    "    date_df\n",
    "    .join(holidays, on=\"date\", how=\"left\")\n",
    "    .fill_null(0)\n",
    "    .unique(subset=[\"date\"])\n",
    "    .rename({\"date\": \"holiday_date\"})\n",
    ")"
   ]
  },
  {
   "cell_type": "code",
   "execution_count": 28,
   "id": "4bdca4e7-1143-4eb6-8205-b1959e7e7418",
   "metadata": {
    "collapsed": true,
    "jupyter": {
     "outputs_hidden": true
    },
    "tags": []
   },
   "outputs": [
    {
     "data": {
      "text/html": [
       "<div><style>\n",
       ".dataframe > thead > tr,\n",
       ".dataframe > tbody > tr {\n",
       "  text-align: right;\n",
       "  white-space: pre-wrap;\n",
       "}\n",
       "</style>\n",
       "<small>shape: (5, 107)</small><table border=\"1\" class=\"dataframe\"><thead><tr><th>county</th><th>is_business</th><th>product_type</th><th>target</th><th>is_consumption</th><th>datetime</th><th>row_id</th><th>prediction_unit_id</th><th>eic_count_lag2d</th><th>installed_capacity_lag2d</th><th>temperature_local_mean</th><th>dewpoint_local_mean</th><th>cloudcover_high_local_mean</th><th>cloudcover_low_local_mean</th><th>cloudcover_mid_local_mean</th><th>cloudcover_total_local_mean</th><th>10_metre_u_wind_component_local_mean</th><th>10_metre_v_wind_component_local_mean</th><th>direct_solar_radiation_local_mean</th><th>surface_solar_radiation_downwards_local_mean</th><th>snowfall_local_mean</th><th>total_precipitation_local_mean</th><th>temperature_global_mean</th><th>dewpoint_global_mean</th><th>cloudcover_high_global_mean</th><th>cloudcover_low_global_mean</th><th>cloudcover_mid_global_mean</th><th>cloudcover_total_global_mean</th><th>10_metre_u_wind_component_global_mean</th><th>10_metre_v_wind_component_global_mean</th><th>direct_solar_radiation_global_mean</th><th>surface_solar_radiation_downwards_global_mean</th><th>snowfall_global_mean</th><th>total_precipitation_global_mean</th><th>temperature_local_mean_hist_lag2d</th><th>dewpoint_local_mean_hist_lag2d</th><th>rain_local_mean_hist_lag2d</th><th>&hellip;</th><th>target_lag4d_prod</th><th>target_div_cap_lag2d_lag4d_prod</th><th>target_div_eic_lag2d_lag4d_prod</th><th>target_lag5d_prod</th><th>target_div_cap_lag2d_lag5d_prod</th><th>target_div_eic_lag2d_lag5d_prod</th><th>target_lag6d_prod</th><th>target_div_cap_lag2d_lag6d_prod</th><th>target_div_eic_lag2d_lag6d_prod</th><th>target_lag7d_prod</th><th>target_div_cap_lag2d_lag7d_prod</th><th>target_div_eic_lag2d_lag7d_prod</th><th>target_lag2d_cons</th><th>target_div_cap_lag2d_lag2d_cons</th><th>target_div_eic_lag2d_lag2d_cons</th><th>target_lag3d_cons</th><th>target_div_cap_lag2d_lag3d_cons</th><th>target_div_eic_lag2d_lag3d_cons</th><th>target_lag4d_cons</th><th>target_div_cap_lag2d_lag4d_cons</th><th>target_div_eic_lag2d_lag4d_cons</th><th>target_lag5d_cons</th><th>target_div_cap_lag2d_lag5d_cons</th><th>target_div_eic_lag2d_lag5d_cons</th><th>target_lag6d_cons</th><th>target_div_cap_lag2d_lag6d_cons</th><th>target_div_eic_lag2d_lag6d_cons</th><th>target_lag7d_cons</th><th>target_div_cap_lag2d_lag7d_cons</th><th>target_div_eic_lag2d_lag7d_cons</th><th>quarter</th><th>month</th><th>day</th><th>weekday</th><th>hour</th><th>dayofyear</th><th>holiday_type</th></tr><tr><td>i8</td><td>i8</td><td>i8</td><td>f32</td><td>i8</td><td>datetime[μs]</td><td>i32</td><td>i8</td><td>i16</td><td>f32</td><td>f32</td><td>f32</td><td>f32</td><td>f32</td><td>f32</td><td>f32</td><td>f32</td><td>f32</td><td>f32</td><td>f32</td><td>f32</td><td>f32</td><td>f32</td><td>f32</td><td>f32</td><td>f32</td><td>f32</td><td>f32</td><td>f32</td><td>f32</td><td>f32</td><td>f32</td><td>f32</td><td>f32</td><td>f32</td><td>f32</td><td>f32</td><td>&hellip;</td><td>f32</td><td>f32</td><td>f32</td><td>f32</td><td>f32</td><td>f32</td><td>f32</td><td>f32</td><td>f32</td><td>f32</td><td>f32</td><td>f32</td><td>f32</td><td>f32</td><td>f32</td><td>f32</td><td>f32</td><td>f32</td><td>f32</td><td>f32</td><td>f32</td><td>f32</td><td>f32</td><td>f32</td><td>f32</td><td>f32</td><td>f32</td><td>f32</td><td>f32</td><td>f32</td><td>u32</td><td>u32</td><td>u32</td><td>u32</td><td>u32</td><td>u32</td><td>i64</td></tr></thead><tbody><tr><td>0</td><td>0</td><td>1</td><td>0.713</td><td>0</td><td>2021-09-01 00:00:00</td><td>0</td><td>0</td><td>null</td><td>null</td><td>null</td><td>null</td><td>null</td><td>null</td><td>null</td><td>null</td><td>null</td><td>null</td><td>null</td><td>null</td><td>null</td><td>null</td><td>null</td><td>null</td><td>null</td><td>null</td><td>null</td><td>null</td><td>null</td><td>null</td><td>null</td><td>null</td><td>null</td><td>null</td><td>null</td><td>null</td><td>null</td><td>&hellip;</td><td>null</td><td>null</td><td>null</td><td>null</td><td>null</td><td>null</td><td>null</td><td>null</td><td>null</td><td>null</td><td>null</td><td>null</td><td>null</td><td>null</td><td>null</td><td>null</td><td>null</td><td>null</td><td>null</td><td>null</td><td>null</td><td>null</td><td>null</td><td>null</td><td>null</td><td>null</td><td>null</td><td>null</td><td>null</td><td>null</td><td>3</td><td>9</td><td>1</td><td>3</td><td>0</td><td>244</td><td>0</td></tr><tr><td>0</td><td>0</td><td>1</td><td>96.589996</td><td>1</td><td>2021-09-01 00:00:00</td><td>1</td><td>0</td><td>null</td><td>null</td><td>null</td><td>null</td><td>null</td><td>null</td><td>null</td><td>null</td><td>null</td><td>null</td><td>null</td><td>null</td><td>null</td><td>null</td><td>null</td><td>null</td><td>null</td><td>null</td><td>null</td><td>null</td><td>null</td><td>null</td><td>null</td><td>null</td><td>null</td><td>null</td><td>null</td><td>null</td><td>null</td><td>&hellip;</td><td>null</td><td>null</td><td>null</td><td>null</td><td>null</td><td>null</td><td>null</td><td>null</td><td>null</td><td>null</td><td>null</td><td>null</td><td>null</td><td>null</td><td>null</td><td>null</td><td>null</td><td>null</td><td>null</td><td>null</td><td>null</td><td>null</td><td>null</td><td>null</td><td>null</td><td>null</td><td>null</td><td>null</td><td>null</td><td>null</td><td>3</td><td>9</td><td>1</td><td>3</td><td>0</td><td>244</td><td>0</td></tr><tr><td>0</td><td>0</td><td>2</td><td>0.0</td><td>0</td><td>2021-09-01 00:00:00</td><td>2</td><td>1</td><td>null</td><td>null</td><td>null</td><td>null</td><td>null</td><td>null</td><td>null</td><td>null</td><td>null</td><td>null</td><td>null</td><td>null</td><td>null</td><td>null</td><td>null</td><td>null</td><td>null</td><td>null</td><td>null</td><td>null</td><td>null</td><td>null</td><td>null</td><td>null</td><td>null</td><td>null</td><td>null</td><td>null</td><td>null</td><td>&hellip;</td><td>null</td><td>null</td><td>null</td><td>null</td><td>null</td><td>null</td><td>null</td><td>null</td><td>null</td><td>null</td><td>null</td><td>null</td><td>null</td><td>null</td><td>null</td><td>null</td><td>null</td><td>null</td><td>null</td><td>null</td><td>null</td><td>null</td><td>null</td><td>null</td><td>null</td><td>null</td><td>null</td><td>null</td><td>null</td><td>null</td><td>3</td><td>9</td><td>1</td><td>3</td><td>0</td><td>244</td><td>0</td></tr><tr><td>0</td><td>0</td><td>2</td><td>17.313999</td><td>1</td><td>2021-09-01 00:00:00</td><td>3</td><td>1</td><td>null</td><td>null</td><td>null</td><td>null</td><td>null</td><td>null</td><td>null</td><td>null</td><td>null</td><td>null</td><td>null</td><td>null</td><td>null</td><td>null</td><td>null</td><td>null</td><td>null</td><td>null</td><td>null</td><td>null</td><td>null</td><td>null</td><td>null</td><td>null</td><td>null</td><td>null</td><td>null</td><td>null</td><td>null</td><td>&hellip;</td><td>null</td><td>null</td><td>null</td><td>null</td><td>null</td><td>null</td><td>null</td><td>null</td><td>null</td><td>null</td><td>null</td><td>null</td><td>null</td><td>null</td><td>null</td><td>null</td><td>null</td><td>null</td><td>null</td><td>null</td><td>null</td><td>null</td><td>null</td><td>null</td><td>null</td><td>null</td><td>null</td><td>null</td><td>null</td><td>null</td><td>3</td><td>9</td><td>1</td><td>3</td><td>0</td><td>244</td><td>0</td></tr><tr><td>0</td><td>0</td><td>3</td><td>2.904</td><td>0</td><td>2021-09-01 00:00:00</td><td>4</td><td>2</td><td>null</td><td>null</td><td>null</td><td>null</td><td>null</td><td>null</td><td>null</td><td>null</td><td>null</td><td>null</td><td>null</td><td>null</td><td>null</td><td>null</td><td>null</td><td>null</td><td>null</td><td>null</td><td>null</td><td>null</td><td>null</td><td>null</td><td>null</td><td>null</td><td>null</td><td>null</td><td>null</td><td>null</td><td>null</td><td>&hellip;</td><td>null</td><td>null</td><td>null</td><td>null</td><td>null</td><td>null</td><td>null</td><td>null</td><td>null</td><td>null</td><td>null</td><td>null</td><td>null</td><td>null</td><td>null</td><td>null</td><td>null</td><td>null</td><td>null</td><td>null</td><td>null</td><td>null</td><td>null</td><td>null</td><td>null</td><td>null</td><td>null</td><td>null</td><td>null</td><td>null</td><td>3</td><td>9</td><td>1</td><td>3</td><td>0</td><td>244</td><td>0</td></tr></tbody></table></div>"
      ],
      "text/plain": [
       "shape: (5, 107)\n",
       "┌────────┬─────────────┬──────────────┬───────────┬───┬─────────┬──────┬───────────┬──────────────┐\n",
       "│ county ┆ is_business ┆ product_type ┆ target    ┆ … ┆ weekday ┆ hour ┆ dayofyear ┆ holiday_type │\n",
       "│ ---    ┆ ---         ┆ ---          ┆ ---       ┆   ┆ ---     ┆ ---  ┆ ---       ┆ ---          │\n",
       "│ i8     ┆ i8          ┆ i8           ┆ f32       ┆   ┆ u32     ┆ u32  ┆ u32       ┆ i64          │\n",
       "╞════════╪═════════════╪══════════════╪═══════════╪═══╪═════════╪══════╪═══════════╪══════════════╡\n",
       "│ 0      ┆ 0           ┆ 1            ┆ 0.713     ┆ … ┆ 3       ┆ 0    ┆ 244       ┆ 0            │\n",
       "│ 0      ┆ 0           ┆ 1            ┆ 96.589996 ┆ … ┆ 3       ┆ 0    ┆ 244       ┆ 0            │\n",
       "│ 0      ┆ 0           ┆ 2            ┆ 0.0       ┆ … ┆ 3       ┆ 0    ┆ 244       ┆ 0            │\n",
       "│ 0      ┆ 0           ┆ 2            ┆ 17.313999 ┆ … ┆ 3       ┆ 0    ┆ 244       ┆ 0            │\n",
       "│ 0      ┆ 0           ┆ 3            ┆ 2.904     ┆ … ┆ 3       ┆ 0    ┆ 244       ┆ 0            │\n",
       "└────────┴─────────────┴──────────────┴───────────┴───┴─────────┴──────┴───────────┴──────────────┘"
      ]
     },
     "execution_count": 28,
     "metadata": {},
     "output_type": "execute_result"
    }
   ],
   "source": [
    "train = (\n",
    "    train\n",
    "    .rename({\"date\": \"holiday_date\"})\n",
    "    .with_columns(tid_feats)\n",
    "    .join(holidays, on=[\"holiday_date\"], how=\"left\")\n",
    "    .drop(\"holiday_date\")\n",
    ")"
   ]
  },
  {
   "cell_type": "code",
   "execution_count": 29,
   "id": "e93a4239-be19-48b7-87a3-ee1c7b0c6005",
   "metadata": {
    "tags": []
   },
   "outputs": [],
   "source": [
    "train.write_parquet(\"./data/processed/data_eager_new.parquet\")"
   ]
  },
  {
   "cell_type": "markdown",
   "id": "fd03e28d-a529-42ec-a8c9-204a1052b563",
   "metadata": {},
   "source": [
    "## Feature Version Control"
   ]
  },
  {
   "cell_type": "code",
   "execution_count": null,
   "id": "e8cfc6be-d639-4e99-a1dc-38bd8881503e",
   "metadata": {},
   "outputs": [],
   "source": [
    "tid_feats = ['quarter', 'month', 'day', 'weekday', 'hour', 'dayofyear', \"holiday_type\"]"
   ]
  },
  {
   "cell_type": "code",
   "execution_count": 16,
   "id": "42af81b9-7335-45fa-8d0a-f758ed35c75f",
   "metadata": {
    "tags": []
   },
   "outputs": [],
   "source": [
    "num_feats = (\n",
    "    TGT_PK_COLS\n",
    "    + [f\"target_lag{d}_prod\" for d in range(2, 8)]\n",
    "    + [f\"target_lag{d}_cons\" for d in range(2, 8)]\n",
    "    + [c for c in train.columns if c.endswith(\"_local_mean\")]\n",
    "    + tid_feats\n",
    ")\n",
    "cat_feats = []\n",
    "feats = {\"num\": num_feats, \"cat\": cat_feats}\n",
    "\n",
    "with open(\"./data/processed/nv1.pkl\", \"wb\") as f:\n",
    "    pickle.dump(feats, f)"
   ]
  },
  {
   "cell_type": "code",
   "execution_count": null,
   "id": "8c0e00b2-7304-449d-94b4-f31646019f35",
   "metadata": {},
   "outputs": [],
   "source": []
  }
 ],
 "metadata": {
  "kernelspec": {
   "display_name": "kagg",
   "language": "python",
   "name": "kagg"
  },
  "language_info": {
   "codemirror_mode": {
    "name": "ipython",
    "version": 3
   },
   "file_extension": ".py",
   "mimetype": "text/x-python",
   "name": "python",
   "nbconvert_exporter": "python",
   "pygments_lexer": "ipython3",
   "version": "3.10.11"
  }
 },
 "nbformat": 4,
 "nbformat_minor": 5
}
